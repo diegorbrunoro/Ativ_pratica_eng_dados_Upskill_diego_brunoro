{
 "cells": [
  {
   "cell_type": "markdown",
   "metadata": {
    "application/vnd.databricks.v1+cell": {
     "cellMetadata": {},
     "inputWidgets": {},
     "nuid": "9799db2b-3f39-45be-8db1-ef56a4da35dd",
     "showTitle": false,
     "tableResultSettingsMap": {},
     "title": ""
    }
   },
   "source": [
    "## 1- ⚙️ Setup Inicial — Diretórios de Trabalho\n"
   ]
  },
  {
   "cell_type": "code",
   "execution_count": 4,
   "metadata": {
    "application/vnd.databricks.v1+cell": {
     "cellMetadata": {
      "byteLimit": 2048000,
      "rowLimit": 10000
     },
     "inputWidgets": {},
     "nuid": "7b4db442-df26-4c66-b712-37743f51f4d5",
     "showTitle": false,
     "tableResultSettingsMap": {},
     "title": ""
    }
   },
   "outputs": [
    {
     "name": "stdout",
     "output_type": "stream",
     "text": [
      "RAW_DIR: /tmp/pipeline_api/data/raw\n"
     ]
    }
   ],
   "source": [
    "import os\n",
    "\n",
    "BASE_DIR = \"/tmp/pipeline_api\"\n",
    "RAW_DIR = os.path.join(BASE_DIR, \"data\", \"raw\")\n",
    "os.makedirs(RAW_DIR, exist_ok=True)\n",
    "\n",
    "print(\"RAW_DIR:\", RAW_DIR)\n"
   ]
  },
  {
   "cell_type": "markdown",
   "metadata": {
    "application/vnd.databricks.v1+cell": {
     "cellMetadata": {},
     "inputWidgets": {},
     "nuid": "ea26d839-6aeb-47f7-a638-4eb12c77c2af",
     "showTitle": false,
     "tableResultSettingsMap": {},
     "title": ""
    }
   },
   "source": [
    "## 2- ⚙️ Configuração Inicial do Pipeline"
   ]
  },
  {
   "cell_type": "code",
   "execution_count": null,
   "metadata": {
    "application/vnd.databricks.v1+cell": {
     "cellMetadata": {
      "byteLimit": 2048000,
      "rowLimit": 10000
     },
     "inputWidgets": {},
     "nuid": "74c9f0d3-c389-4c9a-a776-c3f548aa1d7c",
     "showTitle": false,
     "tableResultSettingsMap": {},
     "title": ""
    }
   },
   "outputs": [
    {
     "name": "stdout",
     "output_type": "stream",
     "text": [
      "Exemplo de normalização: Brasília -> brasilia\n"
     ]
    }
   ],
   "source": [
    "# === Passo 2 — Configuração Inicial do Pipeline (27 capitais BR) ===\n",
    "import os, unicodedata, re\n",
    "from datetime import datetime, timezone\n",
    "from getpass import getpass   # para entrada segura\n",
    "\n",
    "# 🚨 Forma antiga (chumbada) — comentada para histórico\n",
    "# OPENWEATHER_KEY = \"-\"   # <- conexão antiga (não usar em produção)\n",
    "\n",
    "# ✅ Forma nova (segura) — pede a chave em tempo de execução\n",
    "OPENWEATHER_KEY = getpass(\"Cole sua OPENWEATHER_KEY: \")\n",
    "assert OPENWEATHER_KEY, \"Informe a chave\"\n",
    "\n",
    "\n",
    "# 27 capitais brasileiras (com acentos corretos)\n",
    "CAPITAIS_BR = [\n",
    "    \"Rio Branco\",\"Maceió\",\"Macapá\",\"Manaus\",\"Salvador\",\"Fortaleza\",\"Brasília\",\n",
    "    \"Vitória\",\"Goiânia\",\"São Luís\",\"Cuiabá\",\"Campo Grande\",\"Belo Horizonte\",\n",
    "    \"Belém\",\"João Pessoa\",\"Curitiba\",\"Recife\",\"Teresina\",\"Rio de Janeiro\",\n",
    "    \"Natal\",\"Porto Alegre\",\"Porto Velho\",\"Boa Vista\",\"Florianópolis\",\"São Paulo\",\n",
    "    \"Aracaju\",\"Palmas\"\n",
    "]\n",
    "\n",
    "# função auxiliar para normalizar (tirar acentos e baixar letras)\n",
    "def strip_accents(s: str) -> str:\n",
    "    if s is None: return s\n",
    "    s = unicodedata.normalize(\"NFKD\", s).encode(\"ascii\",\"ignore\").decode(\"utf-8\")\n",
    "    return s\n",
    "\n",
    "def city_key(s: str) -> str:\n",
    "    return strip_accents(s).strip().lower()\n",
    "\n",
    "# diretórios (usando a base do passo 1)\n",
    "BASE_DIR = \"/tmp/pipeline_api\"\n",
    "RAW_DIR  = os.path.join(BASE_DIR, \"data\", \"raw\")\n",
    "PROC_DIR = os.path.join(BASE_DIR, \"data\", \"processed\")\n",
    "REP_DIR  = os.path.join(BASE_DIR, \"data\", \"reports\")\n",
    "for p in [RAW_DIR, PROC_DIR, REP_DIR]:\n",
    "    os.makedirs(p, exist_ok=True)\n",
    "\n",
    "print(\"Exemplo de normalização:\", \"Brasília ->\", city_key(\"Brasília\"))\n"
   ]
  },
  {
   "cell_type": "markdown",
   "metadata": {
    "application/vnd.databricks.v1+cell": {
     "cellMetadata": {},
     "inputWidgets": {},
     "nuid": "6af2671c-0c79-4263-abb3-4c67858e5ad5",
     "showTitle": false,
     "tableResultSettingsMap": {},
     "title": ""
    }
   },
   "source": [
    "## 3- 🌤️ Extração — **OpenWeather (Current Weather)**"
   ]
  },
  {
   "cell_type": "code",
   "execution_count": 6,
   "metadata": {
    "application/vnd.databricks.v1+cell": {
     "cellMetadata": {
      "byteLimit": 2048000,
      "rowLimit": 10000
     },
     "inputWidgets": {},
     "nuid": "650c5f38-81f1-4ac7-9134-1f620c77822b",
     "showTitle": false,
     "tableResultSettingsMap": {},
     "title": ""
    }
   },
   "outputs": [
    {
     "name": "stdout",
     "output_type": "stream",
     "text": [
      "[OK] Rio Branco\n",
      "[OK] Maceió\n",
      "[OK] Macapá\n",
      "[OK] Manaus\n",
      "[OK] Salvador\n",
      "[OK] Fortaleza\n",
      "[OK] Brasília\n",
      "[OK] Vitória\n",
      "[OK] Goiânia\n",
      "[OK] São Luís\n",
      "[OK] Cuiabá\n",
      "[OK] Campo Grande\n",
      "[OK] Belo Horizonte\n",
      "[OK] Belém\n",
      "[OK] João Pessoa\n",
      "[OK] Curitiba\n",
      "[OK] Recife\n",
      "[OK] Teresina\n",
      "[OK] Rio de Janeiro\n",
      "[OK] Natal\n",
      "[OK] Porto Alegre\n",
      "[OK] Porto Velho\n",
      "[OK] Boa Vista\n",
      "[OK] Florianópolis\n",
      "[OK] São Paulo\n",
      "[OK] Aracaju\n",
      "[OK] Palmas\n",
      "\n",
      "Resumo OpenWeather: 27 OK | 0 falhas | ts=20250828_022901\n"
     ]
    }
   ],
   "source": [
    "# === Passo 3 — Extração OpenWeather (27 capitais BR) ===\n",
    "import time, json, requests\n",
    "\n",
    "assert OPENWEATHER_KEY, \"Defina OPENWEATHER_KEY\"\n",
    "assert CAPITAIS_BR, \"Lista de capitais vazia\"\n",
    "\n",
    "ts = datetime.now(timezone.utc).strftime(\"%Y%m%d_%H%M%S\")\n",
    "\n",
    "ok, fail = 0, 0\n",
    "for city in CAPITAIS_BR:\n",
    "    url = \"https://api.openweathermap.org/data/2.5/weather\"\n",
    "    params = {\"q\": f\"{city},BR\", \"appid\": OPENWEATHER_KEY}\n",
    "    try:\n",
    "        r = requests.get(url, params=params, timeout=20)\n",
    "        r.raise_for_status()\n",
    "        data = r.json()\n",
    "        safe_city = re.sub(r\"\\s+\", \"\", strip_accents(city))  # São Paulo -> SaoPaulo\n",
    "        fp = os.path.join(RAW_DIR, f\"weather_{safe_city}_{ts}.json\")\n",
    "        with open(fp, \"w\") as f:\n",
    "            json.dump(data, f)\n",
    "        print(f\"[OK] {city}\")\n",
    "        ok += 1\n",
    "    except Exception as e:\n",
    "        print(f\"[ERRO] {city}: {e}\")\n",
    "        fail += 1\n",
    "    time.sleep(1)  # respeita limite da free tier (60/min)\n",
    "\n",
    "print(f\"\\nResumo OpenWeather: {ok} OK | {fail} falhas | ts={ts}\")"
   ]
  },
  {
   "cell_type": "markdown",
   "metadata": {
    "application/vnd.databricks.v1+cell": {
     "cellMetadata": {},
     "inputWidgets": {},
     "nuid": "9db557b3-691b-4ede-86c8-dab1a2e2a1b8",
     "showTitle": false,
     "tableResultSettingsMap": {},
     "title": ""
    }
   },
   "source": [
    "## 4- 🧪 Transformação — **OpenWeather** → Tabela Curada + **Parquet particionado**"
   ]
  },
  {
   "cell_type": "code",
   "execution_count": 7,
   "metadata": {
    "application/vnd.databricks.v1+cell": {
     "cellMetadata": {
      "byteLimit": 2048000,
      "rowLimit": 10000
     },
     "inputWidgets": {},
     "nuid": "a3bb4b2a-dfe9-4565-89f2-68df09b7c012",
     "showTitle": false,
     "tableResultSettingsMap": {},
     "title": ""
    }
   },
   "outputs": [
    {
     "data": {
      "text/html": [
       "<div>\n",
       "<style scoped>\n",
       "    .dataframe tbody tr th:only-of-type {\n",
       "        vertical-align: middle;\n",
       "    }\n",
       "\n",
       "    .dataframe tbody tr th {\n",
       "        vertical-align: top;\n",
       "    }\n",
       "\n",
       "    .dataframe thead th {\n",
       "        text-align: right;\n",
       "    }\n",
       "</style>\n",
       "<table border=\"1\" class=\"dataframe\">\n",
       "  <thead>\n",
       "    <tr style=\"text-align: right;\">\n",
       "      <th></th>\n",
       "      <th>city</th>\n",
       "      <th>city_key</th>\n",
       "      <th>timestamp</th>\n",
       "      <th>temperature_c</th>\n",
       "      <th>humidity</th>\n",
       "      <th>humidity_category</th>\n",
       "      <th>timestamp_year</th>\n",
       "      <th>timestamp_month</th>\n",
       "    </tr>\n",
       "  </thead>\n",
       "  <tbody>\n",
       "    <tr>\n",
       "      <th>0</th>\n",
       "      <td>Aracaju</td>\n",
       "      <td>aracaju</td>\n",
       "      <td>2025-08-28 02:25:09+00:00</td>\n",
       "      <td>23.97</td>\n",
       "      <td>88</td>\n",
       "      <td>High</td>\n",
       "      <td>2025</td>\n",
       "      <td>8</td>\n",
       "    </tr>\n",
       "    <tr>\n",
       "      <th>1</th>\n",
       "      <td>Belém</td>\n",
       "      <td>belem</td>\n",
       "      <td>2025-08-28 02:27:02+00:00</td>\n",
       "      <td>26.02</td>\n",
       "      <td>89</td>\n",
       "      <td>High</td>\n",
       "      <td>2025</td>\n",
       "      <td>8</td>\n",
       "    </tr>\n",
       "    <tr>\n",
       "      <th>2</th>\n",
       "      <td>Belo Horizonte</td>\n",
       "      <td>belo horizonte</td>\n",
       "      <td>2025-08-28 02:29:07+00:00</td>\n",
       "      <td>20.24</td>\n",
       "      <td>58</td>\n",
       "      <td>Moderate</td>\n",
       "      <td>2025</td>\n",
       "      <td>8</td>\n",
       "    </tr>\n",
       "    <tr>\n",
       "      <th>3</th>\n",
       "      <td>Boa Vista</td>\n",
       "      <td>boa vista</td>\n",
       "      <td>2025-08-28 02:25:11+00:00</td>\n",
       "      <td>27.99</td>\n",
       "      <td>74</td>\n",
       "      <td>High</td>\n",
       "      <td>2025</td>\n",
       "      <td>8</td>\n",
       "    </tr>\n",
       "    <tr>\n",
       "      <th>4</th>\n",
       "      <td>Brasília</td>\n",
       "      <td>brasilia</td>\n",
       "      <td>2025-08-28 02:28:24+00:00</td>\n",
       "      <td>22.51</td>\n",
       "      <td>38</td>\n",
       "      <td>Low</td>\n",
       "      <td>2025</td>\n",
       "      <td>8</td>\n",
       "    </tr>\n",
       "  </tbody>\n",
       "</table>\n",
       "</div>"
      ],
      "text/plain": [
       "             city        city_key                 timestamp  temperature_c  \\\n",
       "0         Aracaju         aracaju 2025-08-28 02:25:09+00:00          23.97   \n",
       "1           Belém           belem 2025-08-28 02:27:02+00:00          26.02   \n",
       "2  Belo Horizonte  belo horizonte 2025-08-28 02:29:07+00:00          20.24   \n",
       "3       Boa Vista       boa vista 2025-08-28 02:25:11+00:00          27.99   \n",
       "4        Brasília        brasilia 2025-08-28 02:28:24+00:00          22.51   \n",
       "\n",
       "   humidity humidity_category  timestamp_year  timestamp_month  \n",
       "0        88              High            2025                8  \n",
       "1        89              High            2025                8  \n",
       "2        58          Moderate            2025                8  \n",
       "3        74              High            2025                8  \n",
       "4        38               Low            2025                8  "
      ]
     },
     "metadata": {},
     "output_type": "display_data"
    },
    {
     "name": "stdout",
     "output_type": "stream",
     "text": [
      "Weather parquet salvo em: /tmp/pipeline_api/data/processed/weather_only.parquet\n"
     ]
    }
   ],
   "source": [
    "# === Passo 4 — Transformação Weather ===\n",
    "import glob, json\n",
    "import pandas as pd\n",
    "from pandas import json_normalize\n",
    "import pyarrow as pa\n",
    "import pyarrow.dataset as ds\n",
    "import shutil\n",
    "\n",
    "# localizar arquivos do último ts\n",
    "weather_files = sorted(glob.glob(os.path.join(RAW_DIR, f\"weather_*_{ts}.json\")))\n",
    "assert weather_files, \"Nenhum weather_* encontrado para este ts.\"\n",
    "\n",
    "rows = []\n",
    "for fp in weather_files:\n",
    "    with open(fp, \"r\") as f:\n",
    "        rows.append(json.load(f))\n",
    "wdf = json_normalize(rows)\n",
    "\n",
    "# 5 transformações mínimas\n",
    "wdf = wdf.dropna(subset=[\"dt\",\"main.temp\",\"main.humidity\",\"name\"])\n",
    "wdf[\"timestamp\"] = pd.to_datetime(wdf[\"dt\"], unit=\"s\", utc=True)\n",
    "wdf[\"temperature_c\"] = wdf[\"main.temp\"] - 273.15\n",
    "wdf[\"humidity\"] = wdf[\"main.humidity\"].astype(\"Int64\")\n",
    "wdf[\"city\"] = wdf[\"name\"].astype(str).str.strip()\n",
    "wdf[\"city_key\"] = wdf[\"city\"].apply(city_key)\n",
    "\n",
    "def hum_cat(x):\n",
    "    if pd.isna(x): return None\n",
    "    x = int(x)\n",
    "    if x < 40: return \"Low\"\n",
    "    if x < 70: return \"Moderate\"\n",
    "    return \"High\"\n",
    "wdf[\"humidity_category\"] = wdf[\"humidity\"].map(hum_cat)\n",
    "\n",
    "wdf[\"timestamp_year\"] = wdf[\"timestamp\"].dt.year\n",
    "wdf[\"timestamp_month\"] = wdf[\"timestamp\"].dt.month\n",
    "\n",
    "weather_curated = wdf[[\n",
    "    \"city\",\"city_key\",\"timestamp\",\"temperature_c\",\"humidity\",\"humidity_category\",\n",
    "    \"timestamp_year\",\"timestamp_month\"\n",
    "]]\n",
    "\n",
    "display(weather_curated.head())\n",
    "\n",
    "OUT_WEATHER = os.path.join(PROC_DIR, \"weather_only.parquet\")\n",
    "if os.path.exists(OUT_WEATHER): shutil.rmtree(OUT_WEATHER)\n",
    "os.makedirs(OUT_WEATHER, exist_ok=True)\n",
    "\n",
    "pa_tbl = pa.Table.from_pandas(weather_curated, preserve_index=False)\n",
    "ds.write_dataset(pa_tbl, base_dir=OUT_WEATHER, format=\"parquet\",\n",
    "                 partitioning=[\"timestamp_year\",\"timestamp_month\"])\n",
    "\n",
    "print(\"Weather parquet salvo em:\", OUT_WEATHER)\n"
   ]
  },
  {
   "cell_type": "markdown",
   "metadata": {
    "application/vnd.databricks.v1+cell": {
     "cellMetadata": {},
     "inputWidgets": {},
     "nuid": "34a160ec-0465-4317-a9de-b783dbc67a72",
     "showTitle": false,
     "tableResultSettingsMap": {},
     "title": ""
    }
   },
   "source": [
    "## 5- ✅ **Quality Check — `weather_only.parquet`**"
   ]
  },
  {
   "cell_type": "code",
   "execution_count": 8,
   "metadata": {
    "application/vnd.databricks.v1+cell": {
     "cellMetadata": {
      "byteLimit": 2048000,
      "rowLimit": 10000
     },
     "inputWidgets": {},
     "nuid": "31f510f0-ce5e-4d99-9854-c775a38f5a67",
     "showTitle": false,
     "tableResultSettingsMap": {},
     "title": ""
    }
   },
   "outputs": [
    {
     "name": "stdout",
     "output_type": "stream",
     "text": [
      "Quality salvo em: /tmp/pipeline_api/data/reports/quality_weather_20250828_022901.json\n"
     ]
    },
    {
     "data": {
      "text/html": [
       "<div>\n",
       "<style scoped>\n",
       "    .dataframe tbody tr th:only-of-type {\n",
       "        vertical-align: middle;\n",
       "    }\n",
       "\n",
       "    .dataframe tbody tr th {\n",
       "        vertical-align: top;\n",
       "    }\n",
       "\n",
       "    .dataframe thead th {\n",
       "        text-align: right;\n",
       "    }\n",
       "</style>\n",
       "<table border=\"1\" class=\"dataframe\">\n",
       "  <thead>\n",
       "    <tr style=\"text-align: right;\">\n",
       "      <th></th>\n",
       "      <th>city</th>\n",
       "      <th>city_key</th>\n",
       "      <th>timestamp</th>\n",
       "      <th>temperature_c</th>\n",
       "      <th>humidity</th>\n",
       "      <th>humidity_category</th>\n",
       "    </tr>\n",
       "  </thead>\n",
       "  <tbody>\n",
       "    <tr>\n",
       "      <th>0</th>\n",
       "      <td>Aracaju</td>\n",
       "      <td>aracaju</td>\n",
       "      <td>2025-08-28 02:25:09+00:00</td>\n",
       "      <td>23.97</td>\n",
       "      <td>88</td>\n",
       "      <td>High</td>\n",
       "    </tr>\n",
       "    <tr>\n",
       "      <th>1</th>\n",
       "      <td>Belém</td>\n",
       "      <td>belem</td>\n",
       "      <td>2025-08-28 02:27:02+00:00</td>\n",
       "      <td>26.02</td>\n",
       "      <td>89</td>\n",
       "      <td>High</td>\n",
       "    </tr>\n",
       "    <tr>\n",
       "      <th>2</th>\n",
       "      <td>Belo Horizonte</td>\n",
       "      <td>belo horizonte</td>\n",
       "      <td>2025-08-28 02:29:07+00:00</td>\n",
       "      <td>20.24</td>\n",
       "      <td>58</td>\n",
       "      <td>Moderate</td>\n",
       "    </tr>\n",
       "    <tr>\n",
       "      <th>3</th>\n",
       "      <td>Boa Vista</td>\n",
       "      <td>boa vista</td>\n",
       "      <td>2025-08-28 02:25:11+00:00</td>\n",
       "      <td>27.99</td>\n",
       "      <td>74</td>\n",
       "      <td>High</td>\n",
       "    </tr>\n",
       "    <tr>\n",
       "      <th>4</th>\n",
       "      <td>Brasília</td>\n",
       "      <td>brasilia</td>\n",
       "      <td>2025-08-28 02:28:24+00:00</td>\n",
       "      <td>22.51</td>\n",
       "      <td>38</td>\n",
       "      <td>Low</td>\n",
       "    </tr>\n",
       "  </tbody>\n",
       "</table>\n",
       "</div>"
      ],
      "text/plain": [
       "             city        city_key                 timestamp  temperature_c  \\\n",
       "0         Aracaju         aracaju 2025-08-28 02:25:09+00:00          23.97   \n",
       "1           Belém           belem 2025-08-28 02:27:02+00:00          26.02   \n",
       "2  Belo Horizonte  belo horizonte 2025-08-28 02:29:07+00:00          20.24   \n",
       "3       Boa Vista       boa vista 2025-08-28 02:25:11+00:00          27.99   \n",
       "4        Brasília        brasilia 2025-08-28 02:28:24+00:00          22.51   \n",
       "\n",
       "   humidity humidity_category  \n",
       "0        88              High  \n",
       "1        89              High  \n",
       "2        58          Moderate  \n",
       "3        74              High  \n",
       "4        38               Low  "
      ]
     },
     "metadata": {},
     "output_type": "display_data"
    }
   ],
   "source": [
    "# === Passo 5 — Quality Weather Only ===\n",
    "import json\n",
    "\n",
    "weather_ds = ds.dataset(OUT_WEATHER, format=\"parquet\")\n",
    "check_df = weather_ds.to_table().to_pandas()\n",
    "\n",
    "def null_ratios(df):\n",
    "    return {c: float(df[c].isna().mean()) for c in df.columns}\n",
    "\n",
    "q_report = {\n",
    "    \"generated_at_utc\": datetime.now(timezone.utc).isoformat(timespec=\"seconds\"),\n",
    "    \"row_count\": int(len(check_df)),\n",
    "    \"null_ratios\": null_ratios(check_df),\n",
    "    \"temperature_c_range\": {\n",
    "        \"min\": float(check_df[\"temperature_c\"].min()),\n",
    "        \"max\": float(check_df[\"temperature_c\"].max())\n",
    "    },\n",
    "    \"humidity_range\": {\n",
    "        \"min\": int(check_df[\"humidity\"].min()),\n",
    "        \"max\": int(check_df[\"humidity\"].max())\n",
    "    },\n",
    "}\n",
    "\n",
    "rep_fp = os.path.join(REP_DIR, f\"quality_weather_{ts}.json\")\n",
    "with open(rep_fp, \"w\", encoding=\"utf-8\") as f:\n",
    "    json.dump(q_report, f, indent=2, ensure_ascii=False)\n",
    "\n",
    "print(\"Quality salvo em:\", rep_fp)\n",
    "display(check_df.head())\n"
   ]
  },
  {
   "cell_type": "markdown",
   "metadata": {
    "application/vnd.databricks.v1+cell": {
     "cellMetadata": {},
     "inputWidgets": {},
     "nuid": "4969f4f9-18ca-4cfb-8c68-4777a14252a6",
     "showTitle": false,
     "tableResultSettingsMap": {},
     "title": ""
    }
   },
   "source": [
    "## 6- 🌎 Extração & Transformação — **REST Countries**"
   ]
  },
  {
   "cell_type": "code",
   "execution_count": 9,
   "metadata": {
    "application/vnd.databricks.v1+cell": {
     "cellMetadata": {
      "byteLimit": 2048000,
      "rowLimit": 10000
     },
     "inputWidgets": {},
     "nuid": "4cc94179-1585-4213-a2b1-16ed81c5a334",
     "showTitle": false,
     "tableResultSettingsMap": {},
     "title": ""
    }
   },
   "outputs": [
    {
     "name": "stdout",
     "output_type": "stream",
     "text": [
      "Countries curated (27 linhas esperadas): 27\n"
     ]
    },
    {
     "data": {
      "text/html": [
       "<div>\n",
       "<style scoped>\n",
       "    .dataframe tbody tr th:only-of-type {\n",
       "        vertical-align: middle;\n",
       "    }\n",
       "\n",
       "    .dataframe tbody tr th {\n",
       "        vertical-align: top;\n",
       "    }\n",
       "\n",
       "    .dataframe thead th {\n",
       "        text-align: right;\n",
       "    }\n",
       "</style>\n",
       "<table border=\"1\" class=\"dataframe\">\n",
       "  <thead>\n",
       "    <tr style=\"text-align: right;\">\n",
       "      <th></th>\n",
       "      <th>city</th>\n",
       "      <th>city_key</th>\n",
       "      <th>country</th>\n",
       "      <th>population</th>\n",
       "    </tr>\n",
       "  </thead>\n",
       "  <tbody>\n",
       "    <tr>\n",
       "      <th>0</th>\n",
       "      <td>Rio Branco</td>\n",
       "      <td>rio branco</td>\n",
       "      <td>Brazil</td>\n",
       "      <td>212559409</td>\n",
       "    </tr>\n",
       "    <tr>\n",
       "      <th>1</th>\n",
       "      <td>Maceió</td>\n",
       "      <td>maceio</td>\n",
       "      <td>Brazil</td>\n",
       "      <td>212559409</td>\n",
       "    </tr>\n",
       "    <tr>\n",
       "      <th>2</th>\n",
       "      <td>Macapá</td>\n",
       "      <td>macapa</td>\n",
       "      <td>Brazil</td>\n",
       "      <td>212559409</td>\n",
       "    </tr>\n",
       "    <tr>\n",
       "      <th>3</th>\n",
       "      <td>Manaus</td>\n",
       "      <td>manaus</td>\n",
       "      <td>Brazil</td>\n",
       "      <td>212559409</td>\n",
       "    </tr>\n",
       "    <tr>\n",
       "      <th>4</th>\n",
       "      <td>Salvador</td>\n",
       "      <td>salvador</td>\n",
       "      <td>Brazil</td>\n",
       "      <td>212559409</td>\n",
       "    </tr>\n",
       "    <tr>\n",
       "      <th>5</th>\n",
       "      <td>Fortaleza</td>\n",
       "      <td>fortaleza</td>\n",
       "      <td>Brazil</td>\n",
       "      <td>212559409</td>\n",
       "    </tr>\n",
       "    <tr>\n",
       "      <th>6</th>\n",
       "      <td>Brasília</td>\n",
       "      <td>brasilia</td>\n",
       "      <td>Brazil</td>\n",
       "      <td>212559409</td>\n",
       "    </tr>\n",
       "    <tr>\n",
       "      <th>7</th>\n",
       "      <td>Vitória</td>\n",
       "      <td>vitoria</td>\n",
       "      <td>Brazil</td>\n",
       "      <td>212559409</td>\n",
       "    </tr>\n",
       "    <tr>\n",
       "      <th>8</th>\n",
       "      <td>Goiânia</td>\n",
       "      <td>goiania</td>\n",
       "      <td>Brazil</td>\n",
       "      <td>212559409</td>\n",
       "    </tr>\n",
       "    <tr>\n",
       "      <th>9</th>\n",
       "      <td>São Luís</td>\n",
       "      <td>sao luis</td>\n",
       "      <td>Brazil</td>\n",
       "      <td>212559409</td>\n",
       "    </tr>\n",
       "  </tbody>\n",
       "</table>\n",
       "</div>"
      ],
      "text/plain": [
       "         city    city_key country  population\n",
       "0  Rio Branco  rio branco  Brazil   212559409\n",
       "1      Maceió      maceio  Brazil   212559409\n",
       "2      Macapá      macapa  Brazil   212559409\n",
       "3      Manaus      manaus  Brazil   212559409\n",
       "4    Salvador    salvador  Brazil   212559409\n",
       "5   Fortaleza   fortaleza  Brazil   212559409\n",
       "6    Brasília    brasilia  Brazil   212559409\n",
       "7     Vitória     vitoria  Brazil   212559409\n",
       "8     Goiânia     goiania  Brazil   212559409\n",
       "9    São Luís    sao luis  Brazil   212559409"
      ]
     },
     "metadata": {},
     "output_type": "display_data"
    }
   ],
   "source": [
    "# === Passo 6 — Extração + Transformação REST Countries (fix p/ 27 capitais) ===\n",
    "import requests\n",
    "import pandas as pd\n",
    "from pandas import json_normalize\n",
    "\n",
    "# 1) Buscar REST Countries\n",
    "try:\n",
    "    r = requests.get(\"https://restcountries.com/v3.1/name/brazil?fullText=true\", timeout=30)\n",
    "    r.raise_for_status()\n",
    "    countries_raw = r.json()\n",
    "except Exception as e:\n",
    "    print(\"Erro na API REST Countries, usando fallback mínimo:\", e)\n",
    "    countries_raw = [{\"name\": {\"common\": \"Brazil\"}, \"population\": 203_000_000, \"cca2\": \"BR\"}]\n",
    "\n",
    "cdf = json_normalize(countries_raw)\n",
    "\n",
    "# 2) Isolar Brasil\n",
    "# tenta pelo código BR; se não tiver, usa a primeira linha\n",
    "if \"cca2\" in cdf.columns and (cdf[\"cca2\"] == \"BR\").any():\n",
    "    br = cdf[cdf[\"cca2\"] == \"BR\"].iloc[0]\n",
    "else:\n",
    "    br = cdf.iloc[0]\n",
    "\n",
    "country_name = br.get(\"name.common\", \"Brazil\")\n",
    "country_pop  = int(br.get(\"population\", 203_000_000))\n",
    "\n",
    "# 3) Expandir para TODAS as 27 capitais\n",
    "countries_curated = pd.DataFrame({\n",
    "    \"city\": CAPITAIS_BR\n",
    "})\n",
    "countries_curated[\"city_key\"]   = countries_curated[\"city\"].apply(city_key)\n",
    "countries_curated[\"country\"]    = country_name\n",
    "countries_curated[\"population\"] = country_pop\n",
    "\n",
    "print(\"Countries curated (27 linhas esperadas):\", len(countries_curated))\n",
    "display(countries_curated.head(10))"
   ]
  },
  {
   "cell_type": "markdown",
   "metadata": {
    "application/vnd.databricks.v1+cell": {
     "cellMetadata": {},
     "inputWidgets": {},
     "nuid": "68a98788-ff4f-4c54-a896-96dd847e1772",
     "showTitle": false,
     "tableResultSettingsMap": {},
     "title": ""
    }
   },
   "source": [
    "## 7- 🔗 JOIN — **Weather × Countries** + **Parquet Final** + **Quality Check**"
   ]
  },
  {
   "cell_type": "code",
   "execution_count": 10,
   "metadata": {
    "application/vnd.databricks.v1+cell": {
     "cellMetadata": {
      "byteLimit": 2048000,
      "rowLimit": 10000
     },
     "inputWidgets": {},
     "nuid": "80ddf357-c52d-46d7-8d9e-3dd692d3c7e9",
     "showTitle": false,
     "tableResultSettingsMap": {},
     "title": ""
    }
   },
   "outputs": [
    {
     "data": {
      "text/html": [
       "<div>\n",
       "<style scoped>\n",
       "    .dataframe tbody tr th:only-of-type {\n",
       "        vertical-align: middle;\n",
       "    }\n",
       "\n",
       "    .dataframe tbody tr th {\n",
       "        vertical-align: top;\n",
       "    }\n",
       "\n",
       "    .dataframe thead th {\n",
       "        text-align: right;\n",
       "    }\n",
       "</style>\n",
       "<table border=\"1\" class=\"dataframe\">\n",
       "  <thead>\n",
       "    <tr style=\"text-align: right;\">\n",
       "      <th></th>\n",
       "      <th>city</th>\n",
       "      <th>timestamp</th>\n",
       "      <th>temperature_c</th>\n",
       "      <th>humidity</th>\n",
       "      <th>humidity_category</th>\n",
       "      <th>country</th>\n",
       "      <th>population</th>\n",
       "      <th>timestamp_year</th>\n",
       "      <th>timestamp_month</th>\n",
       "    </tr>\n",
       "  </thead>\n",
       "  <tbody>\n",
       "    <tr>\n",
       "      <th>0</th>\n",
       "      <td>Aracaju</td>\n",
       "      <td>2025-08-28 02:25:09+00:00</td>\n",
       "      <td>23.97</td>\n",
       "      <td>88</td>\n",
       "      <td>High</td>\n",
       "      <td>Brazil</td>\n",
       "      <td>212559409</td>\n",
       "      <td>2025</td>\n",
       "      <td>8</td>\n",
       "    </tr>\n",
       "    <tr>\n",
       "      <th>1</th>\n",
       "      <td>Belém</td>\n",
       "      <td>2025-08-28 02:27:02+00:00</td>\n",
       "      <td>26.02</td>\n",
       "      <td>89</td>\n",
       "      <td>High</td>\n",
       "      <td>Brazil</td>\n",
       "      <td>212559409</td>\n",
       "      <td>2025</td>\n",
       "      <td>8</td>\n",
       "    </tr>\n",
       "    <tr>\n",
       "      <th>2</th>\n",
       "      <td>Belo Horizonte</td>\n",
       "      <td>2025-08-28 02:29:07+00:00</td>\n",
       "      <td>20.24</td>\n",
       "      <td>58</td>\n",
       "      <td>Moderate</td>\n",
       "      <td>Brazil</td>\n",
       "      <td>212559409</td>\n",
       "      <td>2025</td>\n",
       "      <td>8</td>\n",
       "    </tr>\n",
       "    <tr>\n",
       "      <th>3</th>\n",
       "      <td>Boa Vista</td>\n",
       "      <td>2025-08-28 02:25:11+00:00</td>\n",
       "      <td>27.99</td>\n",
       "      <td>74</td>\n",
       "      <td>High</td>\n",
       "      <td>Brazil</td>\n",
       "      <td>212559409</td>\n",
       "      <td>2025</td>\n",
       "      <td>8</td>\n",
       "    </tr>\n",
       "    <tr>\n",
       "      <th>4</th>\n",
       "      <td>Brasília</td>\n",
       "      <td>2025-08-28 02:28:24+00:00</td>\n",
       "      <td>22.51</td>\n",
       "      <td>38</td>\n",
       "      <td>Low</td>\n",
       "      <td>Brazil</td>\n",
       "      <td>212559409</td>\n",
       "      <td>2025</td>\n",
       "      <td>8</td>\n",
       "    </tr>\n",
       "    <tr>\n",
       "      <th>5</th>\n",
       "      <td>Campo Grande</td>\n",
       "      <td>2025-08-28 02:24:44+00:00</td>\n",
       "      <td>18.75</td>\n",
       "      <td>59</td>\n",
       "      <td>Moderate</td>\n",
       "      <td>Brazil</td>\n",
       "      <td>212559409</td>\n",
       "      <td>2025</td>\n",
       "      <td>8</td>\n",
       "    </tr>\n",
       "    <tr>\n",
       "      <th>6</th>\n",
       "      <td>Cuiabá</td>\n",
       "      <td>2025-08-28 02:26:20+00:00</td>\n",
       "      <td>23.96</td>\n",
       "      <td>57</td>\n",
       "      <td>Moderate</td>\n",
       "      <td>Brazil</td>\n",
       "      <td>212559409</td>\n",
       "      <td>2025</td>\n",
       "      <td>8</td>\n",
       "    </tr>\n",
       "    <tr>\n",
       "      <th>7</th>\n",
       "      <td>Curitiba</td>\n",
       "      <td>2025-08-28 02:29:26+00:00</td>\n",
       "      <td>13.00</td>\n",
       "      <td>95</td>\n",
       "      <td>High</td>\n",
       "      <td>Brazil</td>\n",
       "      <td>212559409</td>\n",
       "      <td>2025</td>\n",
       "      <td>8</td>\n",
       "    </tr>\n",
       "    <tr>\n",
       "      <th>8</th>\n",
       "      <td>Florianópolis</td>\n",
       "      <td>2025-08-28 02:27:16+00:00</td>\n",
       "      <td>16.33</td>\n",
       "      <td>90</td>\n",
       "      <td>High</td>\n",
       "      <td>Brazil</td>\n",
       "      <td>212559409</td>\n",
       "      <td>2025</td>\n",
       "      <td>8</td>\n",
       "    </tr>\n",
       "    <tr>\n",
       "      <th>9</th>\n",
       "      <td>Fortaleza</td>\n",
       "      <td>2025-08-28 02:27:18+00:00</td>\n",
       "      <td>26.07</td>\n",
       "      <td>78</td>\n",
       "      <td>High</td>\n",
       "      <td>Brazil</td>\n",
       "      <td>212559409</td>\n",
       "      <td>2025</td>\n",
       "      <td>8</td>\n",
       "    </tr>\n",
       "  </tbody>\n",
       "</table>\n",
       "</div>"
      ],
      "text/plain": [
       "             city                 timestamp  temperature_c  humidity  \\\n",
       "0         Aracaju 2025-08-28 02:25:09+00:00          23.97        88   \n",
       "1           Belém 2025-08-28 02:27:02+00:00          26.02        89   \n",
       "2  Belo Horizonte 2025-08-28 02:29:07+00:00          20.24        58   \n",
       "3       Boa Vista 2025-08-28 02:25:11+00:00          27.99        74   \n",
       "4        Brasília 2025-08-28 02:28:24+00:00          22.51        38   \n",
       "5    Campo Grande 2025-08-28 02:24:44+00:00          18.75        59   \n",
       "6          Cuiabá 2025-08-28 02:26:20+00:00          23.96        57   \n",
       "7        Curitiba 2025-08-28 02:29:26+00:00          13.00        95   \n",
       "8   Florianópolis 2025-08-28 02:27:16+00:00          16.33        90   \n",
       "9       Fortaleza 2025-08-28 02:27:18+00:00          26.07        78   \n",
       "\n",
       "  humidity_category country  population  timestamp_year  timestamp_month  \n",
       "0              High  Brazil   212559409            2025                8  \n",
       "1              High  Brazil   212559409            2025                8  \n",
       "2          Moderate  Brazil   212559409            2025                8  \n",
       "3              High  Brazil   212559409            2025                8  \n",
       "4               Low  Brazil   212559409            2025                8  \n",
       "5          Moderate  Brazil   212559409            2025                8  \n",
       "6          Moderate  Brazil   212559409            2025                8  \n",
       "7              High  Brazil   212559409            2025                8  \n",
       "8              High  Brazil   212559409            2025                8  \n",
       "9              High  Brazil   212559409            2025                8  "
      ]
     },
     "metadata": {},
     "output_type": "display_data"
    },
    {
     "name": "stdout",
     "output_type": "stream",
     "text": [
      "Parquet FINAL salvo em: /tmp/pipeline_api/data/processed/weather_countries.parquet\n",
      "Quality FINAL salvo em: /tmp/pipeline_api/data/reports/quality_weather_countries_20250828_022901.json\n"
     ]
    }
   ],
   "source": [
    "# === Passo 7 — JOIN Weather x Countries ===\n",
    "weather_df = weather_ds.to_table().to_pandas()\n",
    "weather_df[\"city_key\"] = weather_df[\"city\"].apply(city_key)\n",
    "\n",
    "final_pd = weather_df.merge(countries_curated, on=\"city_key\", how=\"inner\",\n",
    "                            suffixes=(\"_weather\",\"_country\"))\n",
    "final_pd[\"city\"] = final_pd[\"city_weather\"]\n",
    "\n",
    "final_pd[\"timestamp_year\"] = final_pd[\"timestamp\"].dt.year\n",
    "final_pd[\"timestamp_month\"] = final_pd[\"timestamp\"].dt.month\n",
    "\n",
    "final_pd = final_pd[[\n",
    "    \"city\",\"timestamp\",\"temperature_c\",\"humidity\",\"humidity_category\",\n",
    "    \"country\",\"population\",\"timestamp_year\",\"timestamp_month\"\n",
    "]]\n",
    "\n",
    "display(final_pd.head(10))\n",
    "\n",
    "OUT_FINAL = os.path.join(PROC_DIR, \"weather_countries.parquet\")\n",
    "if os.path.exists(OUT_FINAL): shutil.rmtree(OUT_FINAL)\n",
    "os.makedirs(OUT_FINAL, exist_ok=True)\n",
    "\n",
    "pa_tbl_final = pa.Table.from_pandas(final_pd, preserve_index=False)\n",
    "ds.write_dataset(pa_tbl_final, base_dir=OUT_FINAL, format=\"parquet\",\n",
    "                 partitioning=[\"timestamp_year\",\"timestamp_month\"])\n",
    "\n",
    "print(\"Parquet FINAL salvo em:\", OUT_FINAL)\n",
    "\n",
    "q_final = {\n",
    "    \"generated_at_utc\": datetime.now(timezone.utc).isoformat(timespec=\"seconds\"),\n",
    "    \"row_count\": int(len(final_pd)),\n",
    "    \"null_ratios\": null_ratios(final_pd),\n",
    "    \"temperature_c_range\": {\"min\": float(final_pd[\"temperature_c\"].min()), \"max\": float(final_pd[\"temperature_c\"].max())},\n",
    "    \"humidity_range\": {\"min\": int(final_pd[\"humidity\"].min()), \"max\": int(final_pd[\"humidity\"].max())},\n",
    "    \"population_range\": {\"min\": int(final_pd[\"population\"].min()), \"max\": int(final_pd[\"population\"].max())},\n",
    "}\n",
    "\n",
    "rep_fp_final = os.path.join(REP_DIR, f\"quality_weather_countries_{ts}.json\")\n",
    "with open(rep_fp_final, \"w\", encoding=\"utf-8\") as f:\n",
    "    json.dump(q_final, f, indent=2, ensure_ascii=False)\n",
    "\n",
    "print(\"Quality FINAL salvo em:\", rep_fp_final)"
   ]
  },
  {
   "cell_type": "markdown",
   "metadata": {
    "application/vnd.databricks.v1+cell": {
     "cellMetadata": {},
     "inputWidgets": {},
     "nuid": "ef3aa0e4-175b-4b75-9465-5059bf78ab9f",
     "showTitle": false,
     "tableResultSettingsMap": {},
     "title": ""
    }
   },
   "source": [
    "## 8- 📊 Visualizações — **Plotly a partir do Dataset Final**"
   ]
  },
  {
   "cell_type": "code",
   "execution_count": 11,
   "metadata": {
    "application/vnd.databricks.v1+cell": {
     "cellMetadata": {
      "byteLimit": 2048000,
      "rowLimit": 10000
     },
     "inputWidgets": {},
     "nuid": "634aff51-42f0-4448-a841-2bc47a36760b",
     "showTitle": false,
     "tableResultSettingsMap": {},
     "title": ""
    }
   },
   "outputs": [
    {
     "data": {
      "application/vnd.plotly.v1+json": {
       "config": {
        "plotlyServerURL": "https://plot.ly"
       },
       "data": [
        {
         "customdata": [
          [
           "High",
           "2025-08-28T02:25:09+00:00"
          ]
         ],
         "hovertemplate": "<b>%{hovertext}</b><br><br>city=%{text}<br>temperature_c=%{x}<br>humidity=%{y}<br>humidity_category=%{customdata[0]}<br>timestamp=%{customdata[1]}<extra></extra>",
         "hovertext": [
          "Aracaju"
         ],
         "legendgroup": "Aracaju",
         "marker": {
          "color": "#636efa",
          "symbol": "circle"
         },
         "mode": "markers+text",
         "name": "Aracaju",
         "orientation": "v",
         "showlegend": true,
         "text": [
          "Aracaju"
         ],
         "textposition": "top center",
         "type": "scatter",
         "x": [
          23.970000000000027
         ],
         "xaxis": "x",
         "y": [
          88
         ],
         "yaxis": "y"
        },
        {
         "customdata": [
          [
           "High",
           "2025-08-28T02:27:02+00:00"
          ]
         ],
         "hovertemplate": "<b>%{hovertext}</b><br><br>city=%{text}<br>temperature_c=%{x}<br>humidity=%{y}<br>humidity_category=%{customdata[0]}<br>timestamp=%{customdata[1]}<extra></extra>",
         "hovertext": [
          "Belém"
         ],
         "legendgroup": "Belém",
         "marker": {
          "color": "#EF553B",
          "symbol": "circle"
         },
         "mode": "markers+text",
         "name": "Belém",
         "orientation": "v",
         "showlegend": true,
         "text": [
          "Belém"
         ],
         "textposition": "top center",
         "type": "scatter",
         "x": [
          26.02000000000004
         ],
         "xaxis": "x",
         "y": [
          89
         ],
         "yaxis": "y"
        },
        {
         "customdata": [
          [
           "Moderate",
           "2025-08-28T02:29:07+00:00"
          ]
         ],
         "hovertemplate": "<b>%{hovertext}</b><br><br>city=%{text}<br>temperature_c=%{x}<br>humidity=%{y}<br>humidity_category=%{customdata[0]}<br>timestamp=%{customdata[1]}<extra></extra>",
         "hovertext": [
          "Belo Horizonte"
         ],
         "legendgroup": "Belo Horizonte",
         "marker": {
          "color": "#00cc96",
          "symbol": "circle"
         },
         "mode": "markers+text",
         "name": "Belo Horizonte",
         "orientation": "v",
         "showlegend": true,
         "text": [
          "Belo Horizonte"
         ],
         "textposition": "top center",
         "type": "scatter",
         "x": [
          20.24000000000001
         ],
         "xaxis": "x",
         "y": [
          58
         ],
         "yaxis": "y"
        },
        {
         "customdata": [
          [
           "High",
           "2025-08-28T02:25:11+00:00"
          ]
         ],
         "hovertemplate": "<b>%{hovertext}</b><br><br>city=%{text}<br>temperature_c=%{x}<br>humidity=%{y}<br>humidity_category=%{customdata[0]}<br>timestamp=%{customdata[1]}<extra></extra>",
         "hovertext": [
          "Boa Vista"
         ],
         "legendgroup": "Boa Vista",
         "marker": {
          "color": "#ab63fa",
          "symbol": "circle"
         },
         "mode": "markers+text",
         "name": "Boa Vista",
         "orientation": "v",
         "showlegend": true,
         "text": [
          "Boa Vista"
         ],
         "textposition": "top center",
         "type": "scatter",
         "x": [
          27.99000000000001
         ],
         "xaxis": "x",
         "y": [
          74
         ],
         "yaxis": "y"
        },
        {
         "customdata": [
          [
           "Low",
           "2025-08-28T02:28:24+00:00"
          ]
         ],
         "hovertemplate": "<b>%{hovertext}</b><br><br>city=%{text}<br>temperature_c=%{x}<br>humidity=%{y}<br>humidity_category=%{customdata[0]}<br>timestamp=%{customdata[1]}<extra></extra>",
         "hovertext": [
          "Brasília"
         ],
         "legendgroup": "Brasília",
         "marker": {
          "color": "#FFA15A",
          "symbol": "circle"
         },
         "mode": "markers+text",
         "name": "Brasília",
         "orientation": "v",
         "showlegend": true,
         "text": [
          "Brasília"
         ],
         "textposition": "top center",
         "type": "scatter",
         "x": [
          22.510000000000048
         ],
         "xaxis": "x",
         "y": [
          38
         ],
         "yaxis": "y"
        },
        {
         "customdata": [
          [
           "Moderate",
           "2025-08-28T02:24:44+00:00"
          ]
         ],
         "hovertemplate": "<b>%{hovertext}</b><br><br>city=%{text}<br>temperature_c=%{x}<br>humidity=%{y}<br>humidity_category=%{customdata[0]}<br>timestamp=%{customdata[1]}<extra></extra>",
         "hovertext": [
          "Campo Grande"
         ],
         "legendgroup": "Campo Grande",
         "marker": {
          "color": "#19d3f3",
          "symbol": "circle"
         },
         "mode": "markers+text",
         "name": "Campo Grande",
         "orientation": "v",
         "showlegend": true,
         "text": [
          "Campo Grande"
         ],
         "textposition": "top center",
         "type": "scatter",
         "x": [
          18.75
         ],
         "xaxis": "x",
         "y": [
          59
         ],
         "yaxis": "y"
        },
        {
         "customdata": [
          [
           "Moderate",
           "2025-08-28T02:26:20+00:00"
          ]
         ],
         "hovertemplate": "<b>%{hovertext}</b><br><br>city=%{text}<br>temperature_c=%{x}<br>humidity=%{y}<br>humidity_category=%{customdata[0]}<br>timestamp=%{customdata[1]}<extra></extra>",
         "hovertext": [
          "Cuiabá"
         ],
         "legendgroup": "Cuiabá",
         "marker": {
          "color": "#FF6692",
          "symbol": "circle"
         },
         "mode": "markers+text",
         "name": "Cuiabá",
         "orientation": "v",
         "showlegend": true,
         "text": [
          "Cuiabá"
         ],
         "textposition": "top center",
         "type": "scatter",
         "x": [
          23.960000000000036
         ],
         "xaxis": "x",
         "y": [
          57
         ],
         "yaxis": "y"
        },
        {
         "customdata": [
          [
           "High",
           "2025-08-28T02:29:26+00:00"
          ]
         ],
         "hovertemplate": "<b>%{hovertext}</b><br><br>city=%{text}<br>temperature_c=%{x}<br>humidity=%{y}<br>humidity_category=%{customdata[0]}<br>timestamp=%{customdata[1]}<extra></extra>",
         "hovertext": [
          "Curitiba"
         ],
         "legendgroup": "Curitiba",
         "marker": {
          "color": "#B6E880",
          "symbol": "circle"
         },
         "mode": "markers+text",
         "name": "Curitiba",
         "orientation": "v",
         "showlegend": true,
         "text": [
          "Curitiba"
         ],
         "textposition": "top center",
         "type": "scatter",
         "x": [
          13
         ],
         "xaxis": "x",
         "y": [
          95
         ],
         "yaxis": "y"
        },
        {
         "customdata": [
          [
           "High",
           "2025-08-28T02:27:16+00:00"
          ]
         ],
         "hovertemplate": "<b>%{hovertext}</b><br><br>city=%{text}<br>temperature_c=%{x}<br>humidity=%{y}<br>humidity_category=%{customdata[0]}<br>timestamp=%{customdata[1]}<extra></extra>",
         "hovertext": [
          "Florianópolis"
         ],
         "legendgroup": "Florianópolis",
         "marker": {
          "color": "#FF97FF",
          "symbol": "circle"
         },
         "mode": "markers+text",
         "name": "Florianópolis",
         "orientation": "v",
         "showlegend": true,
         "text": [
          "Florianópolis"
         ],
         "textposition": "top center",
         "type": "scatter",
         "x": [
          16.33000000000004
         ],
         "xaxis": "x",
         "y": [
          90
         ],
         "yaxis": "y"
        },
        {
         "customdata": [
          [
           "High",
           "2025-08-28T02:27:18+00:00"
          ]
         ],
         "hovertemplate": "<b>%{hovertext}</b><br><br>city=%{text}<br>temperature_c=%{x}<br>humidity=%{y}<br>humidity_category=%{customdata[0]}<br>timestamp=%{customdata[1]}<extra></extra>",
         "hovertext": [
          "Fortaleza"
         ],
         "legendgroup": "Fortaleza",
         "marker": {
          "color": "#FECB52",
          "symbol": "circle"
         },
         "mode": "markers+text",
         "name": "Fortaleza",
         "orientation": "v",
         "showlegend": true,
         "text": [
          "Fortaleza"
         ],
         "textposition": "top center",
         "type": "scatter",
         "x": [
          26.07000000000005
         ],
         "xaxis": "x",
         "y": [
          78
         ],
         "yaxis": "y"
        },
        {
         "customdata": [
          [
           "Moderate",
           "2025-08-28T02:29:15+00:00"
          ]
         ],
         "hovertemplate": "<b>%{hovertext}</b><br><br>city=%{text}<br>temperature_c=%{x}<br>humidity=%{y}<br>humidity_category=%{customdata[0]}<br>timestamp=%{customdata[1]}<extra></extra>",
         "hovertext": [
          "Goiânia"
         ],
         "legendgroup": "Goiânia",
         "marker": {
          "color": "#636efa",
          "symbol": "circle"
         },
         "mode": "markers+text",
         "name": "Goiânia",
         "orientation": "v",
         "showlegend": true,
         "text": [
          "Goiânia"
         ],
         "textposition": "top center",
         "type": "scatter",
         "x": [
          24.83000000000004
         ],
         "xaxis": "x",
         "y": [
          41
         ],
         "yaxis": "y"
        },
        {
         "customdata": [
          [
           "High",
           "2025-08-28T02:25:56+00:00"
          ]
         ],
         "hovertemplate": "<b>%{hovertext}</b><br><br>city=%{text}<br>temperature_c=%{x}<br>humidity=%{y}<br>humidity_category=%{customdata[0]}<br>timestamp=%{customdata[1]}<extra></extra>",
         "hovertext": [
          "João Pessoa"
         ],
         "legendgroup": "João Pessoa",
         "marker": {
          "color": "#EF553B",
          "symbol": "circle"
         },
         "mode": "markers+text",
         "name": "João Pessoa",
         "orientation": "v",
         "showlegend": true,
         "text": [
          "João Pessoa"
         ],
         "textposition": "top center",
         "type": "scatter",
         "x": [
          22.129999999999995
         ],
         "xaxis": "x",
         "y": [
          94
         ],
         "yaxis": "y"
        },
        {
         "customdata": [
          [
           "High",
           "2025-08-28T02:28:43+00:00"
          ]
         ],
         "hovertemplate": "<b>%{hovertext}</b><br><br>city=%{text}<br>temperature_c=%{x}<br>humidity=%{y}<br>humidity_category=%{customdata[0]}<br>timestamp=%{customdata[1]}<extra></extra>",
         "hovertext": [
          "Macapá"
         ],
         "legendgroup": "Macapá",
         "marker": {
          "color": "#00cc96",
          "symbol": "circle"
         },
         "mode": "markers+text",
         "name": "Macapá",
         "orientation": "v",
         "showlegend": true,
         "text": [
          "Macapá"
         ],
         "textposition": "top center",
         "type": "scatter",
         "x": [
          27.99000000000001
         ],
         "xaxis": "x",
         "y": [
          78
         ],
         "yaxis": "y"
        },
        {
         "customdata": [
          [
           "High",
           "2025-08-28T02:25:34+00:00"
          ]
         ],
         "hovertemplate": "<b>%{hovertext}</b><br><br>city=%{text}<br>temperature_c=%{x}<br>humidity=%{y}<br>humidity_category=%{customdata[0]}<br>timestamp=%{customdata[1]}<extra></extra>",
         "hovertext": [
          "Maceió"
         ],
         "legendgroup": "Maceió",
         "marker": {
          "color": "#ab63fa",
          "symbol": "circle"
         },
         "mode": "markers+text",
         "name": "Maceió",
         "orientation": "v",
         "showlegend": true,
         "text": [
          "Maceió"
         ],
         "textposition": "top center",
         "type": "scatter",
         "x": [
          23.689999999999998
         ],
         "xaxis": "x",
         "y": [
          88
         ],
         "yaxis": "y"
        },
        {
         "customdata": [
          [
           "High",
           "2025-08-28T02:28:13+00:00"
          ]
         ],
         "hovertemplate": "<b>%{hovertext}</b><br><br>city=%{text}<br>temperature_c=%{x}<br>humidity=%{y}<br>humidity_category=%{customdata[0]}<br>timestamp=%{customdata[1]}<extra></extra>",
         "hovertext": [
          "Manaus"
         ],
         "legendgroup": "Manaus",
         "marker": {
          "color": "#FFA15A",
          "symbol": "circle"
         },
         "mode": "markers+text",
         "name": "Manaus",
         "orientation": "v",
         "showlegend": true,
         "text": [
          "Manaus"
         ],
         "textposition": "top center",
         "type": "scatter",
         "x": [
          27.27000000000004
         ],
         "xaxis": "x",
         "y": [
          83
         ],
         "yaxis": "y"
        },
        {
         "customdata": [
          [
           "High",
           "2025-08-28T02:26:52+00:00"
          ]
         ],
         "hovertemplate": "<b>%{hovertext}</b><br><br>city=%{text}<br>temperature_c=%{x}<br>humidity=%{y}<br>humidity_category=%{customdata[0]}<br>timestamp=%{customdata[1]}<extra></extra>",
         "hovertext": [
          "Natal"
         ],
         "legendgroup": "Natal",
         "marker": {
          "color": "#19d3f3",
          "symbol": "circle"
         },
         "mode": "markers+text",
         "name": "Natal",
         "orientation": "v",
         "showlegend": true,
         "text": [
          "Natal"
         ],
         "textposition": "top center",
         "type": "scatter",
         "x": [
          23.120000000000005
         ],
         "xaxis": "x",
         "y": [
          88
         ],
         "yaxis": "y"
        },
        {
         "customdata": [
          [
           "Moderate",
           "2025-08-28T02:28:28+00:00"
          ]
         ],
         "hovertemplate": "<b>%{hovertext}</b><br><br>city=%{text}<br>temperature_c=%{x}<br>humidity=%{y}<br>humidity_category=%{customdata[0]}<br>timestamp=%{customdata[1]}<extra></extra>",
         "hovertext": [
          "Palmas"
         ],
         "legendgroup": "Palmas",
         "marker": {
          "color": "#FF6692",
          "symbol": "circle"
         },
         "mode": "markers+text",
         "name": "Palmas",
         "orientation": "v",
         "showlegend": true,
         "text": [
          "Palmas"
         ],
         "textposition": "top center",
         "type": "scatter",
         "x": [
          25.930000000000007
         ],
         "xaxis": "x",
         "y": [
          50
         ],
         "yaxis": "y"
        },
        {
         "customdata": [
          [
           "High",
           "2025-08-28T02:28:00+00:00"
          ]
         ],
         "hovertemplate": "<b>%{hovertext}</b><br><br>city=%{text}<br>temperature_c=%{x}<br>humidity=%{y}<br>humidity_category=%{customdata[0]}<br>timestamp=%{customdata[1]}<extra></extra>",
         "hovertext": [
          "Porto Alegre"
         ],
         "legendgroup": "Porto Alegre",
         "marker": {
          "color": "#B6E880",
          "symbol": "circle"
         },
         "mode": "markers+text",
         "name": "Porto Alegre",
         "orientation": "v",
         "showlegend": true,
         "text": [
          "Porto Alegre"
         ],
         "textposition": "top center",
         "type": "scatter",
         "x": [
          15.120000000000005
         ],
         "xaxis": "x",
         "y": [
          91
         ],
         "yaxis": "y"
        },
        {
         "customdata": [
          [
           "Moderate",
           "2025-08-28T02:24:37+00:00"
          ]
         ],
         "hovertemplate": "<b>%{hovertext}</b><br><br>city=%{text}<br>temperature_c=%{x}<br>humidity=%{y}<br>humidity_category=%{customdata[0]}<br>timestamp=%{customdata[1]}<extra></extra>",
         "hovertext": [
          "Porto Velho"
         ],
         "legendgroup": "Porto Velho",
         "marker": {
          "color": "#FF97FF",
          "symbol": "circle"
         },
         "mode": "markers+text",
         "name": "Porto Velho",
         "orientation": "v",
         "showlegend": true,
         "text": [
          "Porto Velho"
         ],
         "textposition": "top center",
         "type": "scatter",
         "x": [
          25.03000000000003
         ],
         "xaxis": "x",
         "y": [
          69
         ],
         "yaxis": "y"
        },
        {
         "customdata": [
          [
           "High",
           "2025-08-28T02:27:58+00:00"
          ]
         ],
         "hovertemplate": "<b>%{hovertext}</b><br><br>city=%{text}<br>temperature_c=%{x}<br>humidity=%{y}<br>humidity_category=%{customdata[0]}<br>timestamp=%{customdata[1]}<extra></extra>",
         "hovertext": [
          "Recife"
         ],
         "legendgroup": "Recife",
         "marker": {
          "color": "#FECB52",
          "symbol": "circle"
         },
         "mode": "markers+text",
         "name": "Recife",
         "orientation": "v",
         "showlegend": true,
         "text": [
          "Recife"
         ],
         "textposition": "top center",
         "type": "scatter",
         "x": [
          25.02000000000004
         ],
         "xaxis": "x",
         "y": [
          78
         ],
         "yaxis": "y"
        },
        {
         "customdata": [
          [
           "Moderate",
           "2025-08-28T02:29:02+00:00"
          ]
         ],
         "hovertemplate": "<b>%{hovertext}</b><br><br>city=%{text}<br>temperature_c=%{x}<br>humidity=%{y}<br>humidity_category=%{customdata[0]}<br>timestamp=%{customdata[1]}<extra></extra>",
         "hovertext": [
          "Rio Branco"
         ],
         "legendgroup": "Rio Branco",
         "marker": {
          "color": "#636efa",
          "symbol": "circle"
         },
         "mode": "markers+text",
         "name": "Rio Branco",
         "orientation": "v",
         "showlegend": true,
         "text": [
          "Rio Branco"
         ],
         "textposition": "top center",
         "type": "scatter",
         "x": [
          23.340000000000032
         ],
         "xaxis": "x",
         "y": [
          60
         ],
         "yaxis": "y"
        },
        {
         "customdata": [
          [
           "High",
           "2025-08-28T02:25:13+00:00"
          ]
         ],
         "hovertemplate": "<b>%{hovertext}</b><br><br>city=%{text}<br>temperature_c=%{x}<br>humidity=%{y}<br>humidity_category=%{customdata[0]}<br>timestamp=%{customdata[1]}<extra></extra>",
         "hovertext": [
          "Rio de Janeiro"
         ],
         "legendgroup": "Rio de Janeiro",
         "marker": {
          "color": "#EF553B",
          "symbol": "circle"
         },
         "mode": "markers+text",
         "name": "Rio de Janeiro",
         "orientation": "v",
         "showlegend": true,
         "text": [
          "Rio de Janeiro"
         ],
         "textposition": "top center",
         "type": "scatter",
         "x": [
          21.980000000000018
         ],
         "xaxis": "x",
         "y": [
          83
         ],
         "yaxis": "y"
        },
        {
         "customdata": [
          [
           "High",
           "2025-08-28T02:28:05+00:00"
          ]
         ],
         "hovertemplate": "<b>%{hovertext}</b><br><br>city=%{text}<br>temperature_c=%{x}<br>humidity=%{y}<br>humidity_category=%{customdata[0]}<br>timestamp=%{customdata[1]}<extra></extra>",
         "hovertext": [
          "Salvador"
         ],
         "legendgroup": "Salvador",
         "marker": {
          "color": "#00cc96",
          "symbol": "circle"
         },
         "mode": "markers+text",
         "name": "Salvador",
         "orientation": "v",
         "showlegend": true,
         "text": [
          "Salvador"
         ],
         "textposition": "top center",
         "type": "scatter",
         "x": [
          24.980000000000018
         ],
         "xaxis": "x",
         "y": [
          75
         ],
         "yaxis": "y"
        },
        {
         "customdata": [
          [
           "High",
           "2025-08-28T02:29:16+00:00"
          ]
         ],
         "hovertemplate": "<b>%{hovertext}</b><br><br>city=%{text}<br>temperature_c=%{x}<br>humidity=%{y}<br>humidity_category=%{customdata[0]}<br>timestamp=%{customdata[1]}<extra></extra>",
         "hovertext": [
          "São Luís"
         ],
         "legendgroup": "São Luís",
         "marker": {
          "color": "#ab63fa",
          "symbol": "circle"
         },
         "mode": "markers+text",
         "name": "São Luís",
         "orientation": "v",
         "showlegend": true,
         "text": [
          "São Luís"
         ],
         "textposition": "top center",
         "type": "scatter",
         "x": [
          26.110000000000014
         ],
         "xaxis": "x",
         "y": [
          83
         ],
         "yaxis": "y"
        },
        {
         "customdata": [
          [
           "High",
           "2025-08-28T02:26:20+00:00"
          ]
         ],
         "hovertemplate": "<b>%{hovertext}</b><br><br>city=%{text}<br>temperature_c=%{x}<br>humidity=%{y}<br>humidity_category=%{customdata[0]}<br>timestamp=%{customdata[1]}<extra></extra>",
         "hovertext": [
          "São Paulo"
         ],
         "legendgroup": "São Paulo",
         "marker": {
          "color": "#FFA15A",
          "symbol": "circle"
         },
         "mode": "markers+text",
         "name": "São Paulo",
         "orientation": "v",
         "showlegend": true,
         "text": [
          "São Paulo"
         ],
         "textposition": "top center",
         "type": "scatter",
         "x": [
          15.200000000000045
         ],
         "xaxis": "x",
         "y": [
          94
         ],
         "yaxis": "y"
        },
        {
         "customdata": [
          [
           "Moderate",
           "2025-08-28T02:29:29+00:00"
          ]
         ],
         "hovertemplate": "<b>%{hovertext}</b><br><br>city=%{text}<br>temperature_c=%{x}<br>humidity=%{y}<br>humidity_category=%{customdata[0]}<br>timestamp=%{customdata[1]}<extra></extra>",
         "hovertext": [
          "Teresina"
         ],
         "legendgroup": "Teresina",
         "marker": {
          "color": "#19d3f3",
          "symbol": "circle"
         },
         "mode": "markers+text",
         "name": "Teresina",
         "orientation": "v",
         "showlegend": true,
         "text": [
          "Teresina"
         ],
         "textposition": "top center",
         "type": "scatter",
         "x": [
          29.840000000000032
         ],
         "xaxis": "x",
         "y": [
          48
         ],
         "yaxis": "y"
        },
        {
         "customdata": [
          [
           "High",
           "2025-08-28T02:29:13+00:00"
          ]
         ],
         "hovertemplate": "<b>%{hovertext}</b><br><br>city=%{text}<br>temperature_c=%{x}<br>humidity=%{y}<br>humidity_category=%{customdata[0]}<br>timestamp=%{customdata[1]}<extra></extra>",
         "hovertext": [
          "Vitória"
         ],
         "legendgroup": "Vitória",
         "marker": {
          "color": "#FF6692",
          "symbol": "circle"
         },
         "mode": "markers+text",
         "name": "Vitória",
         "orientation": "v",
         "showlegend": true,
         "text": [
          "Vitória"
         ],
         "textposition": "top center",
         "type": "scatter",
         "x": [
          19.920000000000016
         ],
         "xaxis": "x",
         "y": [
          94
         ],
         "yaxis": "y"
        }
       ],
       "layout": {
        "annotations": [
         {
          "showarrow": false,
          "text": "Faixa de conforto (30–60%)",
          "x": 0,
          "xanchor": "left",
          "xref": "x domain",
          "y": 60,
          "yanchor": "top",
          "yref": "y"
         }
        ],
        "legend": {
         "title": {
          "text": "city"
         },
         "tracegroupgap": 0
        },
        "shapes": [
         {
          "fillcolor": "LightGreen",
          "line": {
           "width": 0
          },
          "opacity": 0.2,
          "type": "rect",
          "x0": 0,
          "x1": 1,
          "xref": "x domain",
          "y0": 30,
          "y1": 60,
          "yref": "y"
         }
        ],
        "template": {
         "data": {
          "bar": [
           {
            "error_x": {
             "color": "#2a3f5f"
            },
            "error_y": {
             "color": "#2a3f5f"
            },
            "marker": {
             "line": {
              "color": "#E5ECF6",
              "width": 0.5
             },
             "pattern": {
              "fillmode": "overlay",
              "size": 10,
              "solidity": 0.2
             }
            },
            "type": "bar"
           }
          ],
          "barpolar": [
           {
            "marker": {
             "line": {
              "color": "#E5ECF6",
              "width": 0.5
             },
             "pattern": {
              "fillmode": "overlay",
              "size": 10,
              "solidity": 0.2
             }
            },
            "type": "barpolar"
           }
          ],
          "carpet": [
           {
            "aaxis": {
             "endlinecolor": "#2a3f5f",
             "gridcolor": "white",
             "linecolor": "white",
             "minorgridcolor": "white",
             "startlinecolor": "#2a3f5f"
            },
            "baxis": {
             "endlinecolor": "#2a3f5f",
             "gridcolor": "white",
             "linecolor": "white",
             "minorgridcolor": "white",
             "startlinecolor": "#2a3f5f"
            },
            "type": "carpet"
           }
          ],
          "choropleth": [
           {
            "colorbar": {
             "outlinewidth": 0,
             "ticks": ""
            },
            "type": "choropleth"
           }
          ],
          "contour": [
           {
            "colorbar": {
             "outlinewidth": 0,
             "ticks": ""
            },
            "colorscale": [
             [
              0,
              "#0d0887"
             ],
             [
              0.1111111111111111,
              "#46039f"
             ],
             [
              0.2222222222222222,
              "#7201a8"
             ],
             [
              0.3333333333333333,
              "#9c179e"
             ],
             [
              0.4444444444444444,
              "#bd3786"
             ],
             [
              0.5555555555555556,
              "#d8576b"
             ],
             [
              0.6666666666666666,
              "#ed7953"
             ],
             [
              0.7777777777777778,
              "#fb9f3a"
             ],
             [
              0.8888888888888888,
              "#fdca26"
             ],
             [
              1,
              "#f0f921"
             ]
            ],
            "type": "contour"
           }
          ],
          "contourcarpet": [
           {
            "colorbar": {
             "outlinewidth": 0,
             "ticks": ""
            },
            "type": "contourcarpet"
           }
          ],
          "heatmap": [
           {
            "colorbar": {
             "outlinewidth": 0,
             "ticks": ""
            },
            "colorscale": [
             [
              0,
              "#0d0887"
             ],
             [
              0.1111111111111111,
              "#46039f"
             ],
             [
              0.2222222222222222,
              "#7201a8"
             ],
             [
              0.3333333333333333,
              "#9c179e"
             ],
             [
              0.4444444444444444,
              "#bd3786"
             ],
             [
              0.5555555555555556,
              "#d8576b"
             ],
             [
              0.6666666666666666,
              "#ed7953"
             ],
             [
              0.7777777777777778,
              "#fb9f3a"
             ],
             [
              0.8888888888888888,
              "#fdca26"
             ],
             [
              1,
              "#f0f921"
             ]
            ],
            "type": "heatmap"
           }
          ],
          "heatmapgl": [
           {
            "colorbar": {
             "outlinewidth": 0,
             "ticks": ""
            },
            "colorscale": [
             [
              0,
              "#0d0887"
             ],
             [
              0.1111111111111111,
              "#46039f"
             ],
             [
              0.2222222222222222,
              "#7201a8"
             ],
             [
              0.3333333333333333,
              "#9c179e"
             ],
             [
              0.4444444444444444,
              "#bd3786"
             ],
             [
              0.5555555555555556,
              "#d8576b"
             ],
             [
              0.6666666666666666,
              "#ed7953"
             ],
             [
              0.7777777777777778,
              "#fb9f3a"
             ],
             [
              0.8888888888888888,
              "#fdca26"
             ],
             [
              1,
              "#f0f921"
             ]
            ],
            "type": "heatmapgl"
           }
          ],
          "histogram": [
           {
            "marker": {
             "pattern": {
              "fillmode": "overlay",
              "size": 10,
              "solidity": 0.2
             }
            },
            "type": "histogram"
           }
          ],
          "histogram2d": [
           {
            "colorbar": {
             "outlinewidth": 0,
             "ticks": ""
            },
            "colorscale": [
             [
              0,
              "#0d0887"
             ],
             [
              0.1111111111111111,
              "#46039f"
             ],
             [
              0.2222222222222222,
              "#7201a8"
             ],
             [
              0.3333333333333333,
              "#9c179e"
             ],
             [
              0.4444444444444444,
              "#bd3786"
             ],
             [
              0.5555555555555556,
              "#d8576b"
             ],
             [
              0.6666666666666666,
              "#ed7953"
             ],
             [
              0.7777777777777778,
              "#fb9f3a"
             ],
             [
              0.8888888888888888,
              "#fdca26"
             ],
             [
              1,
              "#f0f921"
             ]
            ],
            "type": "histogram2d"
           }
          ],
          "histogram2dcontour": [
           {
            "colorbar": {
             "outlinewidth": 0,
             "ticks": ""
            },
            "colorscale": [
             [
              0,
              "#0d0887"
             ],
             [
              0.1111111111111111,
              "#46039f"
             ],
             [
              0.2222222222222222,
              "#7201a8"
             ],
             [
              0.3333333333333333,
              "#9c179e"
             ],
             [
              0.4444444444444444,
              "#bd3786"
             ],
             [
              0.5555555555555556,
              "#d8576b"
             ],
             [
              0.6666666666666666,
              "#ed7953"
             ],
             [
              0.7777777777777778,
              "#fb9f3a"
             ],
             [
              0.8888888888888888,
              "#fdca26"
             ],
             [
              1,
              "#f0f921"
             ]
            ],
            "type": "histogram2dcontour"
           }
          ],
          "mesh3d": [
           {
            "colorbar": {
             "outlinewidth": 0,
             "ticks": ""
            },
            "type": "mesh3d"
           }
          ],
          "parcoords": [
           {
            "line": {
             "colorbar": {
              "outlinewidth": 0,
              "ticks": ""
             }
            },
            "type": "parcoords"
           }
          ],
          "pie": [
           {
            "automargin": true,
            "type": "pie"
           }
          ],
          "scatter": [
           {
            "fillpattern": {
             "fillmode": "overlay",
             "size": 10,
             "solidity": 0.2
            },
            "type": "scatter"
           }
          ],
          "scatter3d": [
           {
            "line": {
             "colorbar": {
              "outlinewidth": 0,
              "ticks": ""
             }
            },
            "marker": {
             "colorbar": {
              "outlinewidth": 0,
              "ticks": ""
             }
            },
            "type": "scatter3d"
           }
          ],
          "scattercarpet": [
           {
            "marker": {
             "colorbar": {
              "outlinewidth": 0,
              "ticks": ""
             }
            },
            "type": "scattercarpet"
           }
          ],
          "scattergeo": [
           {
            "marker": {
             "colorbar": {
              "outlinewidth": 0,
              "ticks": ""
             }
            },
            "type": "scattergeo"
           }
          ],
          "scattergl": [
           {
            "marker": {
             "colorbar": {
              "outlinewidth": 0,
              "ticks": ""
             }
            },
            "type": "scattergl"
           }
          ],
          "scattermapbox": [
           {
            "marker": {
             "colorbar": {
              "outlinewidth": 0,
              "ticks": ""
             }
            },
            "type": "scattermapbox"
           }
          ],
          "scatterpolar": [
           {
            "marker": {
             "colorbar": {
              "outlinewidth": 0,
              "ticks": ""
             }
            },
            "type": "scatterpolar"
           }
          ],
          "scatterpolargl": [
           {
            "marker": {
             "colorbar": {
              "outlinewidth": 0,
              "ticks": ""
             }
            },
            "type": "scatterpolargl"
           }
          ],
          "scatterternary": [
           {
            "marker": {
             "colorbar": {
              "outlinewidth": 0,
              "ticks": ""
             }
            },
            "type": "scatterternary"
           }
          ],
          "surface": [
           {
            "colorbar": {
             "outlinewidth": 0,
             "ticks": ""
            },
            "colorscale": [
             [
              0,
              "#0d0887"
             ],
             [
              0.1111111111111111,
              "#46039f"
             ],
             [
              0.2222222222222222,
              "#7201a8"
             ],
             [
              0.3333333333333333,
              "#9c179e"
             ],
             [
              0.4444444444444444,
              "#bd3786"
             ],
             [
              0.5555555555555556,
              "#d8576b"
             ],
             [
              0.6666666666666666,
              "#ed7953"
             ],
             [
              0.7777777777777778,
              "#fb9f3a"
             ],
             [
              0.8888888888888888,
              "#fdca26"
             ],
             [
              1,
              "#f0f921"
             ]
            ],
            "type": "surface"
           }
          ],
          "table": [
           {
            "cells": {
             "fill": {
              "color": "#EBF0F8"
             },
             "line": {
              "color": "white"
             }
            },
            "header": {
             "fill": {
              "color": "#C8D4E3"
             },
             "line": {
              "color": "white"
             }
            },
            "type": "table"
           }
          ]
         },
         "layout": {
          "annotationdefaults": {
           "arrowcolor": "#2a3f5f",
           "arrowhead": 0,
           "arrowwidth": 1
          },
          "autotypenumbers": "strict",
          "coloraxis": {
           "colorbar": {
            "outlinewidth": 0,
            "ticks": ""
           }
          },
          "colorscale": {
           "diverging": [
            [
             0,
             "#8e0152"
            ],
            [
             0.1,
             "#c51b7d"
            ],
            [
             0.2,
             "#de77ae"
            ],
            [
             0.3,
             "#f1b6da"
            ],
            [
             0.4,
             "#fde0ef"
            ],
            [
             0.5,
             "#f7f7f7"
            ],
            [
             0.6,
             "#e6f5d0"
            ],
            [
             0.7,
             "#b8e186"
            ],
            [
             0.8,
             "#7fbc41"
            ],
            [
             0.9,
             "#4d9221"
            ],
            [
             1,
             "#276419"
            ]
           ],
           "sequential": [
            [
             0,
             "#0d0887"
            ],
            [
             0.1111111111111111,
             "#46039f"
            ],
            [
             0.2222222222222222,
             "#7201a8"
            ],
            [
             0.3333333333333333,
             "#9c179e"
            ],
            [
             0.4444444444444444,
             "#bd3786"
            ],
            [
             0.5555555555555556,
             "#d8576b"
            ],
            [
             0.6666666666666666,
             "#ed7953"
            ],
            [
             0.7777777777777778,
             "#fb9f3a"
            ],
            [
             0.8888888888888888,
             "#fdca26"
            ],
            [
             1,
             "#f0f921"
            ]
           ],
           "sequentialminus": [
            [
             0,
             "#0d0887"
            ],
            [
             0.1111111111111111,
             "#46039f"
            ],
            [
             0.2222222222222222,
             "#7201a8"
            ],
            [
             0.3333333333333333,
             "#9c179e"
            ],
            [
             0.4444444444444444,
             "#bd3786"
            ],
            [
             0.5555555555555556,
             "#d8576b"
            ],
            [
             0.6666666666666666,
             "#ed7953"
            ],
            [
             0.7777777777777778,
             "#fb9f3a"
            ],
            [
             0.8888888888888888,
             "#fdca26"
            ],
            [
             1,
             "#f0f921"
            ]
           ]
          },
          "colorway": [
           "#636efa",
           "#EF553B",
           "#00cc96",
           "#ab63fa",
           "#FFA15A",
           "#19d3f3",
           "#FF6692",
           "#B6E880",
           "#FF97FF",
           "#FECB52"
          ],
          "font": {
           "color": "#2a3f5f"
          },
          "geo": {
           "bgcolor": "white",
           "lakecolor": "white",
           "landcolor": "#E5ECF6",
           "showlakes": true,
           "showland": true,
           "subunitcolor": "white"
          },
          "hoverlabel": {
           "align": "left"
          },
          "hovermode": "closest",
          "mapbox": {
           "style": "light"
          },
          "paper_bgcolor": "white",
          "plot_bgcolor": "#E5ECF6",
          "polar": {
           "angularaxis": {
            "gridcolor": "white",
            "linecolor": "white",
            "ticks": ""
           },
           "bgcolor": "#E5ECF6",
           "radialaxis": {
            "gridcolor": "white",
            "linecolor": "white",
            "ticks": ""
           }
          },
          "scene": {
           "xaxis": {
            "backgroundcolor": "#E5ECF6",
            "gridcolor": "white",
            "gridwidth": 2,
            "linecolor": "white",
            "showbackground": true,
            "ticks": "",
            "zerolinecolor": "white"
           },
           "yaxis": {
            "backgroundcolor": "#E5ECF6",
            "gridcolor": "white",
            "gridwidth": 2,
            "linecolor": "white",
            "showbackground": true,
            "ticks": "",
            "zerolinecolor": "white"
           },
           "zaxis": {
            "backgroundcolor": "#E5ECF6",
            "gridcolor": "white",
            "gridwidth": 2,
            "linecolor": "white",
            "showbackground": true,
            "ticks": "",
            "zerolinecolor": "white"
           }
          },
          "shapedefaults": {
           "line": {
            "color": "#2a3f5f"
           }
          },
          "ternary": {
           "aaxis": {
            "gridcolor": "white",
            "linecolor": "white",
            "ticks": ""
           },
           "baxis": {
            "gridcolor": "white",
            "linecolor": "white",
            "ticks": ""
           },
           "bgcolor": "#E5ECF6",
           "caxis": {
            "gridcolor": "white",
            "linecolor": "white",
            "ticks": ""
           }
          },
          "title": {
           "x": 0.05
          },
          "xaxis": {
           "automargin": true,
           "gridcolor": "white",
           "linecolor": "white",
           "ticks": "",
           "title": {
            "standoff": 15
           },
           "zerolinecolor": "white",
           "zerolinewidth": 2
          },
          "yaxis": {
           "automargin": true,
           "gridcolor": "white",
           "linecolor": "white",
           "ticks": "",
           "title": {
            "standoff": 15
           },
           "zerolinecolor": "white",
           "zerolinewidth": 2
          }
         }
        },
        "title": {
         "text": "Temperatura (°C) × Umidade (%) — Capitais BR"
        },
        "xaxis": {
         "anchor": "y",
         "domain": [
          0,
          1
         ],
         "title": {
          "text": "Temperatura (°C)"
         }
        },
        "yaxis": {
         "anchor": "x",
         "domain": [
          0,
          1
         ],
         "range": [
          0,
          100
         ],
         "title": {
          "text": "Umidade (%)"
         }
        }
       }
      }
     },
     "metadata": {},
     "output_type": "display_data"
    },
    {
     "data": {
      "application/vnd.plotly.v1+json": {
       "config": {
        "plotlyServerURL": "https://plot.ly"
       },
       "data": [
        {
         "alignmentgroup": "True",
         "hovertemplate": "city=%{x}<br>temperature_c=%{marker.color}<extra></extra>",
         "legendgroup": "",
         "marker": {
          "color": [
           29.840000000000032,
           27.99000000000001,
           27.99000000000001,
           27.27000000000004,
           26.110000000000014,
           26.07000000000005,
           26.02000000000004,
           25.930000000000007,
           25.03000000000003,
           25.02000000000004,
           24.980000000000018,
           24.83000000000004,
           23.970000000000027,
           23.960000000000036,
           23.689999999999998,
           23.340000000000032,
           23.120000000000005,
           22.510000000000048,
           22.129999999999995,
           21.980000000000018,
           20.24000000000001,
           19.920000000000016,
           18.75,
           16.33000000000004,
           15.200000000000045,
           15.120000000000005,
           13
          ],
          "coloraxis": "coloraxis",
          "pattern": {
           "shape": ""
          }
         },
         "name": "",
         "offsetgroup": "",
         "orientation": "v",
         "showlegend": false,
         "text": [
          29.840000000000032,
          27.99000000000001,
          27.99000000000001,
          27.27000000000004,
          26.110000000000014,
          26.07000000000005,
          26.02000000000004,
          25.930000000000007,
          25.03000000000003,
          25.02000000000004,
          24.980000000000018,
          24.83000000000004,
          23.970000000000027,
          23.960000000000036,
          23.689999999999998,
          23.340000000000032,
          23.120000000000005,
          22.510000000000048,
          22.129999999999995,
          21.980000000000018,
          20.24000000000001,
          19.920000000000016,
          18.75,
          16.33000000000004,
          15.200000000000045,
          15.120000000000005,
          13
         ],
         "textposition": "outside",
         "texttemplate": "%{text:.1f}°C",
         "type": "bar",
         "x": [
          "Teresina",
          "Boa Vista",
          "Macapá",
          "Manaus",
          "São Luís",
          "Fortaleza",
          "Belém",
          "Palmas",
          "Porto Velho",
          "Recife",
          "Salvador",
          "Goiânia",
          "Aracaju",
          "Cuiabá",
          "Maceió",
          "Rio Branco",
          "Natal",
          "Brasília",
          "João Pessoa",
          "Rio de Janeiro",
          "Belo Horizonte",
          "Vitória",
          "Campo Grande",
          "Florianópolis",
          "São Paulo",
          "Porto Alegre",
          "Curitiba"
         ],
         "xaxis": "x",
         "y": [
          29.840000000000032,
          27.99000000000001,
          27.99000000000001,
          27.27000000000004,
          26.110000000000014,
          26.07000000000005,
          26.02000000000004,
          25.930000000000007,
          25.03000000000003,
          25.02000000000004,
          24.980000000000018,
          24.83000000000004,
          23.970000000000027,
          23.960000000000036,
          23.689999999999998,
          23.340000000000032,
          23.120000000000005,
          22.510000000000048,
          22.129999999999995,
          21.980000000000018,
          20.24000000000001,
          19.920000000000016,
          18.75,
          16.33000000000004,
          15.200000000000045,
          15.120000000000005,
          13
         ],
         "yaxis": "y"
        }
       ],
       "layout": {
        "barmode": "relative",
        "coloraxis": {
         "colorbar": {
          "title": {
           "text": "Temperatura (°C)"
          }
         },
         "colorscale": [
          [
           0,
           "rgb(165,0,38)"
          ],
          [
           0.1,
           "rgb(215,48,39)"
          ],
          [
           0.2,
           "rgb(244,109,67)"
          ],
          [
           0.3,
           "rgb(253,174,97)"
          ],
          [
           0.4,
           "rgb(254,224,144)"
          ],
          [
           0.5,
           "rgb(255,255,191)"
          ],
          [
           0.6,
           "rgb(224,243,248)"
          ],
          [
           0.7,
           "rgb(171,217,233)"
          ],
          [
           0.8,
           "rgb(116,173,209)"
          ],
          [
           0.9,
           "rgb(69,117,180)"
          ],
          [
           1,
           "rgb(49,54,149)"
          ]
         ]
        },
        "legend": {
         "tracegroupgap": 0
        },
        "template": {
         "data": {
          "bar": [
           {
            "error_x": {
             "color": "#2a3f5f"
            },
            "error_y": {
             "color": "#2a3f5f"
            },
            "marker": {
             "line": {
              "color": "#E5ECF6",
              "width": 0.5
             },
             "pattern": {
              "fillmode": "overlay",
              "size": 10,
              "solidity": 0.2
             }
            },
            "type": "bar"
           }
          ],
          "barpolar": [
           {
            "marker": {
             "line": {
              "color": "#E5ECF6",
              "width": 0.5
             },
             "pattern": {
              "fillmode": "overlay",
              "size": 10,
              "solidity": 0.2
             }
            },
            "type": "barpolar"
           }
          ],
          "carpet": [
           {
            "aaxis": {
             "endlinecolor": "#2a3f5f",
             "gridcolor": "white",
             "linecolor": "white",
             "minorgridcolor": "white",
             "startlinecolor": "#2a3f5f"
            },
            "baxis": {
             "endlinecolor": "#2a3f5f",
             "gridcolor": "white",
             "linecolor": "white",
             "minorgridcolor": "white",
             "startlinecolor": "#2a3f5f"
            },
            "type": "carpet"
           }
          ],
          "choropleth": [
           {
            "colorbar": {
             "outlinewidth": 0,
             "ticks": ""
            },
            "type": "choropleth"
           }
          ],
          "contour": [
           {
            "colorbar": {
             "outlinewidth": 0,
             "ticks": ""
            },
            "colorscale": [
             [
              0,
              "#0d0887"
             ],
             [
              0.1111111111111111,
              "#46039f"
             ],
             [
              0.2222222222222222,
              "#7201a8"
             ],
             [
              0.3333333333333333,
              "#9c179e"
             ],
             [
              0.4444444444444444,
              "#bd3786"
             ],
             [
              0.5555555555555556,
              "#d8576b"
             ],
             [
              0.6666666666666666,
              "#ed7953"
             ],
             [
              0.7777777777777778,
              "#fb9f3a"
             ],
             [
              0.8888888888888888,
              "#fdca26"
             ],
             [
              1,
              "#f0f921"
             ]
            ],
            "type": "contour"
           }
          ],
          "contourcarpet": [
           {
            "colorbar": {
             "outlinewidth": 0,
             "ticks": ""
            },
            "type": "contourcarpet"
           }
          ],
          "heatmap": [
           {
            "colorbar": {
             "outlinewidth": 0,
             "ticks": ""
            },
            "colorscale": [
             [
              0,
              "#0d0887"
             ],
             [
              0.1111111111111111,
              "#46039f"
             ],
             [
              0.2222222222222222,
              "#7201a8"
             ],
             [
              0.3333333333333333,
              "#9c179e"
             ],
             [
              0.4444444444444444,
              "#bd3786"
             ],
             [
              0.5555555555555556,
              "#d8576b"
             ],
             [
              0.6666666666666666,
              "#ed7953"
             ],
             [
              0.7777777777777778,
              "#fb9f3a"
             ],
             [
              0.8888888888888888,
              "#fdca26"
             ],
             [
              1,
              "#f0f921"
             ]
            ],
            "type": "heatmap"
           }
          ],
          "heatmapgl": [
           {
            "colorbar": {
             "outlinewidth": 0,
             "ticks": ""
            },
            "colorscale": [
             [
              0,
              "#0d0887"
             ],
             [
              0.1111111111111111,
              "#46039f"
             ],
             [
              0.2222222222222222,
              "#7201a8"
             ],
             [
              0.3333333333333333,
              "#9c179e"
             ],
             [
              0.4444444444444444,
              "#bd3786"
             ],
             [
              0.5555555555555556,
              "#d8576b"
             ],
             [
              0.6666666666666666,
              "#ed7953"
             ],
             [
              0.7777777777777778,
              "#fb9f3a"
             ],
             [
              0.8888888888888888,
              "#fdca26"
             ],
             [
              1,
              "#f0f921"
             ]
            ],
            "type": "heatmapgl"
           }
          ],
          "histogram": [
           {
            "marker": {
             "pattern": {
              "fillmode": "overlay",
              "size": 10,
              "solidity": 0.2
             }
            },
            "type": "histogram"
           }
          ],
          "histogram2d": [
           {
            "colorbar": {
             "outlinewidth": 0,
             "ticks": ""
            },
            "colorscale": [
             [
              0,
              "#0d0887"
             ],
             [
              0.1111111111111111,
              "#46039f"
             ],
             [
              0.2222222222222222,
              "#7201a8"
             ],
             [
              0.3333333333333333,
              "#9c179e"
             ],
             [
              0.4444444444444444,
              "#bd3786"
             ],
             [
              0.5555555555555556,
              "#d8576b"
             ],
             [
              0.6666666666666666,
              "#ed7953"
             ],
             [
              0.7777777777777778,
              "#fb9f3a"
             ],
             [
              0.8888888888888888,
              "#fdca26"
             ],
             [
              1,
              "#f0f921"
             ]
            ],
            "type": "histogram2d"
           }
          ],
          "histogram2dcontour": [
           {
            "colorbar": {
             "outlinewidth": 0,
             "ticks": ""
            },
            "colorscale": [
             [
              0,
              "#0d0887"
             ],
             [
              0.1111111111111111,
              "#46039f"
             ],
             [
              0.2222222222222222,
              "#7201a8"
             ],
             [
              0.3333333333333333,
              "#9c179e"
             ],
             [
              0.4444444444444444,
              "#bd3786"
             ],
             [
              0.5555555555555556,
              "#d8576b"
             ],
             [
              0.6666666666666666,
              "#ed7953"
             ],
             [
              0.7777777777777778,
              "#fb9f3a"
             ],
             [
              0.8888888888888888,
              "#fdca26"
             ],
             [
              1,
              "#f0f921"
             ]
            ],
            "type": "histogram2dcontour"
           }
          ],
          "mesh3d": [
           {
            "colorbar": {
             "outlinewidth": 0,
             "ticks": ""
            },
            "type": "mesh3d"
           }
          ],
          "parcoords": [
           {
            "line": {
             "colorbar": {
              "outlinewidth": 0,
              "ticks": ""
             }
            },
            "type": "parcoords"
           }
          ],
          "pie": [
           {
            "automargin": true,
            "type": "pie"
           }
          ],
          "scatter": [
           {
            "fillpattern": {
             "fillmode": "overlay",
             "size": 10,
             "solidity": 0.2
            },
            "type": "scatter"
           }
          ],
          "scatter3d": [
           {
            "line": {
             "colorbar": {
              "outlinewidth": 0,
              "ticks": ""
             }
            },
            "marker": {
             "colorbar": {
              "outlinewidth": 0,
              "ticks": ""
             }
            },
            "type": "scatter3d"
           }
          ],
          "scattercarpet": [
           {
            "marker": {
             "colorbar": {
              "outlinewidth": 0,
              "ticks": ""
             }
            },
            "type": "scattercarpet"
           }
          ],
          "scattergeo": [
           {
            "marker": {
             "colorbar": {
              "outlinewidth": 0,
              "ticks": ""
             }
            },
            "type": "scattergeo"
           }
          ],
          "scattergl": [
           {
            "marker": {
             "colorbar": {
              "outlinewidth": 0,
              "ticks": ""
             }
            },
            "type": "scattergl"
           }
          ],
          "scattermapbox": [
           {
            "marker": {
             "colorbar": {
              "outlinewidth": 0,
              "ticks": ""
             }
            },
            "type": "scattermapbox"
           }
          ],
          "scatterpolar": [
           {
            "marker": {
             "colorbar": {
              "outlinewidth": 0,
              "ticks": ""
             }
            },
            "type": "scatterpolar"
           }
          ],
          "scatterpolargl": [
           {
            "marker": {
             "colorbar": {
              "outlinewidth": 0,
              "ticks": ""
             }
            },
            "type": "scatterpolargl"
           }
          ],
          "scatterternary": [
           {
            "marker": {
             "colorbar": {
              "outlinewidth": 0,
              "ticks": ""
             }
            },
            "type": "scatterternary"
           }
          ],
          "surface": [
           {
            "colorbar": {
             "outlinewidth": 0,
             "ticks": ""
            },
            "colorscale": [
             [
              0,
              "#0d0887"
             ],
             [
              0.1111111111111111,
              "#46039f"
             ],
             [
              0.2222222222222222,
              "#7201a8"
             ],
             [
              0.3333333333333333,
              "#9c179e"
             ],
             [
              0.4444444444444444,
              "#bd3786"
             ],
             [
              0.5555555555555556,
              "#d8576b"
             ],
             [
              0.6666666666666666,
              "#ed7953"
             ],
             [
              0.7777777777777778,
              "#fb9f3a"
             ],
             [
              0.8888888888888888,
              "#fdca26"
             ],
             [
              1,
              "#f0f921"
             ]
            ],
            "type": "surface"
           }
          ],
          "table": [
           {
            "cells": {
             "fill": {
              "color": "#EBF0F8"
             },
             "line": {
              "color": "white"
             }
            },
            "header": {
             "fill": {
              "color": "#C8D4E3"
             },
             "line": {
              "color": "white"
             }
            },
            "type": "table"
           }
          ]
         },
         "layout": {
          "annotationdefaults": {
           "arrowcolor": "#2a3f5f",
           "arrowhead": 0,
           "arrowwidth": 1
          },
          "autotypenumbers": "strict",
          "coloraxis": {
           "colorbar": {
            "outlinewidth": 0,
            "ticks": ""
           }
          },
          "colorscale": {
           "diverging": [
            [
             0,
             "#8e0152"
            ],
            [
             0.1,
             "#c51b7d"
            ],
            [
             0.2,
             "#de77ae"
            ],
            [
             0.3,
             "#f1b6da"
            ],
            [
             0.4,
             "#fde0ef"
            ],
            [
             0.5,
             "#f7f7f7"
            ],
            [
             0.6,
             "#e6f5d0"
            ],
            [
             0.7,
             "#b8e186"
            ],
            [
             0.8,
             "#7fbc41"
            ],
            [
             0.9,
             "#4d9221"
            ],
            [
             1,
             "#276419"
            ]
           ],
           "sequential": [
            [
             0,
             "#0d0887"
            ],
            [
             0.1111111111111111,
             "#46039f"
            ],
            [
             0.2222222222222222,
             "#7201a8"
            ],
            [
             0.3333333333333333,
             "#9c179e"
            ],
            [
             0.4444444444444444,
             "#bd3786"
            ],
            [
             0.5555555555555556,
             "#d8576b"
            ],
            [
             0.6666666666666666,
             "#ed7953"
            ],
            [
             0.7777777777777778,
             "#fb9f3a"
            ],
            [
             0.8888888888888888,
             "#fdca26"
            ],
            [
             1,
             "#f0f921"
            ]
           ],
           "sequentialminus": [
            [
             0,
             "#0d0887"
            ],
            [
             0.1111111111111111,
             "#46039f"
            ],
            [
             0.2222222222222222,
             "#7201a8"
            ],
            [
             0.3333333333333333,
             "#9c179e"
            ],
            [
             0.4444444444444444,
             "#bd3786"
            ],
            [
             0.5555555555555556,
             "#d8576b"
            ],
            [
             0.6666666666666666,
             "#ed7953"
            ],
            [
             0.7777777777777778,
             "#fb9f3a"
            ],
            [
             0.8888888888888888,
             "#fdca26"
            ],
            [
             1,
             "#f0f921"
            ]
           ]
          },
          "colorway": [
           "#636efa",
           "#EF553B",
           "#00cc96",
           "#ab63fa",
           "#FFA15A",
           "#19d3f3",
           "#FF6692",
           "#B6E880",
           "#FF97FF",
           "#FECB52"
          ],
          "font": {
           "color": "#2a3f5f"
          },
          "geo": {
           "bgcolor": "white",
           "lakecolor": "white",
           "landcolor": "#E5ECF6",
           "showlakes": true,
           "showland": true,
           "subunitcolor": "white"
          },
          "hoverlabel": {
           "align": "left"
          },
          "hovermode": "closest",
          "mapbox": {
           "style": "light"
          },
          "paper_bgcolor": "white",
          "plot_bgcolor": "#E5ECF6",
          "polar": {
           "angularaxis": {
            "gridcolor": "white",
            "linecolor": "white",
            "ticks": ""
           },
           "bgcolor": "#E5ECF6",
           "radialaxis": {
            "gridcolor": "white",
            "linecolor": "white",
            "ticks": ""
           }
          },
          "scene": {
           "xaxis": {
            "backgroundcolor": "#E5ECF6",
            "gridcolor": "white",
            "gridwidth": 2,
            "linecolor": "white",
            "showbackground": true,
            "ticks": "",
            "zerolinecolor": "white"
           },
           "yaxis": {
            "backgroundcolor": "#E5ECF6",
            "gridcolor": "white",
            "gridwidth": 2,
            "linecolor": "white",
            "showbackground": true,
            "ticks": "",
            "zerolinecolor": "white"
           },
           "zaxis": {
            "backgroundcolor": "#E5ECF6",
            "gridcolor": "white",
            "gridwidth": 2,
            "linecolor": "white",
            "showbackground": true,
            "ticks": "",
            "zerolinecolor": "white"
           }
          },
          "shapedefaults": {
           "line": {
            "color": "#2a3f5f"
           }
          },
          "ternary": {
           "aaxis": {
            "gridcolor": "white",
            "linecolor": "white",
            "ticks": ""
           },
           "baxis": {
            "gridcolor": "white",
            "linecolor": "white",
            "ticks": ""
           },
           "bgcolor": "#E5ECF6",
           "caxis": {
            "gridcolor": "white",
            "linecolor": "white",
            "ticks": ""
           }
          },
          "title": {
           "x": 0.05
          },
          "xaxis": {
           "automargin": true,
           "gridcolor": "white",
           "linecolor": "white",
           "ticks": "",
           "title": {
            "standoff": 15
           },
           "zerolinecolor": "white",
           "zerolinewidth": 2
          },
          "yaxis": {
           "automargin": true,
           "gridcolor": "white",
           "linecolor": "white",
           "ticks": "",
           "title": {
            "standoff": 15
           },
           "zerolinecolor": "white",
           "zerolinewidth": 2
          }
         }
        },
        "title": {
         "text": "Temperatura atual por capital (com valores)"
        },
        "xaxis": {
         "anchor": "y",
         "domain": [
          0,
          1
         ],
         "tickangle": -45,
         "title": {
          "text": "city"
         }
        },
        "yaxis": {
         "anchor": "x",
         "domain": [
          0,
          1
         ],
         "title": {
          "text": "temperature_c"
         }
        }
       }
      }
     },
     "metadata": {},
     "output_type": "display_data"
    },
    {
     "name": "stdout",
     "output_type": "stream",
     "text": [
      "Gráficos salvos em: /tmp/pipeline_api/data/reports\n"
     ]
    }
   ],
   "source": [
    "# === Passo 8 — Visualizações ===\n",
    "import os\n",
    "import pyarrow.dataset as ds\n",
    "import pandas as pd\n",
    "import plotly.express as px\n",
    "\n",
    "# garante o caminho do parquet final\n",
    "try:\n",
    "    OUT_FINAL\n",
    "except NameError:\n",
    "    OUT_FINAL = os.path.join(PROC_DIR, \"weather_countries.parquet\")\n",
    "\n",
    "# carrega o dataset final\n",
    "dataset_final = ds.dataset(OUT_FINAL, format=\"parquet\")\n",
    "viz_df = dataset_final.to_table().to_pandas()\n",
    "\n",
    "# (opcional) remove linhas 100% duplicadas, caso reexecute o join\n",
    "viz_df = viz_df.drop_duplicates()\n",
    "\n",
    "# --- Gráfico 1 (novo): Temperatura × Umidade (colorindo por região) ---\n",
    "# --- Gráfico 1 (ajustado com rótulo da cidade) ---\n",
    "fig1 = px.scatter(\n",
    "    viz_df,\n",
    "    x=\"temperature_c\",\n",
    "    y=\"humidity\",\n",
    "    color=\"city\",                \n",
    "    hover_name=\"city\",\n",
    "    hover_data=[\"temperature_c\",\"humidity\",\"humidity_category\",\"timestamp\"],\n",
    "    text=\"city\",  # <<< adiciona rótulo no ponto\n",
    "    title=\"Temperatura (°C) × Umidade (%) — Capitais BR\"\n",
    ")\n",
    "fig1.update_traces(textposition=\"top center\")  # posição do texto em relação ao ponto\n",
    "fig1.update_xaxes(title=\"Temperatura (°C)\")\n",
    "fig1.update_yaxes(title=\"Umidade (%)\", range=[0, 100])\n",
    "\n",
    "# faixa de conforto 30–60%\n",
    "fig1.add_hrect(\n",
    "    y0=30, y1=60,\n",
    "    line_width=0, fillcolor=\"LightGreen\", opacity=0.2,\n",
    "    annotation_text=\"Faixa de conforto (30–60%)\", annotation_position=\"top left\"\n",
    ")\n",
    "\n",
    "fig1.show()\n",
    "\n",
    "\n",
    "# --- Gráfico 2: Barras - Temperatura atual por capital (com escala de cores) ---\n",
    "fig2 = px.bar(\n",
    "    viz_df.sort_values(\"temperature_c\", ascending=False),\n",
    "    x=\"city\",\n",
    "    y=\"temperature_c\",\n",
    "    color=\"temperature_c\",\n",
    "    color_continuous_scale=\"RdYlBu\",   # azul = frio | vermelho = quente\n",
    "    text=\"temperature_c\",\n",
    "    title=\"Temperatura atual por capital (com valores)\"\n",
    ")\n",
    "fig2.update_traces(texttemplate=\"%{text:.1f}°C\", textposition=\"outside\")\n",
    "fig2.update_layout(xaxis_tickangle=-45, coloraxis_colorbar=dict(title=\"Temperatura (°C)\"))\n",
    "fig2.show()\n",
    "\n",
    "# salvar em HTML\n",
    "os.makedirs(REP_DIR, exist_ok=True)\n",
    "fig1.write_html(os.path.join(REP_DIR, \"scatter_temp_humidity.html\"))\n",
    "fig2.write_html(os.path.join(REP_DIR, \"bar_temperature_by_city.html\"))\n",
    "print(\"Gráficos salvos em:\", REP_DIR)"
   ]
  },
  {
   "cell_type": "markdown",
   "metadata": {
    "application/vnd.databricks.v1+cell": {
     "cellMetadata": {},
     "inputWidgets": {},
     "nuid": "9be977a2-3295-41d6-a5bd-a31bbef78694",
     "showTitle": false,
     "tableResultSettingsMap": {},
     "title": ""
    }
   },
   "source": [
    "## 9- 📂 Estrutura Final — **Raw / Processed / Reports**\n"
   ]
  },
  {
   "cell_type": "code",
   "execution_count": 12,
   "metadata": {
    "application/vnd.databricks.v1+cell": {
     "cellMetadata": {
      "byteLimit": 2048000,
      "rowLimit": 10000
     },
     "inputWidgets": {},
     "nuid": "751ec4a9-62fc-456f-a985-ed5482a66428",
     "showTitle": false,
     "tableResultSettingsMap": {},
     "title": ""
    }
   },
   "outputs": [
    {
     "name": "stdout",
     "output_type": "stream",
     "text": [
      "pipeline_api/\n",
      "  data/\n",
      "    processed/\n",
      "      weather_countries.parquet/\n",
      "        2025/\n",
      "          8/\n",
      "            part-0.parquet\n",
      "      weather_only.parquet/\n",
      "        2025/\n",
      "          8/\n",
      "            part-0.parquet\n",
      "    raw/\n",
      "      weather_PortoVelho_20250828_022901.json\n",
      "      weather_Goiania_20250828_022901.json\n",
      "      weather_SaoPaulo_20250828_022901.json\n",
      "      weather_PortoAlegre_20250828_022901.json\n",
      "      weather_JoaoPessoa_20250828_022901.json\n",
      "      weather_RiodeJaneiro_20250828_022901.json\n",
      "      weather_CampoGrande_20250828_022901.json\n",
      "      weather_Macapa_20250828_022901.json\n",
      "      weather_Natal_20250828_022901.json\n",
      "      weather_Maceio_20250828_022901.json\n",
      "      weather_Recife_20250828_022901.json\n",
      "      weather_Teresina_20250828_022901.json\n",
      "      weather_SaoLuis_20250828_022901.json\n",
      "      weather_Palmas_20250828_022901.json\n",
      "      weather_Fortaleza_20250828_022901.json\n",
      "      weather_Brasilia_20250828_022901.json\n",
      "      weather_Curitiba_20250828_022901.json\n",
      "      weather_Aracaju_20250828_022901.json\n",
      "      weather_Vitoria_20250828_022901.json\n",
      "      weather_Belem_20250828_022901.json\n",
      "      weather_RioBranco_20250828_022901.json\n",
      "      weather_BeloHorizonte_20250828_022901.json\n",
      "      weather_BoaVista_20250828_022901.json\n",
      "      weather_Florianopolis_20250828_022901.json\n",
      "      weather_Salvador_20250828_022901.json\n",
      "      weather_Manaus_20250828_022901.json\n",
      "      weather_Cuiaba_20250828_022901.json\n",
      "    reports/\n",
      "      quality_weather_20250828_022901.json\n",
      "      bar_temperature_by_city.html\n",
      "      scatter_temp_humidity.html\n",
      "      quality_weather_countries_20250828_022901.json\n"
     ]
    }
   ],
   "source": [
    "# === Passo 9 — Estrutura Final ===\n",
    "for root, dirs, files in os.walk(BASE_DIR):\n",
    "    level = root.replace(BASE_DIR, \"\").count(os.sep)\n",
    "    indent = \" \" * (2 * level)\n",
    "    print(f\"{indent}{os.path.basename(root)}/\")\n",
    "    subindent = \" \" * (2 * (level + 1))\n",
    "    for f in files:\n",
    "        print(f\"{subindent}{f}\")"
   ]
  },
  {
   "cell_type": "markdown",
   "metadata": {
    "application/vnd.databricks.v1+cell": {
     "cellMetadata": {},
     "inputWidgets": {},
     "nuid": "9f2aa35a-2e94-4db2-b7a4-b427b5d1c3fd",
     "showTitle": false,
     "tableResultSettingsMap": {},
     "title": ""
    }
   },
   "source": [
    "## 10- 📦 Empacotamento Final — **ZIP do Projeto**"
   ]
  },
  {
   "cell_type": "code",
   "execution_count": 13,
   "metadata": {
    "application/vnd.databricks.v1+cell": {
     "cellMetadata": {
      "byteLimit": 2048000,
      "rowLimit": 10000
     },
     "inputWidgets": {},
     "nuid": "4b0fdf8e-c14c-460b-b89d-ec2040a20f13",
     "showTitle": false,
     "tableResultSettingsMap": {},
     "title": ""
    }
   },
   "outputs": [
    {
     "name": "stdout",
     "output_type": "stream",
     "text": [
      "ZIP gerado em: /tmp/pipeline_output.zip\n"
     ]
    }
   ],
   "source": [
    "import shutil, os\n",
    "ZIP_TARGET = \"/tmp/pipeline_output\"\n",
    "BASE_DIR = \"/tmp/pipeline_api\"  # raiz onde está data/raw, processed, reports\n",
    "shutil.make_archive(ZIP_TARGET, \"zip\", BASE_DIR)\n",
    "print(\"ZIP gerado em:\", ZIP_TARGET + \".zip\")"
   ]
  }
 ],
 "metadata": {
  "application/vnd.databricks.v1+notebook": {
   "computePreferences": null,
   "dashboards": [],
   "environmentMetadata": {
    "base_environment": "",
    "environment_version": "3"
   },
   "inputWidgetPreferences": null,
   "language": "python",
   "notebookMetadata": {
    "pythonIndentUnit": 4
   },
   "notebookName": "Projeto Prático — Pipeline de Dados em Python",
   "widgets": {}
  },
  "kernelspec": {
   "display_name": "base",
   "language": "python",
   "name": "python3"
  },
  "language_info": {
   "codemirror_mode": {
    "name": "ipython",
    "version": 3
   },
   "file_extension": ".py",
   "mimetype": "text/x-python",
   "name": "python",
   "nbconvert_exporter": "python",
   "pygments_lexer": "ipython3",
   "version": "3.11.5"
  }
 },
 "nbformat": 4,
 "nbformat_minor": 0
}

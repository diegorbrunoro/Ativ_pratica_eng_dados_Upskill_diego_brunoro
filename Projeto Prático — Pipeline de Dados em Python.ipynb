{
 "cells": [
  {
   "cell_type": "markdown",
   "metadata": {
    "application/vnd.databricks.v1+cell": {
     "cellMetadata": {},
     "inputWidgets": {},
     "nuid": "9799db2b-3f39-45be-8db1-ef56a4da35dd",
     "showTitle": false,
     "tableResultSettingsMap": {},
     "title": ""
    }
   },
   "source": [
    "## 1- ⚙️ Setup Inicial — Diretórios de Trabalho\n"
   ]
  },
  {
   "cell_type": "code",
   "execution_count": 0,
   "metadata": {
    "application/vnd.databricks.v1+cell": {
     "cellMetadata": {
      "byteLimit": 2048000,
      "rowLimit": 10000
     },
     "inputWidgets": {},
     "nuid": "7b4db442-df26-4c66-b712-37743f51f4d5",
     "showTitle": false,
     "tableResultSettingsMap": {},
     "title": ""
    }
   },
   "outputs": [
    {
     "name": "stdout",
     "output_type": "stream",
     "text": [
      "RAW_DIR: /tmp/pipeline_api/data/raw\n"
     ]
    }
   ],
   "source": [
    "import os\n",
    "\n",
    "BASE_DIR = \"/tmp/pipeline_api\"\n",
    "RAW_DIR = os.path.join(BASE_DIR, \"data\", \"raw\")\n",
    "os.makedirs(RAW_DIR, exist_ok=True)\n",
    "\n",
    "print(\"RAW_DIR:\", RAW_DIR)\n"
   ]
  },
  {
   "cell_type": "markdown",
   "metadata": {
    "application/vnd.databricks.v1+cell": {
     "cellMetadata": {},
     "inputWidgets": {},
     "nuid": "ea26d839-6aeb-47f7-a638-4eb12c77c2af",
     "showTitle": false,
     "tableResultSettingsMap": {},
     "title": ""
    }
   },
   "source": [
    "## 2- ⚙️ Configuração Inicial do Pipeline"
   ]
  },
  {
   "cell_type": "code",
   "execution_count": 0,
   "metadata": {
    "application/vnd.databricks.v1+cell": {
     "cellMetadata": {
      "byteLimit": 2048000,
      "rowLimit": 10000
     },
     "inputWidgets": {},
     "nuid": "74c9f0d3-c389-4c9a-a776-c3f548aa1d7c",
     "showTitle": false,
     "tableResultSettingsMap": {},
     "title": ""
    }
   },
   "outputs": [
    {
     "name": "stdout",
     "output_type": "stream",
     "text": [
      "Exemplo de normalização: Brasília -> brasilia\n"
     ]
    }
   ],
   "source": [
    "# === Passo 2 — Configuração Inicial do Pipeline (27 capitais BR) ===\n",
    "import os, unicodedata, re\n",
    "from datetime import datetime, timezone\n",
    "\n",
    "# sua chave da API OpenWeather\n",
    "#OPENWEATHER_KEY = \"-\"\n",
    "#\n",
    "OPENWEATHER_KEY = getpass(\"Cole sua OPENWEATHER_KEY: \")\n",
    "assert OPENWEATHER_KEY, \"Informe a chave\"\n",
    "\n",
    "# 27 capitais brasileiras (com acentos corretos)\n",
    "CAPITAIS_BR = [\n",
    "    \"Rio Branco\",\"Maceió\",\"Macapá\",\"Manaus\",\"Salvador\",\"Fortaleza\",\"Brasília\",\n",
    "    \"Vitória\",\"Goiânia\",\"São Luís\",\"Cuiabá\",\"Campo Grande\",\"Belo Horizonte\",\n",
    "    \"Belém\",\"João Pessoa\",\"Curitiba\",\"Recife\",\"Teresina\",\"Rio de Janeiro\",\n",
    "    \"Natal\",\"Porto Alegre\",\"Porto Velho\",\"Boa Vista\",\"Florianópolis\",\"São Paulo\",\n",
    "    \"Aracaju\",\"Palmas\"\n",
    "]\n",
    "\n",
    "# função auxiliar para normalizar (tirar acentos e baixar letras)\n",
    "def strip_accents(s: str) -> str:\n",
    "    if s is None: return s\n",
    "    s = unicodedata.normalize(\"NFKD\", s).encode(\"ascii\",\"ignore\").decode(\"utf-8\")\n",
    "    return s\n",
    "\n",
    "def city_key(s: str) -> str:\n",
    "    return strip_accents(s).strip().lower()\n",
    "\n",
    "# diretórios (usando a base do passo 1)\n",
    "BASE_DIR = \"/tmp/pipeline_api\"\n",
    "RAW_DIR  = os.path.join(BASE_DIR, \"data\", \"raw\")\n",
    "PROC_DIR = os.path.join(BASE_DIR, \"data\", \"processed\")\n",
    "REP_DIR  = os.path.join(BASE_DIR, \"data\", \"reports\")\n",
    "for p in [RAW_DIR, PROC_DIR, REP_DIR]:\n",
    "    os.makedirs(p, exist_ok=True)\n",
    "\n",
    "print(\"Exemplo de normalização:\", \"Brasília ->\", city_key(\"Brasília\"))"
   ]
  },
  {
   "cell_type": "markdown",
   "metadata": {
    "application/vnd.databricks.v1+cell": {
     "cellMetadata": {},
     "inputWidgets": {},
     "nuid": "6af2671c-0c79-4263-abb3-4c67858e5ad5",
     "showTitle": false,
     "tableResultSettingsMap": {},
     "title": ""
    }
   },
   "source": [
    "## 3- 🌤️ Extração — **OpenWeather (Current Weather)**"
   ]
  },
  {
   "cell_type": "code",
   "execution_count": 0,
   "metadata": {
    "application/vnd.databricks.v1+cell": {
     "cellMetadata": {
      "byteLimit": 2048000,
      "rowLimit": 10000
     },
     "inputWidgets": {},
     "nuid": "650c5f38-81f1-4ac7-9134-1f620c77822b",
     "showTitle": false,
     "tableResultSettingsMap": {},
     "title": ""
    }
   },
   "outputs": [
    {
     "name": "stdout",
     "output_type": "stream",
     "text": [
      "[OK] Rio Branco\n",
      "[OK] Maceió\n",
      "[OK] Macapá\n",
      "[OK] Manaus\n",
      "[OK] Salvador\n",
      "[OK] Fortaleza\n",
      "[OK] Brasília\n",
      "[OK] Vitória\n",
      "[OK] Goiânia\n",
      "[OK] São Luís\n",
      "[OK] Cuiabá\n",
      "[OK] Campo Grande\n",
      "[OK] Belo Horizonte\n",
      "[OK] Belém\n",
      "[OK] João Pessoa\n",
      "[OK] Curitiba\n",
      "[OK] Recife\n",
      "[OK] Teresina\n",
      "[OK] Rio de Janeiro\n",
      "[OK] Natal\n",
      "[OK] Porto Alegre\n",
      "[OK] Porto Velho\n",
      "[OK] Boa Vista\n",
      "[OK] Florianópolis\n",
      "[OK] São Paulo\n",
      "[OK] Aracaju\n",
      "[OK] Palmas\n",
      "\n",
      "Resumo OpenWeather: 27 OK | 0 falhas | ts=20250825_234525\n"
     ]
    }
   ],
   "source": [
    "# === Passo 3 — Extração OpenWeather (27 capitais BR) ===\n",
    "import time, json, requests\n",
    "\n",
    "assert OPENWEATHER_KEY, \"Defina OPENWEATHER_KEY\"\n",
    "assert CAPITAIS_BR, \"Lista de capitais vazia\"\n",
    "\n",
    "ts = datetime.now(timezone.utc).strftime(\"%Y%m%d_%H%M%S\")\n",
    "\n",
    "ok, fail = 0, 0\n",
    "for city in CAPITAIS_BR:\n",
    "    url = \"https://api.openweathermap.org/data/2.5/weather\"\n",
    "    params = {\"q\": f\"{city},BR\", \"appid\": OPENWEATHER_KEY}\n",
    "    try:\n",
    "        r = requests.get(url, params=params, timeout=20)\n",
    "        r.raise_for_status()\n",
    "        data = r.json()\n",
    "        safe_city = re.sub(r\"\\s+\", \"\", strip_accents(city))  # São Paulo -> SaoPaulo\n",
    "        fp = os.path.join(RAW_DIR, f\"weather_{safe_city}_{ts}.json\")\n",
    "        with open(fp, \"w\") as f:\n",
    "            json.dump(data, f)\n",
    "        print(f\"[OK] {city}\")\n",
    "        ok += 1\n",
    "    except Exception as e:\n",
    "        print(f\"[ERRO] {city}: {e}\")\n",
    "        fail += 1\n",
    "    time.sleep(1)  # respeita limite da free tier (60/min)\n",
    "\n",
    "print(f\"\\nResumo OpenWeather: {ok} OK | {fail} falhas | ts={ts}\")"
   ]
  },
  {
   "cell_type": "markdown",
   "metadata": {
    "application/vnd.databricks.v1+cell": {
     "cellMetadata": {},
     "inputWidgets": {},
     "nuid": "9db557b3-691b-4ede-86c8-dab1a2e2a1b8",
     "showTitle": false,
     "tableResultSettingsMap": {},
     "title": ""
    }
   },
   "source": [
    "## 4- 🧪 Transformação — **OpenWeather** → Tabela Curada + **Parquet particionado**"
   ]
  },
  {
   "cell_type": "code",
   "execution_count": 0,
   "metadata": {
    "application/vnd.databricks.v1+cell": {
     "cellMetadata": {
      "byteLimit": 2048000,
      "rowLimit": 10000
     },
     "inputWidgets": {},
     "nuid": "a3bb4b2a-dfe9-4565-89f2-68df09b7c012",
     "showTitle": false,
     "tableResultSettingsMap": {},
     "title": ""
    }
   },
   "outputs": [
    {
     "data": {
      "text/html": [
       "<style scoped>\n",
       "  .table-result-container {\n",
       "    max-height: 300px;\n",
       "    overflow: auto;\n",
       "  }\n",
       "  table, th, td {\n",
       "    border: 1px solid black;\n",
       "    border-collapse: collapse;\n",
       "  }\n",
       "  th, td {\n",
       "    padding: 5px;\n",
       "  }\n",
       "  th {\n",
       "    text-align: left;\n",
       "  }\n",
       "</style><div class='table-result-container'><table class='table-result'><thead style='background-color: white'><tr><th>city</th><th>city_key</th><th>timestamp</th><th>temperature_c</th><th>humidity</th><th>humidity_category</th><th>timestamp_year</th><th>timestamp_month</th></tr></thead><tbody><tr><td>Aracaju</td><td>aracaju</td><td>2025-08-25T23:45:52.000Z</td><td>25.970000000000027</td><td>69</td><td>Moderate</td><td>2025</td><td>8</td></tr><tr><td>Belém</td><td>belem</td><td>2025-08-25T23:43:18.000Z</td><td>23.870000000000005</td><td>35</td><td>Low</td><td>2025</td><td>8</td></tr><tr><td>Belo Horizonte</td><td>belo horizonte</td><td>2025-08-25T23:45:38.000Z</td><td>21.439999999999998</td><td>53</td><td>Moderate</td><td>2025</td><td>8</td></tr><tr><td>Boa Vista</td><td>boa vista</td><td>2025-08-25T23:41:53.000Z</td><td>25.99000000000001</td><td>78</td><td>High</td><td>2025</td><td>8</td></tr><tr><td>Brasília</td><td>brasilia</td><td>2025-08-25T23:44:09.000Z</td><td>22.510000000000048</td><td>35</td><td>Low</td><td>2025</td><td>8</td></tr></tbody></table></div>"
      ]
     },
     "metadata": {
      "application/vnd.databricks.v1+output": {
       "addedWidgets": {},
       "aggData": [],
       "aggError": "",
       "aggOverflow": false,
       "aggSchema": [],
       "aggSeriesLimitReached": false,
       "aggType": "",
       "arguments": {},
       "columnCustomDisplayInfos": {},
       "data": [
        [
         "Aracaju",
         "aracaju",
         "2025-08-25T23:45:52.000Z",
         25.970000000000027,
         69,
         "Moderate",
         2025,
         8
        ],
        [
         "Belém",
         "belem",
         "2025-08-25T23:43:18.000Z",
         23.870000000000005,
         35,
         "Low",
         2025,
         8
        ],
        [
         "Belo Horizonte",
         "belo horizonte",
         "2025-08-25T23:45:38.000Z",
         21.439999999999998,
         53,
         "Moderate",
         2025,
         8
        ],
        [
         "Boa Vista",
         "boa vista",
         "2025-08-25T23:41:53.000Z",
         25.99000000000001,
         78,
         "High",
         2025,
         8
        ],
        [
         "Brasília",
         "brasilia",
         "2025-08-25T23:44:09.000Z",
         22.510000000000048,
         35,
         "Low",
         2025,
         8
        ]
       ],
       "datasetInfos": [],
       "dbfsResultPath": null,
       "isJsonSchema": true,
       "metadata": {},
       "overflow": false,
       "plotOptions": {
        "customPlotOptions": {},
        "displayType": "table",
        "pivotAggregation": null,
        "pivotColumns": null,
        "xColumns": null,
        "yColumns": null
       },
       "removedWidgets": [],
       "schema": [
        {
         "metadata": "{}",
         "name": "city",
         "type": "\"string\""
        },
        {
         "metadata": "{}",
         "name": "city_key",
         "type": "\"string\""
        },
        {
         "metadata": "{}",
         "name": "timestamp",
         "type": "\"timestamp\""
        },
        {
         "metadata": "{}",
         "name": "temperature_c",
         "type": "\"double\""
        },
        {
         "metadata": "{}",
         "name": "humidity",
         "type": "\"long\""
        },
        {
         "metadata": "{}",
         "name": "humidity_category",
         "type": "\"string\""
        },
        {
         "metadata": "{}",
         "name": "timestamp_year",
         "type": "\"long\""
        },
        {
         "metadata": "{}",
         "name": "timestamp_month",
         "type": "\"long\""
        }
       ],
       "type": "table"
      }
     },
     "output_type": "display_data"
    },
    {
     "name": "stdout",
     "output_type": "stream",
     "text": [
      "Weather parquet salvo em: /tmp/pipeline_api/data/processed/weather_only.parquet\n"
     ]
    }
   ],
   "source": [
    "# === Passo 4 — Transformação Weather ===\n",
    "import glob, json\n",
    "import pandas as pd\n",
    "from pandas import json_normalize\n",
    "import pyarrow as pa\n",
    "import pyarrow.dataset as ds\n",
    "import shutil\n",
    "\n",
    "# localizar arquivos do último ts\n",
    "weather_files = sorted(glob.glob(os.path.join(RAW_DIR, f\"weather_*_{ts}.json\")))\n",
    "assert weather_files, \"Nenhum weather_* encontrado para este ts.\"\n",
    "\n",
    "rows = []\n",
    "for fp in weather_files:\n",
    "    with open(fp, \"r\") as f:\n",
    "        rows.append(json.load(f))\n",
    "wdf = json_normalize(rows)\n",
    "\n",
    "# 5 transformações mínimas\n",
    "wdf = wdf.dropna(subset=[\"dt\",\"main.temp\",\"main.humidity\",\"name\"])\n",
    "wdf[\"timestamp\"] = pd.to_datetime(wdf[\"dt\"], unit=\"s\", utc=True)\n",
    "wdf[\"temperature_c\"] = wdf[\"main.temp\"] - 273.15\n",
    "wdf[\"humidity\"] = wdf[\"main.humidity\"].astype(\"Int64\")\n",
    "wdf[\"city\"] = wdf[\"name\"].astype(str).str.strip()\n",
    "wdf[\"city_key\"] = wdf[\"city\"].apply(city_key)\n",
    "\n",
    "def hum_cat(x):\n",
    "    if pd.isna(x): return None\n",
    "    x = int(x)\n",
    "    if x < 40: return \"Low\"\n",
    "    if x < 70: return \"Moderate\"\n",
    "    return \"High\"\n",
    "wdf[\"humidity_category\"] = wdf[\"humidity\"].map(hum_cat)\n",
    "\n",
    "wdf[\"timestamp_year\"] = wdf[\"timestamp\"].dt.year\n",
    "wdf[\"timestamp_month\"] = wdf[\"timestamp\"].dt.month\n",
    "\n",
    "weather_curated = wdf[[\n",
    "    \"city\",\"city_key\",\"timestamp\",\"temperature_c\",\"humidity\",\"humidity_category\",\n",
    "    \"timestamp_year\",\"timestamp_month\"\n",
    "]]\n",
    "\n",
    "display(weather_curated.head())\n",
    "\n",
    "OUT_WEATHER = os.path.join(PROC_DIR, \"weather_only.parquet\")\n",
    "if os.path.exists(OUT_WEATHER): shutil.rmtree(OUT_WEATHER)\n",
    "os.makedirs(OUT_WEATHER, exist_ok=True)\n",
    "\n",
    "pa_tbl = pa.Table.from_pandas(weather_curated, preserve_index=False)\n",
    "ds.write_dataset(pa_tbl, base_dir=OUT_WEATHER, format=\"parquet\",\n",
    "                 partitioning=[\"timestamp_year\",\"timestamp_month\"])\n",
    "\n",
    "print(\"Weather parquet salvo em:\", OUT_WEATHER)\n"
   ]
  },
  {
   "cell_type": "markdown",
   "metadata": {
    "application/vnd.databricks.v1+cell": {
     "cellMetadata": {},
     "inputWidgets": {},
     "nuid": "34a160ec-0465-4317-a9de-b783dbc67a72",
     "showTitle": false,
     "tableResultSettingsMap": {},
     "title": ""
    }
   },
   "source": [
    "## 5- ✅ **Quality Check — `weather_only.parquet`**"
   ]
  },
  {
   "cell_type": "code",
   "execution_count": 0,
   "metadata": {
    "application/vnd.databricks.v1+cell": {
     "cellMetadata": {
      "byteLimit": 2048000,
      "rowLimit": 10000
     },
     "inputWidgets": {},
     "nuid": "31f510f0-ce5e-4d99-9854-c775a38f5a67",
     "showTitle": false,
     "tableResultSettingsMap": {},
     "title": ""
    }
   },
   "outputs": [
    {
     "name": "stdout",
     "output_type": "stream",
     "text": [
      "Quality salvo em: /tmp/pipeline_api/data/reports/quality_weather_20250825_234525.json\n"
     ]
    },
    {
     "data": {
      "text/html": [
       "<style scoped>\n",
       "  .table-result-container {\n",
       "    max-height: 300px;\n",
       "    overflow: auto;\n",
       "  }\n",
       "  table, th, td {\n",
       "    border: 1px solid black;\n",
       "    border-collapse: collapse;\n",
       "  }\n",
       "  th, td {\n",
       "    padding: 5px;\n",
       "  }\n",
       "  th {\n",
       "    text-align: left;\n",
       "  }\n",
       "</style><div class='table-result-container'><table class='table-result'><thead style='background-color: white'><tr><th>city</th><th>city_key</th><th>timestamp</th><th>temperature_c</th><th>humidity</th><th>humidity_category</th></tr></thead><tbody><tr><td>Aracaju</td><td>aracaju</td><td>2025-08-25T23:45:52.000Z</td><td>25.970000000000027</td><td>69</td><td>Moderate</td></tr><tr><td>Belém</td><td>belem</td><td>2025-08-25T23:43:18.000Z</td><td>23.870000000000005</td><td>35</td><td>Low</td></tr><tr><td>Belo Horizonte</td><td>belo horizonte</td><td>2025-08-25T23:45:38.000Z</td><td>21.439999999999998</td><td>53</td><td>Moderate</td></tr><tr><td>Boa Vista</td><td>boa vista</td><td>2025-08-25T23:41:53.000Z</td><td>25.99000000000001</td><td>78</td><td>High</td></tr><tr><td>Brasília</td><td>brasilia</td><td>2025-08-25T23:44:09.000Z</td><td>22.510000000000048</td><td>35</td><td>Low</td></tr></tbody></table></div>"
      ]
     },
     "metadata": {
      "application/vnd.databricks.v1+output": {
       "addedWidgets": {},
       "aggData": [],
       "aggError": "",
       "aggOverflow": false,
       "aggSchema": [],
       "aggSeriesLimitReached": false,
       "aggType": "",
       "arguments": {},
       "columnCustomDisplayInfos": {},
       "data": [
        [
         "Aracaju",
         "aracaju",
         "2025-08-25T23:45:52.000Z",
         25.970000000000027,
         69,
         "Moderate"
        ],
        [
         "Belém",
         "belem",
         "2025-08-25T23:43:18.000Z",
         23.870000000000005,
         35,
         "Low"
        ],
        [
         "Belo Horizonte",
         "belo horizonte",
         "2025-08-25T23:45:38.000Z",
         21.439999999999998,
         53,
         "Moderate"
        ],
        [
         "Boa Vista",
         "boa vista",
         "2025-08-25T23:41:53.000Z",
         25.99000000000001,
         78,
         "High"
        ],
        [
         "Brasília",
         "brasilia",
         "2025-08-25T23:44:09.000Z",
         22.510000000000048,
         35,
         "Low"
        ]
       ],
       "datasetInfos": [],
       "dbfsResultPath": null,
       "isJsonSchema": true,
       "metadata": {},
       "overflow": false,
       "plotOptions": {
        "customPlotOptions": {},
        "displayType": "table",
        "pivotAggregation": null,
        "pivotColumns": null,
        "xColumns": null,
        "yColumns": null
       },
       "removedWidgets": [],
       "schema": [
        {
         "metadata": "{}",
         "name": "city",
         "type": "\"string\""
        },
        {
         "metadata": "{}",
         "name": "city_key",
         "type": "\"string\""
        },
        {
         "metadata": "{}",
         "name": "timestamp",
         "type": "\"timestamp\""
        },
        {
         "metadata": "{}",
         "name": "temperature_c",
         "type": "\"double\""
        },
        {
         "metadata": "{}",
         "name": "humidity",
         "type": "\"long\""
        },
        {
         "metadata": "{}",
         "name": "humidity_category",
         "type": "\"string\""
        }
       ],
       "type": "table"
      }
     },
     "output_type": "display_data"
    }
   ],
   "source": [
    "# === Passo 5 — Quality Weather Only ===\n",
    "import json\n",
    "\n",
    "weather_ds = ds.dataset(OUT_WEATHER, format=\"parquet\")\n",
    "check_df = weather_ds.to_table().to_pandas()\n",
    "\n",
    "def null_ratios(df):\n",
    "    return {c: float(df[c].isna().mean()) for c in df.columns}\n",
    "\n",
    "q_report = {\n",
    "    \"generated_at_utc\": datetime.now(timezone.utc).isoformat(timespec=\"seconds\"),\n",
    "    \"row_count\": int(len(check_df)),\n",
    "    \"null_ratios\": null_ratios(check_df),\n",
    "    \"temperature_c_range\": {\n",
    "        \"min\": float(check_df[\"temperature_c\"].min()),\n",
    "        \"max\": float(check_df[\"temperature_c\"].max())\n",
    "    },\n",
    "    \"humidity_range\": {\n",
    "        \"min\": int(check_df[\"humidity\"].min()),\n",
    "        \"max\": int(check_df[\"humidity\"].max())\n",
    "    },\n",
    "}\n",
    "\n",
    "rep_fp = os.path.join(REP_DIR, f\"quality_weather_{ts}.json\")\n",
    "with open(rep_fp, \"w\", encoding=\"utf-8\") as f:\n",
    "    json.dump(q_report, f, indent=2, ensure_ascii=False)\n",
    "\n",
    "print(\"Quality salvo em:\", rep_fp)\n",
    "display(check_df.head())\n"
   ]
  },
  {
   "cell_type": "markdown",
   "metadata": {
    "application/vnd.databricks.v1+cell": {
     "cellMetadata": {},
     "inputWidgets": {},
     "nuid": "4969f4f9-18ca-4cfb-8c68-4777a14252a6",
     "showTitle": false,
     "tableResultSettingsMap": {},
     "title": ""
    }
   },
   "source": [
    "## 6- 🌎 Extração & Transformação — **REST Countries**"
   ]
  },
  {
   "cell_type": "code",
   "execution_count": 0,
   "metadata": {
    "application/vnd.databricks.v1+cell": {
     "cellMetadata": {
      "byteLimit": 2048000,
      "rowLimit": 10000
     },
     "inputWidgets": {},
     "nuid": "4cc94179-1585-4213-a2b1-16ed81c5a334",
     "showTitle": false,
     "tableResultSettingsMap": {},
     "title": ""
    }
   },
   "outputs": [
    {
     "name": "stdout",
     "output_type": "stream",
     "text": [
      "Countries curated (27 linhas esperadas): 27\n"
     ]
    },
    {
     "data": {
      "text/html": [
       "<style scoped>\n",
       "  .table-result-container {\n",
       "    max-height: 300px;\n",
       "    overflow: auto;\n",
       "  }\n",
       "  table, th, td {\n",
       "    border: 1px solid black;\n",
       "    border-collapse: collapse;\n",
       "  }\n",
       "  th, td {\n",
       "    padding: 5px;\n",
       "  }\n",
       "  th {\n",
       "    text-align: left;\n",
       "  }\n",
       "</style><div class='table-result-container'><table class='table-result'><thead style='background-color: white'><tr><th>city</th><th>city_key</th><th>country</th><th>population</th></tr></thead><tbody><tr><td>Rio Branco</td><td>rio branco</td><td>Brazil</td><td>212559409</td></tr><tr><td>Maceió</td><td>maceio</td><td>Brazil</td><td>212559409</td></tr><tr><td>Macapá</td><td>macapa</td><td>Brazil</td><td>212559409</td></tr><tr><td>Manaus</td><td>manaus</td><td>Brazil</td><td>212559409</td></tr><tr><td>Salvador</td><td>salvador</td><td>Brazil</td><td>212559409</td></tr><tr><td>Fortaleza</td><td>fortaleza</td><td>Brazil</td><td>212559409</td></tr><tr><td>Brasília</td><td>brasilia</td><td>Brazil</td><td>212559409</td></tr><tr><td>Vitória</td><td>vitoria</td><td>Brazil</td><td>212559409</td></tr><tr><td>Goiânia</td><td>goiania</td><td>Brazil</td><td>212559409</td></tr><tr><td>São Luís</td><td>sao luis</td><td>Brazil</td><td>212559409</td></tr></tbody></table></div>"
      ]
     },
     "metadata": {
      "application/vnd.databricks.v1+output": {
       "addedWidgets": {},
       "aggData": [],
       "aggError": "",
       "aggOverflow": false,
       "aggSchema": [],
       "aggSeriesLimitReached": false,
       "aggType": "",
       "arguments": {},
       "columnCustomDisplayInfos": {},
       "data": [
        [
         "Rio Branco",
         "rio branco",
         "Brazil",
         212559409
        ],
        [
         "Maceió",
         "maceio",
         "Brazil",
         212559409
        ],
        [
         "Macapá",
         "macapa",
         "Brazil",
         212559409
        ],
        [
         "Manaus",
         "manaus",
         "Brazil",
         212559409
        ],
        [
         "Salvador",
         "salvador",
         "Brazil",
         212559409
        ],
        [
         "Fortaleza",
         "fortaleza",
         "Brazil",
         212559409
        ],
        [
         "Brasília",
         "brasilia",
         "Brazil",
         212559409
        ],
        [
         "Vitória",
         "vitoria",
         "Brazil",
         212559409
        ],
        [
         "Goiânia",
         "goiania",
         "Brazil",
         212559409
        ],
        [
         "São Luís",
         "sao luis",
         "Brazil",
         212559409
        ]
       ],
       "datasetInfos": [],
       "dbfsResultPath": null,
       "isJsonSchema": true,
       "metadata": {},
       "overflow": false,
       "plotOptions": {
        "customPlotOptions": {},
        "displayType": "table",
        "pivotAggregation": null,
        "pivotColumns": null,
        "xColumns": null,
        "yColumns": null
       },
       "removedWidgets": [],
       "schema": [
        {
         "metadata": "{}",
         "name": "city",
         "type": "\"string\""
        },
        {
         "metadata": "{}",
         "name": "city_key",
         "type": "\"string\""
        },
        {
         "metadata": "{}",
         "name": "country",
         "type": "\"string\""
        },
        {
         "metadata": "{}",
         "name": "population",
         "type": "\"long\""
        }
       ],
       "type": "table"
      }
     },
     "output_type": "display_data"
    }
   ],
   "source": [
    "# === Passo 6 — Extração + Transformação REST Countries (fix p/ 27 capitais) ===\n",
    "import requests\n",
    "import pandas as pd\n",
    "from pandas import json_normalize\n",
    "\n",
    "# 1) Buscar REST Countries\n",
    "try:\n",
    "    r = requests.get(\"https://restcountries.com/v3.1/name/brazil?fullText=true\", timeout=30)\n",
    "    r.raise_for_status()\n",
    "    countries_raw = r.json()\n",
    "except Exception as e:\n",
    "    print(\"Erro na API REST Countries, usando fallback mínimo:\", e)\n",
    "    countries_raw = [{\"name\": {\"common\": \"Brazil\"}, \"population\": 203_000_000, \"cca2\": \"BR\"}]\n",
    "\n",
    "cdf = json_normalize(countries_raw)\n",
    "\n",
    "# 2) Isolar Brasil\n",
    "# tenta pelo código BR; se não tiver, usa a primeira linha\n",
    "if \"cca2\" in cdf.columns and (cdf[\"cca2\"] == \"BR\").any():\n",
    "    br = cdf[cdf[\"cca2\"] == \"BR\"].iloc[0]\n",
    "else:\n",
    "    br = cdf.iloc[0]\n",
    "\n",
    "country_name = br.get(\"name.common\", \"Brazil\")\n",
    "country_pop  = int(br.get(\"population\", 203_000_000))\n",
    "\n",
    "# 3) Expandir para TODAS as 27 capitais\n",
    "countries_curated = pd.DataFrame({\n",
    "    \"city\": CAPITAIS_BR\n",
    "})\n",
    "countries_curated[\"city_key\"]   = countries_curated[\"city\"].apply(city_key)\n",
    "countries_curated[\"country\"]    = country_name\n",
    "countries_curated[\"population\"] = country_pop\n",
    "\n",
    "print(\"Countries curated (27 linhas esperadas):\", len(countries_curated))\n",
    "display(countries_curated.head(10))"
   ]
  },
  {
   "cell_type": "markdown",
   "metadata": {
    "application/vnd.databricks.v1+cell": {
     "cellMetadata": {},
     "inputWidgets": {},
     "nuid": "68a98788-ff4f-4c54-a896-96dd847e1772",
     "showTitle": false,
     "tableResultSettingsMap": {},
     "title": ""
    }
   },
   "source": [
    "## 7- 🔗 JOIN — **Weather × Countries** + **Parquet Final** + **Quality Check**"
   ]
  },
  {
   "cell_type": "code",
   "execution_count": 0,
   "metadata": {
    "application/vnd.databricks.v1+cell": {
     "cellMetadata": {
      "byteLimit": 2048000,
      "rowLimit": 10000
     },
     "inputWidgets": {},
     "nuid": "80ddf357-c52d-46d7-8d9e-3dd692d3c7e9",
     "showTitle": false,
     "tableResultSettingsMap": {},
     "title": ""
    }
   },
   "outputs": [
    {
     "data": {
      "text/html": [
       "<style scoped>\n",
       "  .table-result-container {\n",
       "    max-height: 300px;\n",
       "    overflow: auto;\n",
       "  }\n",
       "  table, th, td {\n",
       "    border: 1px solid black;\n",
       "    border-collapse: collapse;\n",
       "  }\n",
       "  th, td {\n",
       "    padding: 5px;\n",
       "  }\n",
       "  th {\n",
       "    text-align: left;\n",
       "  }\n",
       "</style><div class='table-result-container'><table class='table-result'><thead style='background-color: white'><tr><th>city</th><th>timestamp</th><th>temperature_c</th><th>humidity</th><th>humidity_category</th><th>country</th><th>population</th><th>timestamp_year</th><th>timestamp_month</th></tr></thead><tbody><tr><td>Aracaju</td><td>2025-08-25T23:45:52.000Z</td><td>25.970000000000027</td><td>69</td><td>Moderate</td><td>Brazil</td><td>212559409</td><td>2025</td><td>8</td></tr><tr><td>Belém</td><td>2025-08-25T23:43:18.000Z</td><td>23.870000000000005</td><td>35</td><td>Low</td><td>Brazil</td><td>212559409</td><td>2025</td><td>8</td></tr><tr><td>Belo Horizonte</td><td>2025-08-25T23:45:38.000Z</td><td>21.439999999999998</td><td>53</td><td>Moderate</td><td>Brazil</td><td>212559409</td><td>2025</td><td>8</td></tr><tr><td>Boa Vista</td><td>2025-08-25T23:41:53.000Z</td><td>25.99000000000001</td><td>78</td><td>High</td><td>Brazil</td><td>212559409</td><td>2025</td><td>8</td></tr><tr><td>Brasília</td><td>2025-08-25T23:44:09.000Z</td><td>22.510000000000048</td><td>35</td><td>Low</td><td>Brazil</td><td>212559409</td><td>2025</td><td>8</td></tr><tr><td>Campo Grande</td><td>2025-08-25T23:41:09.000Z</td><td>18.75</td><td>59</td><td>Moderate</td><td>Brazil</td><td>212559409</td><td>2025</td><td>8</td></tr><tr><td>Cuiabá</td><td>2025-08-25T23:42:34.000Z</td><td>22.960000000000036</td><td>53</td><td>Moderate</td><td>Brazil</td><td>212559409</td><td>2025</td><td>8</td></tr><tr><td>Curitiba</td><td>2025-08-25T23:43:27.000Z</td><td>13.060000000000002</td><td>91</td><td>High</td><td>Brazil</td><td>212559409</td><td>2025</td><td>8</td></tr><tr><td>Florianópolis</td><td>2025-08-25T23:43:51.000Z</td><td>13.310000000000002</td><td>92</td><td>High</td><td>Brazil</td><td>212559409</td><td>2025</td><td>8</td></tr><tr><td>Fortaleza</td><td>2025-08-25T23:41:49.000Z</td><td>27.07000000000005</td><td>78</td><td>High</td><td>Brazil</td><td>212559409</td><td>2025</td><td>8</td></tr></tbody></table></div>"
      ]
     },
     "metadata": {
      "application/vnd.databricks.v1+output": {
       "addedWidgets": {},
       "aggData": [],
       "aggError": "",
       "aggOverflow": false,
       "aggSchema": [],
       "aggSeriesLimitReached": false,
       "aggType": "",
       "arguments": {},
       "columnCustomDisplayInfos": {},
       "data": [
        [
         "Aracaju",
         "2025-08-25T23:45:52.000Z",
         25.970000000000027,
         69,
         "Moderate",
         "Brazil",
         212559409,
         2025,
         8
        ],
        [
         "Belém",
         "2025-08-25T23:43:18.000Z",
         23.870000000000005,
         35,
         "Low",
         "Brazil",
         212559409,
         2025,
         8
        ],
        [
         "Belo Horizonte",
         "2025-08-25T23:45:38.000Z",
         21.439999999999998,
         53,
         "Moderate",
         "Brazil",
         212559409,
         2025,
         8
        ],
        [
         "Boa Vista",
         "2025-08-25T23:41:53.000Z",
         25.99000000000001,
         78,
         "High",
         "Brazil",
         212559409,
         2025,
         8
        ],
        [
         "Brasília",
         "2025-08-25T23:44:09.000Z",
         22.510000000000048,
         35,
         "Low",
         "Brazil",
         212559409,
         2025,
         8
        ],
        [
         "Campo Grande",
         "2025-08-25T23:41:09.000Z",
         18.75,
         59,
         "Moderate",
         "Brazil",
         212559409,
         2025,
         8
        ],
        [
         "Cuiabá",
         "2025-08-25T23:42:34.000Z",
         22.960000000000036,
         53,
         "Moderate",
         "Brazil",
         212559409,
         2025,
         8
        ],
        [
         "Curitiba",
         "2025-08-25T23:43:27.000Z",
         13.060000000000002,
         91,
         "High",
         "Brazil",
         212559409,
         2025,
         8
        ],
        [
         "Florianópolis",
         "2025-08-25T23:43:51.000Z",
         13.310000000000002,
         92,
         "High",
         "Brazil",
         212559409,
         2025,
         8
        ],
        [
         "Fortaleza",
         "2025-08-25T23:41:49.000Z",
         27.07000000000005,
         78,
         "High",
         "Brazil",
         212559409,
         2025,
         8
        ]
       ],
       "datasetInfos": [],
       "dbfsResultPath": null,
       "isJsonSchema": true,
       "metadata": {},
       "overflow": false,
       "plotOptions": {
        "customPlotOptions": {},
        "displayType": "table",
        "pivotAggregation": null,
        "pivotColumns": null,
        "xColumns": null,
        "yColumns": null
       },
       "removedWidgets": [],
       "schema": [
        {
         "metadata": "{}",
         "name": "city",
         "type": "\"string\""
        },
        {
         "metadata": "{}",
         "name": "timestamp",
         "type": "\"timestamp\""
        },
        {
         "metadata": "{}",
         "name": "temperature_c",
         "type": "\"double\""
        },
        {
         "metadata": "{}",
         "name": "humidity",
         "type": "\"long\""
        },
        {
         "metadata": "{}",
         "name": "humidity_category",
         "type": "\"string\""
        },
        {
         "metadata": "{}",
         "name": "country",
         "type": "\"string\""
        },
        {
         "metadata": "{}",
         "name": "population",
         "type": "\"long\""
        },
        {
         "metadata": "{}",
         "name": "timestamp_year",
         "type": "\"long\""
        },
        {
         "metadata": "{}",
         "name": "timestamp_month",
         "type": "\"long\""
        }
       ],
       "type": "table"
      }
     },
     "output_type": "display_data"
    },
    {
     "name": "stdout",
     "output_type": "stream",
     "text": [
      "Parquet FINAL salvo em: /tmp/pipeline_api/data/processed/weather_countries.parquet\n",
      "Quality FINAL salvo em: /tmp/pipeline_api/data/reports/quality_weather_countries_20250825_234525.json\n"
     ]
    }
   ],
   "source": [
    "# === Passo 7 — JOIN Weather x Countries ===\n",
    "weather_df = weather_ds.to_table().to_pandas()\n",
    "weather_df[\"city_key\"] = weather_df[\"city\"].apply(city_key)\n",
    "\n",
    "final_pd = weather_df.merge(countries_curated, on=\"city_key\", how=\"inner\",\n",
    "                            suffixes=(\"_weather\",\"_country\"))\n",
    "final_pd[\"city\"] = final_pd[\"city_weather\"]\n",
    "\n",
    "final_pd[\"timestamp_year\"] = final_pd[\"timestamp\"].dt.year\n",
    "final_pd[\"timestamp_month\"] = final_pd[\"timestamp\"].dt.month\n",
    "\n",
    "final_pd = final_pd[[\n",
    "    \"city\",\"timestamp\",\"temperature_c\",\"humidity\",\"humidity_category\",\n",
    "    \"country\",\"population\",\"timestamp_year\",\"timestamp_month\"\n",
    "]]\n",
    "\n",
    "display(final_pd.head(10))\n",
    "\n",
    "OUT_FINAL = os.path.join(PROC_DIR, \"weather_countries.parquet\")\n",
    "if os.path.exists(OUT_FINAL): shutil.rmtree(OUT_FINAL)\n",
    "os.makedirs(OUT_FINAL, exist_ok=True)\n",
    "\n",
    "pa_tbl_final = pa.Table.from_pandas(final_pd, preserve_index=False)\n",
    "ds.write_dataset(pa_tbl_final, base_dir=OUT_FINAL, format=\"parquet\",\n",
    "                 partitioning=[\"timestamp_year\",\"timestamp_month\"])\n",
    "\n",
    "print(\"Parquet FINAL salvo em:\", OUT_FINAL)\n",
    "\n",
    "q_final = {\n",
    "    \"generated_at_utc\": datetime.now(timezone.utc).isoformat(timespec=\"seconds\"),\n",
    "    \"row_count\": int(len(final_pd)),\n",
    "    \"null_ratios\": null_ratios(final_pd),\n",
    "    \"temperature_c_range\": {\"min\": float(final_pd[\"temperature_c\"].min()), \"max\": float(final_pd[\"temperature_c\"].max())},\n",
    "    \"humidity_range\": {\"min\": int(final_pd[\"humidity\"].min()), \"max\": int(final_pd[\"humidity\"].max())},\n",
    "    \"population_range\": {\"min\": int(final_pd[\"population\"].min()), \"max\": int(final_pd[\"population\"].max())},\n",
    "}\n",
    "\n",
    "rep_fp_final = os.path.join(REP_DIR, f\"quality_weather_countries_{ts}.json\")\n",
    "with open(rep_fp_final, \"w\", encoding=\"utf-8\") as f:\n",
    "    json.dump(q_final, f, indent=2, ensure_ascii=False)\n",
    "\n",
    "print(\"Quality FINAL salvo em:\", rep_fp_final)"
   ]
  },
  {
   "cell_type": "markdown",
   "metadata": {
    "application/vnd.databricks.v1+cell": {
     "cellMetadata": {},
     "inputWidgets": {},
     "nuid": "ef3aa0e4-175b-4b75-9465-5059bf78ab9f",
     "showTitle": false,
     "tableResultSettingsMap": {},
     "title": ""
    }
   },
   "source": [
    "## 8- 📊 Visualizações — **Plotly a partir do Dataset Final**"
   ]
  },
  {
   "cell_type": "code",
   "execution_count": 0,
   "metadata": {
    "application/vnd.databricks.v1+cell": {
     "cellMetadata": {
      "byteLimit": 2048000,
      "rowLimit": 10000
     },
     "inputWidgets": {},
     "nuid": "634aff51-42f0-4448-a841-2bc47a36760b",
     "showTitle": false,
     "tableResultSettingsMap": {},
     "title": ""
    }
   },
   "outputs": [
    {
     "data": {
      "text/html": [
       "<html>\n",
       "<head><meta charset=\"utf-8\" /></head>\n",
       "<body>\n",
       "    <div>            <script src=\"https://cdnjs.cloudflare.com/ajax/libs/mathjax/2.7.5/MathJax.js?config=TeX-AMS-MML_SVG\"></script><script type=\"text/javascript\">if (window.MathJax && window.MathJax.Hub && window.MathJax.Hub.Config) {window.MathJax.Hub.Config({SVG: {font: \"STIX-Web\"}});}</script>                <script type=\"text/javascript\">window.PlotlyConfig = {MathJaxConfig: 'local'};</script>\n",
       "        <script charset=\"utf-8\" src=\"https://cdn.plot.ly/plotly-2.32.0.min.js\"></script>                <div id=\"1db1529a-cddf-4231-b633-650569e82bad\" class=\"plotly-graph-div\" style=\"height:100%; width:100%;\"></div>            <script type=\"text/javascript\">                                    window.PLOTLYENV=window.PLOTLYENV || {};                                    if (document.getElementById(\"1db1529a-cddf-4231-b633-650569e82bad\")) {                    Plotly.newPlot(                        \"1db1529a-cddf-4231-b633-650569e82bad\",                        [{\"customdata\":[[\"Moderate\",\"2025-08-25T23:45:52+00:00\"]],\"hovertemplate\":\"\\u003cb\\u003e%{hovertext}\\u003c\\u002fb\\u003e\\u003cbr\\u003e\\u003cbr\\u003ecity=%{text}\\u003cbr\\u003etemperature_c=%{x}\\u003cbr\\u003ehumidity=%{y}\\u003cbr\\u003ehumidity_category=%{customdata[0]}\\u003cbr\\u003etimestamp=%{customdata[1]}\\u003cextra\\u003e\\u003c\\u002fextra\\u003e\",\"hovertext\":[\"Aracaju\"],\"legendgroup\":\"Aracaju\",\"marker\":{\"color\":\"#636efa\",\"symbol\":\"circle\"},\"mode\":\"markers+text\",\"name\":\"Aracaju\",\"orientation\":\"v\",\"showlegend\":true,\"text\":[\"Aracaju\"],\"x\":[25.970000000000027],\"xaxis\":\"x\",\"y\":[69],\"yaxis\":\"y\",\"type\":\"scatter\",\"textposition\":\"top center\"},{\"customdata\":[[\"Low\",\"2025-08-25T23:43:18+00:00\"]],\"hovertemplate\":\"\\u003cb\\u003e%{hovertext}\\u003c\\u002fb\\u003e\\u003cbr\\u003e\\u003cbr\\u003ecity=%{text}\\u003cbr\\u003etemperature_c=%{x}\\u003cbr\\u003ehumidity=%{y}\\u003cbr\\u003ehumidity_category=%{customdata[0]}\\u003cbr\\u003etimestamp=%{customdata[1]}\\u003cextra\\u003e\\u003c\\u002fextra\\u003e\",\"hovertext\":[\"Bel\\u00e9m\"],\"legendgroup\":\"Bel\\u00e9m\",\"marker\":{\"color\":\"#EF553B\",\"symbol\":\"circle\"},\"mode\":\"markers+text\",\"name\":\"Bel\\u00e9m\",\"orientation\":\"v\",\"showlegend\":true,\"text\":[\"Bel\\u00e9m\"],\"x\":[23.870000000000005],\"xaxis\":\"x\",\"y\":[35],\"yaxis\":\"y\",\"type\":\"scatter\",\"textposition\":\"top center\"},{\"customdata\":[[\"Moderate\",\"2025-08-25T23:45:38+00:00\"]],\"hovertemplate\":\"\\u003cb\\u003e%{hovertext}\\u003c\\u002fb\\u003e\\u003cbr\\u003e\\u003cbr\\u003ecity=%{text}\\u003cbr\\u003etemperature_c=%{x}\\u003cbr\\u003ehumidity=%{y}\\u003cbr\\u003ehumidity_category=%{customdata[0]}\\u003cbr\\u003etimestamp=%{customdata[1]}\\u003cextra\\u003e\\u003c\\u002fextra\\u003e\",\"hovertext\":[\"Belo Horizonte\"],\"legendgroup\":\"Belo Horizonte\",\"marker\":{\"color\":\"#00cc96\",\"symbol\":\"circle\"},\"mode\":\"markers+text\",\"name\":\"Belo Horizonte\",\"orientation\":\"v\",\"showlegend\":true,\"text\":[\"Belo Horizonte\"],\"x\":[21.439999999999998],\"xaxis\":\"x\",\"y\":[53],\"yaxis\":\"y\",\"type\":\"scatter\",\"textposition\":\"top center\"},{\"customdata\":[[\"High\",\"2025-08-25T23:41:53+00:00\"]],\"hovertemplate\":\"\\u003cb\\u003e%{hovertext}\\u003c\\u002fb\\u003e\\u003cbr\\u003e\\u003cbr\\u003ecity=%{text}\\u003cbr\\u003etemperature_c=%{x}\\u003cbr\\u003ehumidity=%{y}\\u003cbr\\u003ehumidity_category=%{customdata[0]}\\u003cbr\\u003etimestamp=%{customdata[1]}\\u003cextra\\u003e\\u003c\\u002fextra\\u003e\",\"hovertext\":[\"Boa Vista\"],\"legendgroup\":\"Boa Vista\",\"marker\":{\"color\":\"#ab63fa\",\"symbol\":\"circle\"},\"mode\":\"markers+text\",\"name\":\"Boa Vista\",\"orientation\":\"v\",\"showlegend\":true,\"text\":[\"Boa Vista\"],\"x\":[25.99000000000001],\"xaxis\":\"x\",\"y\":[78],\"yaxis\":\"y\",\"type\":\"scatter\",\"textposition\":\"top center\"},{\"customdata\":[[\"Low\",\"2025-08-25T23:44:09+00:00\"]],\"hovertemplate\":\"\\u003cb\\u003e%{hovertext}\\u003c\\u002fb\\u003e\\u003cbr\\u003e\\u003cbr\\u003ecity=%{text}\\u003cbr\\u003etemperature_c=%{x}\\u003cbr\\u003ehumidity=%{y}\\u003cbr\\u003ehumidity_category=%{customdata[0]}\\u003cbr\\u003etimestamp=%{customdata[1]}\\u003cextra\\u003e\\u003c\\u002fextra\\u003e\",\"hovertext\":[\"Bras\\u00edlia\"],\"legendgroup\":\"Bras\\u00edlia\",\"marker\":{\"color\":\"#FFA15A\",\"symbol\":\"circle\"},\"mode\":\"markers+text\",\"name\":\"Bras\\u00edlia\",\"orientation\":\"v\",\"showlegend\":true,\"text\":[\"Bras\\u00edlia\"],\"x\":[22.510000000000048],\"xaxis\":\"x\",\"y\":[35],\"yaxis\":\"y\",\"type\":\"scatter\",\"textposition\":\"top center\"},{\"customdata\":[[\"Moderate\",\"2025-08-25T23:41:09+00:00\"]],\"hovertemplate\":\"\\u003cb\\u003e%{hovertext}\\u003c\\u002fb\\u003e\\u003cbr\\u003e\\u003cbr\\u003ecity=%{text}\\u003cbr\\u003etemperature_c=%{x}\\u003cbr\\u003ehumidity=%{y}\\u003cbr\\u003ehumidity_category=%{customdata[0]}\\u003cbr\\u003etimestamp=%{customdata[1]}\\u003cextra\\u003e\\u003c\\u002fextra\\u003e\",\"hovertext\":[\"Campo Grande\"],\"legendgroup\":\"Campo Grande\",\"marker\":{\"color\":\"#19d3f3\",\"symbol\":\"circle\"},\"mode\":\"markers+text\",\"name\":\"Campo Grande\",\"orientation\":\"v\",\"showlegend\":true,\"text\":[\"Campo Grande\"],\"x\":[18.75],\"xaxis\":\"x\",\"y\":[59],\"yaxis\":\"y\",\"type\":\"scatter\",\"textposition\":\"top center\"},{\"customdata\":[[\"Moderate\",\"2025-08-25T23:42:34+00:00\"]],\"hovertemplate\":\"\\u003cb\\u003e%{hovertext}\\u003c\\u002fb\\u003e\\u003cbr\\u003e\\u003cbr\\u003ecity=%{text}\\u003cbr\\u003etemperature_c=%{x}\\u003cbr\\u003ehumidity=%{y}\\u003cbr\\u003ehumidity_category=%{customdata[0]}\\u003cbr\\u003etimestamp=%{customdata[1]}\\u003cextra\\u003e\\u003c\\u002fextra\\u003e\",\"hovertext\":[\"Cuiab\\u00e1\"],\"legendgroup\":\"Cuiab\\u00e1\",\"marker\":{\"color\":\"#FF6692\",\"symbol\":\"circle\"},\"mode\":\"markers+text\",\"name\":\"Cuiab\\u00e1\",\"orientation\":\"v\",\"showlegend\":true,\"text\":[\"Cuiab\\u00e1\"],\"x\":[22.960000000000036],\"xaxis\":\"x\",\"y\":[53],\"yaxis\":\"y\",\"type\":\"scatter\",\"textposition\":\"top center\"},{\"customdata\":[[\"High\",\"2025-08-25T23:43:27+00:00\"]],\"hovertemplate\":\"\\u003cb\\u003e%{hovertext}\\u003c\\u002fb\\u003e\\u003cbr\\u003e\\u003cbr\\u003ecity=%{text}\\u003cbr\\u003etemperature_c=%{x}\\u003cbr\\u003ehumidity=%{y}\\u003cbr\\u003ehumidity_category=%{customdata[0]}\\u003cbr\\u003etimestamp=%{customdata[1]}\\u003cextra\\u003e\\u003c\\u002fextra\\u003e\",\"hovertext\":[\"Curitiba\"],\"legendgroup\":\"Curitiba\",\"marker\":{\"color\":\"#B6E880\",\"symbol\":\"circle\"},\"mode\":\"markers+text\",\"name\":\"Curitiba\",\"orientation\":\"v\",\"showlegend\":true,\"text\":[\"Curitiba\"],\"x\":[13.060000000000002],\"xaxis\":\"x\",\"y\":[91],\"yaxis\":\"y\",\"type\":\"scatter\",\"textposition\":\"top center\"},{\"customdata\":[[\"High\",\"2025-08-25T23:43:51+00:00\"]],\"hovertemplate\":\"\\u003cb\\u003e%{hovertext}\\u003c\\u002fb\\u003e\\u003cbr\\u003e\\u003cbr\\u003ecity=%{text}\\u003cbr\\u003etemperature_c=%{x}\\u003cbr\\u003ehumidity=%{y}\\u003cbr\\u003ehumidity_category=%{customdata[0]}\\u003cbr\\u003etimestamp=%{customdata[1]}\\u003cextra\\u003e\\u003c\\u002fextra\\u003e\",\"hovertext\":[\"Florian\\u00f3polis\"],\"legendgroup\":\"Florian\\u00f3polis\",\"marker\":{\"color\":\"#FF97FF\",\"symbol\":\"circle\"},\"mode\":\"markers+text\",\"name\":\"Florian\\u00f3polis\",\"orientation\":\"v\",\"showlegend\":true,\"text\":[\"Florian\\u00f3polis\"],\"x\":[13.310000000000002],\"xaxis\":\"x\",\"y\":[92],\"yaxis\":\"y\",\"type\":\"scatter\",\"textposition\":\"top center\"},{\"customdata\":[[\"High\",\"2025-08-25T23:41:49+00:00\"]],\"hovertemplate\":\"\\u003cb\\u003e%{hovertext}\\u003c\\u002fb\\u003e\\u003cbr\\u003e\\u003cbr\\u003ecity=%{text}\\u003cbr\\u003etemperature_c=%{x}\\u003cbr\\u003ehumidity=%{y}\\u003cbr\\u003ehumidity_category=%{customdata[0]}\\u003cbr\\u003etimestamp=%{customdata[1]}\\u003cextra\\u003e\\u003c\\u002fextra\\u003e\",\"hovertext\":[\"Fortaleza\"],\"legendgroup\":\"Fortaleza\",\"marker\":{\"color\":\"#FECB52\",\"symbol\":\"circle\"},\"mode\":\"markers+text\",\"name\":\"Fortaleza\",\"orientation\":\"v\",\"showlegend\":true,\"text\":[\"Fortaleza\"],\"x\":[27.07000000000005],\"xaxis\":\"x\",\"y\":[78],\"yaxis\":\"y\",\"type\":\"scatter\",\"textposition\":\"top center\"},{\"customdata\":[[\"Low\",\"2025-08-25T23:43:17+00:00\"]],\"hovertemplate\":\"\\u003cb\\u003e%{hovertext}\\u003c\\u002fb\\u003e\\u003cbr\\u003e\\u003cbr\\u003ecity=%{text}\\u003cbr\\u003etemperature_c=%{x}\\u003cbr\\u003ehumidity=%{y}\\u003cbr\\u003ehumidity_category=%{customdata[0]}\\u003cbr\\u003etimestamp=%{customdata[1]}\\u003cextra\\u003e\\u003c\\u002fextra\\u003e\",\"hovertext\":[\"Goi\\u00e2nia\"],\"legendgroup\":\"Goi\\u00e2nia\",\"marker\":{\"color\":\"#636efa\",\"symbol\":\"circle\"},\"mode\":\"markers+text\",\"name\":\"Goi\\u00e2nia\",\"orientation\":\"v\",\"showlegend\":true,\"text\":[\"Goi\\u00e2nia\"],\"x\":[26.83000000000004],\"xaxis\":\"x\",\"y\":[29],\"yaxis\":\"y\",\"type\":\"scatter\",\"textposition\":\"top center\"},{\"customdata\":[[\"High\",\"2025-08-25T23:45:40+00:00\"]],\"hovertemplate\":\"\\u003cb\\u003e%{hovertext}\\u003c\\u002fb\\u003e\\u003cbr\\u003e\\u003cbr\\u003ecity=%{text}\\u003cbr\\u003etemperature_c=%{x}\\u003cbr\\u003ehumidity=%{y}\\u003cbr\\u003ehumidity_category=%{customdata[0]}\\u003cbr\\u003etimestamp=%{customdata[1]}\\u003cextra\\u003e\\u003c\\u002fextra\\u003e\",\"hovertext\":[\"Jo\\u00e3o Pessoa\"],\"legendgroup\":\"Jo\\u00e3o Pessoa\",\"marker\":{\"color\":\"#EF553B\",\"symbol\":\"circle\"},\"mode\":\"markers+text\",\"name\":\"Jo\\u00e3o Pessoa\",\"orientation\":\"v\",\"showlegend\":true,\"text\":[\"Jo\\u00e3o Pessoa\"],\"x\":[24.129999999999995],\"xaxis\":\"x\",\"y\":[83],\"yaxis\":\"y\",\"type\":\"scatter\",\"textposition\":\"top center\"},{\"customdata\":[[\"High\",\"2025-08-25T23:44:46+00:00\"]],\"hovertemplate\":\"\\u003cb\\u003e%{hovertext}\\u003c\\u002fb\\u003e\\u003cbr\\u003e\\u003cbr\\u003ecity=%{text}\\u003cbr\\u003etemperature_c=%{x}\\u003cbr\\u003ehumidity=%{y}\\u003cbr\\u003ehumidity_category=%{customdata[0]}\\u003cbr\\u003etimestamp=%{customdata[1]}\\u003cextra\\u003e\\u003c\\u002fextra\\u003e\",\"hovertext\":[\"Macap\\u00e1\"],\"legendgroup\":\"Macap\\u00e1\",\"marker\":{\"color\":\"#00cc96\",\"symbol\":\"circle\"},\"mode\":\"markers+text\",\"name\":\"Macap\\u00e1\",\"orientation\":\"v\",\"showlegend\":true,\"text\":[\"Macap\\u00e1\"],\"x\":[27.99000000000001],\"xaxis\":\"x\",\"y\":[78],\"yaxis\":\"y\",\"type\":\"scatter\",\"textposition\":\"top center\"},{\"customdata\":[[\"High\",\"2025-08-25T23:43:43+00:00\"]],\"hovertemplate\":\"\\u003cb\\u003e%{hovertext}\\u003c\\u002fb\\u003e\\u003cbr\\u003e\\u003cbr\\u003ecity=%{text}\\u003cbr\\u003etemperature_c=%{x}\\u003cbr\\u003ehumidity=%{y}\\u003cbr\\u003ehumidity_category=%{customdata[0]}\\u003cbr\\u003etimestamp=%{customdata[1]}\\u003cextra\\u003e\\u003c\\u002fextra\\u003e\",\"hovertext\":[\"Macei\\u00f3\"],\"legendgroup\":\"Macei\\u00f3\",\"marker\":{\"color\":\"#ab63fa\",\"symbol\":\"circle\"},\"mode\":\"markers+text\",\"name\":\"Macei\\u00f3\",\"orientation\":\"v\",\"showlegend\":true,\"text\":[\"Macei\\u00f3\"],\"x\":[25.689999999999998],\"xaxis\":\"x\",\"y\":[73],\"yaxis\":\"y\",\"type\":\"scatter\",\"textposition\":\"top center\"},{\"customdata\":[[\"High\",\"2025-08-25T23:40:34+00:00\"]],\"hovertemplate\":\"\\u003cb\\u003e%{hovertext}\\u003c\\u002fb\\u003e\\u003cbr\\u003e\\u003cbr\\u003ecity=%{text}\\u003cbr\\u003etemperature_c=%{x}\\u003cbr\\u003ehumidity=%{y}\\u003cbr\\u003ehumidity_category=%{customdata[0]}\\u003cbr\\u003etimestamp=%{customdata[1]}\\u003cextra\\u003e\\u003c\\u002fextra\\u003e\",\"hovertext\":[\"Manaus\"],\"legendgroup\":\"Manaus\",\"marker\":{\"color\":\"#FFA15A\",\"symbol\":\"circle\"},\"mode\":\"markers+text\",\"name\":\"Manaus\",\"orientation\":\"v\",\"showlegend\":true,\"text\":[\"Manaus\"],\"x\":[27.27000000000004],\"xaxis\":\"x\",\"y\":[74],\"yaxis\":\"y\",\"type\":\"scatter\",\"textposition\":\"top center\"},{\"customdata\":[[\"High\",\"2025-08-25T23:43:46+00:00\"]],\"hovertemplate\":\"\\u003cb\\u003e%{hovertext}\\u003c\\u002fb\\u003e\\u003cbr\\u003e\\u003cbr\\u003ecity=%{text}\\u003cbr\\u003etemperature_c=%{x}\\u003cbr\\u003ehumidity=%{y}\\u003cbr\\u003ehumidity_category=%{customdata[0]}\\u003cbr\\u003etimestamp=%{customdata[1]}\\u003cextra\\u003e\\u003c\\u002fextra\\u003e\",\"hovertext\":[\"Natal\"],\"legendgroup\":\"Natal\",\"marker\":{\"color\":\"#19d3f3\",\"symbol\":\"circle\"},\"mode\":\"markers+text\",\"name\":\"Natal\",\"orientation\":\"v\",\"showlegend\":true,\"text\":[\"Natal\"],\"x\":[25.120000000000005],\"xaxis\":\"x\",\"y\":[83],\"yaxis\":\"y\",\"type\":\"scatter\",\"textposition\":\"top center\"},{\"customdata\":[[\"Low\",\"2025-08-25T23:45:53+00:00\"]],\"hovertemplate\":\"\\u003cb\\u003e%{hovertext}\\u003c\\u002fb\\u003e\\u003cbr\\u003e\\u003cbr\\u003ecity=%{text}\\u003cbr\\u003etemperature_c=%{x}\\u003cbr\\u003ehumidity=%{y}\\u003cbr\\u003ehumidity_category=%{customdata[0]}\\u003cbr\\u003etimestamp=%{customdata[1]}\\u003cextra\\u003e\\u003c\\u002fextra\\u003e\",\"hovertext\":[\"Palmas\"],\"legendgroup\":\"Palmas\",\"marker\":{\"color\":\"#FF6692\",\"symbol\":\"circle\"},\"mode\":\"markers+text\",\"name\":\"Palmas\",\"orientation\":\"v\",\"showlegend\":true,\"text\":[\"Palmas\"],\"x\":[28.930000000000007],\"xaxis\":\"x\",\"y\":[39],\"yaxis\":\"y\",\"type\":\"scatter\",\"textposition\":\"top center\"},{\"customdata\":[[\"High\",\"2025-08-25T23:42:42+00:00\"]],\"hovertemplate\":\"\\u003cb\\u003e%{hovertext}\\u003c\\u002fb\\u003e\\u003cbr\\u003e\\u003cbr\\u003ecity=%{text}\\u003cbr\\u003etemperature_c=%{x}\\u003cbr\\u003ehumidity=%{y}\\u003cbr\\u003ehumidity_category=%{customdata[0]}\\u003cbr\\u003etimestamp=%{customdata[1]}\\u003cextra\\u003e\\u003c\\u002fextra\\u003e\",\"hovertext\":[\"Porto Alegre\"],\"legendgroup\":\"Porto Alegre\",\"marker\":{\"color\":\"#B6E880\",\"symbol\":\"circle\"},\"mode\":\"markers+text\",\"name\":\"Porto Alegre\",\"orientation\":\"v\",\"showlegend\":true,\"text\":[\"Porto Alegre\"],\"x\":[11.129999999999995],\"xaxis\":\"x\",\"y\":[78],\"yaxis\":\"y\",\"type\":\"scatter\",\"textposition\":\"top center\"},{\"customdata\":[[\"Moderate\",\"2025-08-25T23:43:34+00:00\"]],\"hovertemplate\":\"\\u003cb\\u003e%{hovertext}\\u003c\\u002fb\\u003e\\u003cbr\\u003e\\u003cbr\\u003ecity=%{text}\\u003cbr\\u003etemperature_c=%{x}\\u003cbr\\u003ehumidity=%{y}\\u003cbr\\u003ehumidity_category=%{customdata[0]}\\u003cbr\\u003etimestamp=%{customdata[1]}\\u003cextra\\u003e\\u003c\\u002fextra\\u003e\",\"hovertext\":[\"Porto Velho\"],\"legendgroup\":\"Porto Velho\",\"marker\":{\"color\":\"#FF97FF\",\"symbol\":\"circle\"},\"mode\":\"markers+text\",\"name\":\"Porto Velho\",\"orientation\":\"v\",\"showlegend\":true,\"text\":[\"Porto Velho\"],\"x\":[29.03000000000003],\"xaxis\":\"x\",\"y\":[48],\"yaxis\":\"y\",\"type\":\"scatter\",\"textposition\":\"top center\"},{\"customdata\":[[\"High\",\"2025-08-25T23:44:33+00:00\"]],\"hovertemplate\":\"\\u003cb\\u003e%{hovertext}\\u003c\\u002fb\\u003e\\u003cbr\\u003e\\u003cbr\\u003ecity=%{text}\\u003cbr\\u003etemperature_c=%{x}\\u003cbr\\u003ehumidity=%{y}\\u003cbr\\u003ehumidity_category=%{customdata[0]}\\u003cbr\\u003etimestamp=%{customdata[1]}\\u003cextra\\u003e\\u003c\\u002fextra\\u003e\",\"hovertext\":[\"Recife\"],\"legendgroup\":\"Recife\",\"marker\":{\"color\":\"#FECB52\",\"symbol\":\"circle\"},\"mode\":\"markers+text\",\"name\":\"Recife\",\"orientation\":\"v\",\"showlegend\":true,\"text\":[\"Recife\"],\"x\":[26.02000000000004],\"xaxis\":\"x\",\"y\":[78],\"yaxis\":\"y\",\"type\":\"scatter\",\"textposition\":\"top center\"},{\"customdata\":[[\"Moderate\",\"2025-08-25T23:43:27+00:00\"]],\"hovertemplate\":\"\\u003cb\\u003e%{hovertext}\\u003c\\u002fb\\u003e\\u003cbr\\u003e\\u003cbr\\u003ecity=%{text}\\u003cbr\\u003etemperature_c=%{x}\\u003cbr\\u003ehumidity=%{y}\\u003cbr\\u003ehumidity_category=%{customdata[0]}\\u003cbr\\u003etimestamp=%{customdata[1]}\\u003cextra\\u003e\\u003c\\u002fextra\\u003e\",\"hovertext\":[\"Rio Branco\"],\"legendgroup\":\"Rio Branco\",\"marker\":{\"color\":\"#636efa\",\"symbol\":\"circle\"},\"mode\":\"markers+text\",\"name\":\"Rio Branco\",\"orientation\":\"v\",\"showlegend\":true,\"text\":[\"Rio Branco\"],\"x\":[24.340000000000032],\"xaxis\":\"x\",\"y\":[50],\"yaxis\":\"y\",\"type\":\"scatter\",\"textposition\":\"top center\"},{\"customdata\":[[\"High\",\"2025-08-25T23:45:21+00:00\"]],\"hovertemplate\":\"\\u003cb\\u003e%{hovertext}\\u003c\\u002fb\\u003e\\u003cbr\\u003e\\u003cbr\\u003ecity=%{text}\\u003cbr\\u003etemperature_c=%{x}\\u003cbr\\u003ehumidity=%{y}\\u003cbr\\u003ehumidity_category=%{customdata[0]}\\u003cbr\\u003etimestamp=%{customdata[1]}\\u003cextra\\u003e\\u003c\\u002fextra\\u003e\",\"hovertext\":[\"Rio de Janeiro\"],\"legendgroup\":\"Rio de Janeiro\",\"marker\":{\"color\":\"#EF553B\",\"symbol\":\"circle\"},\"mode\":\"markers+text\",\"name\":\"Rio de Janeiro\",\"orientation\":\"v\",\"showlegend\":true,\"text\":[\"Rio de Janeiro\"],\"x\":[22.210000000000036],\"xaxis\":\"x\",\"y\":[85],\"yaxis\":\"y\",\"type\":\"scatter\",\"textposition\":\"top center\"},{\"customdata\":[[\"High\",\"2025-08-25T23:43:20+00:00\"]],\"hovertemplate\":\"\\u003cb\\u003e%{hovertext}\\u003c\\u002fb\\u003e\\u003cbr\\u003e\\u003cbr\\u003ecity=%{text}\\u003cbr\\u003etemperature_c=%{x}\\u003cbr\\u003ehumidity=%{y}\\u003cbr\\u003ehumidity_category=%{customdata[0]}\\u003cbr\\u003etimestamp=%{customdata[1]}\\u003cextra\\u003e\\u003c\\u002fextra\\u003e\",\"hovertext\":[\"Salvador\"],\"legendgroup\":\"Salvador\",\"marker\":{\"color\":\"#00cc96\",\"symbol\":\"circle\"},\"mode\":\"markers+text\",\"name\":\"Salvador\",\"orientation\":\"v\",\"showlegend\":true,\"text\":[\"Salvador\"],\"x\":[22.980000000000018],\"xaxis\":\"x\",\"y\":[79],\"yaxis\":\"y\",\"type\":\"scatter\",\"textposition\":\"top center\"},{\"customdata\":[[\"High\",\"2025-08-25T23:45:35+00:00\"]],\"hovertemplate\":\"\\u003cb\\u003e%{hovertext}\\u003c\\u002fb\\u003e\\u003cbr\\u003e\\u003cbr\\u003ecity=%{text}\\u003cbr\\u003etemperature_c=%{x}\\u003cbr\\u003ehumidity=%{y}\\u003cbr\\u003ehumidity_category=%{customdata[0]}\\u003cbr\\u003etimestamp=%{customdata[1]}\\u003cextra\\u003e\\u003c\\u002fextra\\u003e\",\"hovertext\":[\"S\\u00e3o Lu\\u00eds\"],\"legendgroup\":\"S\\u00e3o Lu\\u00eds\",\"marker\":{\"color\":\"#ab63fa\",\"symbol\":\"circle\"},\"mode\":\"markers+text\",\"name\":\"S\\u00e3o Lu\\u00eds\",\"orientation\":\"v\",\"showlegend\":true,\"text\":[\"S\\u00e3o Lu\\u00eds\"],\"x\":[27.110000000000014],\"xaxis\":\"x\",\"y\":[83],\"yaxis\":\"y\",\"type\":\"scatter\",\"textposition\":\"top center\"},{\"customdata\":[[\"High\",\"2025-08-25T23:45:46+00:00\"]],\"hovertemplate\":\"\\u003cb\\u003e%{hovertext}\\u003c\\u002fb\\u003e\\u003cbr\\u003e\\u003cbr\\u003ecity=%{text}\\u003cbr\\u003etemperature_c=%{x}\\u003cbr\\u003ehumidity=%{y}\\u003cbr\\u003ehumidity_category=%{customdata[0]}\\u003cbr\\u003etimestamp=%{customdata[1]}\\u003cextra\\u003e\\u003c\\u002fextra\\u003e\",\"hovertext\":[\"S\\u00e3o Paulo\"],\"legendgroup\":\"S\\u00e3o Paulo\",\"marker\":{\"color\":\"#FFA15A\",\"symbol\":\"circle\"},\"mode\":\"markers+text\",\"name\":\"S\\u00e3o Paulo\",\"orientation\":\"v\",\"showlegend\":true,\"text\":[\"S\\u00e3o Paulo\"],\"x\":[15.010000000000048],\"xaxis\":\"x\",\"y\":[86],\"yaxis\":\"y\",\"type\":\"scatter\",\"textposition\":\"top center\"},{\"customdata\":[[\"Moderate\",\"2025-08-25T23:41:20+00:00\"]],\"hovertemplate\":\"\\u003cb\\u003e%{hovertext}\\u003c\\u002fb\\u003e\\u003cbr\\u003e\\u003cbr\\u003ecity=%{text}\\u003cbr\\u003etemperature_c=%{x}\\u003cbr\\u003ehumidity=%{y}\\u003cbr\\u003ehumidity_category=%{customdata[0]}\\u003cbr\\u003etimestamp=%{customdata[1]}\\u003cextra\\u003e\\u003c\\u002fextra\\u003e\",\"hovertext\":[\"Teresina\"],\"legendgroup\":\"Teresina\",\"marker\":{\"color\":\"#19d3f3\",\"symbol\":\"circle\"},\"mode\":\"markers+text\",\"name\":\"Teresina\",\"orientation\":\"v\",\"showlegend\":true,\"text\":[\"Teresina\"],\"x\":[33.84000000000003],\"xaxis\":\"x\",\"y\":[40],\"yaxis\":\"y\",\"type\":\"scatter\",\"textposition\":\"top center\"},{\"customdata\":[[\"High\",\"2025-08-25T23:44:54+00:00\"]],\"hovertemplate\":\"\\u003cb\\u003e%{hovertext}\\u003c\\u002fb\\u003e\\u003cbr\\u003e\\u003cbr\\u003ecity=%{text}\\u003cbr\\u003etemperature_c=%{x}\\u003cbr\\u003ehumidity=%{y}\\u003cbr\\u003ehumidity_category=%{customdata[0]}\\u003cbr\\u003etimestamp=%{customdata[1]}\\u003cextra\\u003e\\u003c\\u002fextra\\u003e\",\"hovertext\":[\"Vit\\u00f3ria\"],\"legendgroup\":\"Vit\\u00f3ria\",\"marker\":{\"color\":\"#FF6692\",\"symbol\":\"circle\"},\"mode\":\"markers+text\",\"name\":\"Vit\\u00f3ria\",\"orientation\":\"v\",\"showlegend\":true,\"text\":[\"Vit\\u00f3ria\"],\"x\":[22.920000000000016],\"xaxis\":\"x\",\"y\":[78],\"yaxis\":\"y\",\"type\":\"scatter\",\"textposition\":\"top center\"}],                        {\"template\":{\"data\":{\"histogram2dcontour\":[{\"type\":\"histogram2dcontour\",\"colorbar\":{\"outlinewidth\":0,\"ticks\":\"\"},\"colorscale\":[[0.0,\"#0d0887\"],[0.1111111111111111,\"#46039f\"],[0.2222222222222222,\"#7201a8\"],[0.3333333333333333,\"#9c179e\"],[0.4444444444444444,\"#bd3786\"],[0.5555555555555556,\"#d8576b\"],[0.6666666666666666,\"#ed7953\"],[0.7777777777777778,\"#fb9f3a\"],[0.8888888888888888,\"#fdca26\"],[1.0,\"#f0f921\"]]}],\"choropleth\":[{\"type\":\"choropleth\",\"colorbar\":{\"outlinewidth\":0,\"ticks\":\"\"}}],\"histogram2d\":[{\"type\":\"histogram2d\",\"colorbar\":{\"outlinewidth\":0,\"ticks\":\"\"},\"colorscale\":[[0.0,\"#0d0887\"],[0.1111111111111111,\"#46039f\"],[0.2222222222222222,\"#7201a8\"],[0.3333333333333333,\"#9c179e\"],[0.4444444444444444,\"#bd3786\"],[0.5555555555555556,\"#d8576b\"],[0.6666666666666666,\"#ed7953\"],[0.7777777777777778,\"#fb9f3a\"],[0.8888888888888888,\"#fdca26\"],[1.0,\"#f0f921\"]]}],\"heatmap\":[{\"type\":\"heatmap\",\"colorbar\":{\"outlinewidth\":0,\"ticks\":\"\"},\"colorscale\":[[0.0,\"#0d0887\"],[0.1111111111111111,\"#46039f\"],[0.2222222222222222,\"#7201a8\"],[0.3333333333333333,\"#9c179e\"],[0.4444444444444444,\"#bd3786\"],[0.5555555555555556,\"#d8576b\"],[0.6666666666666666,\"#ed7953\"],[0.7777777777777778,\"#fb9f3a\"],[0.8888888888888888,\"#fdca26\"],[1.0,\"#f0f921\"]]}],\"heatmapgl\":[{\"type\":\"heatmapgl\",\"colorbar\":{\"outlinewidth\":0,\"ticks\":\"\"},\"colorscale\":[[0.0,\"#0d0887\"],[0.1111111111111111,\"#46039f\"],[0.2222222222222222,\"#7201a8\"],[0.3333333333333333,\"#9c179e\"],[0.4444444444444444,\"#bd3786\"],[0.5555555555555556,\"#d8576b\"],[0.6666666666666666,\"#ed7953\"],[0.7777777777777778,\"#fb9f3a\"],[0.8888888888888888,\"#fdca26\"],[1.0,\"#f0f921\"]]}],\"contourcarpet\":[{\"type\":\"contourcarpet\",\"colorbar\":{\"outlinewidth\":0,\"ticks\":\"\"}}],\"contour\":[{\"type\":\"contour\",\"colorbar\":{\"outlinewidth\":0,\"ticks\":\"\"},\"colorscale\":[[0.0,\"#0d0887\"],[0.1111111111111111,\"#46039f\"],[0.2222222222222222,\"#7201a8\"],[0.3333333333333333,\"#9c179e\"],[0.4444444444444444,\"#bd3786\"],[0.5555555555555556,\"#d8576b\"],[0.6666666666666666,\"#ed7953\"],[0.7777777777777778,\"#fb9f3a\"],[0.8888888888888888,\"#fdca26\"],[1.0,\"#f0f921\"]]}],\"surface\":[{\"type\":\"surface\",\"colorbar\":{\"outlinewidth\":0,\"ticks\":\"\"},\"colorscale\":[[0.0,\"#0d0887\"],[0.1111111111111111,\"#46039f\"],[0.2222222222222222,\"#7201a8\"],[0.3333333333333333,\"#9c179e\"],[0.4444444444444444,\"#bd3786\"],[0.5555555555555556,\"#d8576b\"],[0.6666666666666666,\"#ed7953\"],[0.7777777777777778,\"#fb9f3a\"],[0.8888888888888888,\"#fdca26\"],[1.0,\"#f0f921\"]]}],\"mesh3d\":[{\"type\":\"mesh3d\",\"colorbar\":{\"outlinewidth\":0,\"ticks\":\"\"}}],\"scatter\":[{\"fillpattern\":{\"fillmode\":\"overlay\",\"size\":10,\"solidity\":0.2},\"type\":\"scatter\"}],\"parcoords\":[{\"type\":\"parcoords\",\"line\":{\"colorbar\":{\"outlinewidth\":0,\"ticks\":\"\"}}}],\"scatterpolargl\":[{\"type\":\"scatterpolargl\",\"marker\":{\"colorbar\":{\"outlinewidth\":0,\"ticks\":\"\"}}}],\"bar\":[{\"error_x\":{\"color\":\"#2a3f5f\"},\"error_y\":{\"color\":\"#2a3f5f\"},\"marker\":{\"line\":{\"color\":\"#E5ECF6\",\"width\":0.5},\"pattern\":{\"fillmode\":\"overlay\",\"size\":10,\"solidity\":0.2}},\"type\":\"bar\"}],\"scattergeo\":[{\"type\":\"scattergeo\",\"marker\":{\"colorbar\":{\"outlinewidth\":0,\"ticks\":\"\"}}}],\"scatterpolar\":[{\"type\":\"scatterpolar\",\"marker\":{\"colorbar\":{\"outlinewidth\":0,\"ticks\":\"\"}}}],\"histogram\":[{\"marker\":{\"pattern\":{\"fillmode\":\"overlay\",\"size\":10,\"solidity\":0.2}},\"type\":\"histogram\"}],\"scattergl\":[{\"type\":\"scattergl\",\"marker\":{\"colorbar\":{\"outlinewidth\":0,\"ticks\":\"\"}}}],\"scatter3d\":[{\"type\":\"scatter3d\",\"line\":{\"colorbar\":{\"outlinewidth\":0,\"ticks\":\"\"}},\"marker\":{\"colorbar\":{\"outlinewidth\":0,\"ticks\":\"\"}}}],\"scattermapbox\":[{\"type\":\"scattermapbox\",\"marker\":{\"colorbar\":{\"outlinewidth\":0,\"ticks\":\"\"}}}],\"scatterternary\":[{\"type\":\"scatterternary\",\"marker\":{\"colorbar\":{\"outlinewidth\":0,\"ticks\":\"\"}}}],\"scattercarpet\":[{\"type\":\"scattercarpet\",\"marker\":{\"colorbar\":{\"outlinewidth\":0,\"ticks\":\"\"}}}],\"carpet\":[{\"aaxis\":{\"endlinecolor\":\"#2a3f5f\",\"gridcolor\":\"white\",\"linecolor\":\"white\",\"minorgridcolor\":\"white\",\"startlinecolor\":\"#2a3f5f\"},\"baxis\":{\"endlinecolor\":\"#2a3f5f\",\"gridcolor\":\"white\",\"linecolor\":\"white\",\"minorgridcolor\":\"white\",\"startlinecolor\":\"#2a3f5f\"},\"type\":\"carpet\"}],\"table\":[{\"cells\":{\"fill\":{\"color\":\"#EBF0F8\"},\"line\":{\"color\":\"white\"}},\"header\":{\"fill\":{\"color\":\"#C8D4E3\"},\"line\":{\"color\":\"white\"}},\"type\":\"table\"}],\"barpolar\":[{\"marker\":{\"line\":{\"color\":\"#E5ECF6\",\"width\":0.5},\"pattern\":{\"fillmode\":\"overlay\",\"size\":10,\"solidity\":0.2}},\"type\":\"barpolar\"}],\"pie\":[{\"automargin\":true,\"type\":\"pie\"}]},\"layout\":{\"autotypenumbers\":\"strict\",\"colorway\":[\"#636efa\",\"#EF553B\",\"#00cc96\",\"#ab63fa\",\"#FFA15A\",\"#19d3f3\",\"#FF6692\",\"#B6E880\",\"#FF97FF\",\"#FECB52\"],\"font\":{\"color\":\"#2a3f5f\"},\"hovermode\":\"closest\",\"hoverlabel\":{\"align\":\"left\"},\"paper_bgcolor\":\"white\",\"plot_bgcolor\":\"#E5ECF6\",\"polar\":{\"bgcolor\":\"#E5ECF6\",\"angularaxis\":{\"gridcolor\":\"white\",\"linecolor\":\"white\",\"ticks\":\"\"},\"radialaxis\":{\"gridcolor\":\"white\",\"linecolor\":\"white\",\"ticks\":\"\"}},\"ternary\":{\"bgcolor\":\"#E5ECF6\",\"aaxis\":{\"gridcolor\":\"white\",\"linecolor\":\"white\",\"ticks\":\"\"},\"baxis\":{\"gridcolor\":\"white\",\"linecolor\":\"white\",\"ticks\":\"\"},\"caxis\":{\"gridcolor\":\"white\",\"linecolor\":\"white\",\"ticks\":\"\"}},\"coloraxis\":{\"colorbar\":{\"outlinewidth\":0,\"ticks\":\"\"}},\"colorscale\":{\"sequential\":[[0.0,\"#0d0887\"],[0.1111111111111111,\"#46039f\"],[0.2222222222222222,\"#7201a8\"],[0.3333333333333333,\"#9c179e\"],[0.4444444444444444,\"#bd3786\"],[0.5555555555555556,\"#d8576b\"],[0.6666666666666666,\"#ed7953\"],[0.7777777777777778,\"#fb9f3a\"],[0.8888888888888888,\"#fdca26\"],[1.0,\"#f0f921\"]],\"sequentialminus\":[[0.0,\"#0d0887\"],[0.1111111111111111,\"#46039f\"],[0.2222222222222222,\"#7201a8\"],[0.3333333333333333,\"#9c179e\"],[0.4444444444444444,\"#bd3786\"],[0.5555555555555556,\"#d8576b\"],[0.6666666666666666,\"#ed7953\"],[0.7777777777777778,\"#fb9f3a\"],[0.8888888888888888,\"#fdca26\"],[1.0,\"#f0f921\"]],\"diverging\":[[0,\"#8e0152\"],[0.1,\"#c51b7d\"],[0.2,\"#de77ae\"],[0.3,\"#f1b6da\"],[0.4,\"#fde0ef\"],[0.5,\"#f7f7f7\"],[0.6,\"#e6f5d0\"],[0.7,\"#b8e186\"],[0.8,\"#7fbc41\"],[0.9,\"#4d9221\"],[1,\"#276419\"]]},\"xaxis\":{\"gridcolor\":\"white\",\"linecolor\":\"white\",\"ticks\":\"\",\"title\":{\"standoff\":15},\"zerolinecolor\":\"white\",\"automargin\":true,\"zerolinewidth\":2},\"yaxis\":{\"gridcolor\":\"white\",\"linecolor\":\"white\",\"ticks\":\"\",\"title\":{\"standoff\":15},\"zerolinecolor\":\"white\",\"automargin\":true,\"zerolinewidth\":2},\"scene\":{\"xaxis\":{\"backgroundcolor\":\"#E5ECF6\",\"gridcolor\":\"white\",\"linecolor\":\"white\",\"showbackground\":true,\"ticks\":\"\",\"zerolinecolor\":\"white\",\"gridwidth\":2},\"yaxis\":{\"backgroundcolor\":\"#E5ECF6\",\"gridcolor\":\"white\",\"linecolor\":\"white\",\"showbackground\":true,\"ticks\":\"\",\"zerolinecolor\":\"white\",\"gridwidth\":2},\"zaxis\":{\"backgroundcolor\":\"#E5ECF6\",\"gridcolor\":\"white\",\"linecolor\":\"white\",\"showbackground\":true,\"ticks\":\"\",\"zerolinecolor\":\"white\",\"gridwidth\":2}},\"shapedefaults\":{\"line\":{\"color\":\"#2a3f5f\"}},\"annotationdefaults\":{\"arrowcolor\":\"#2a3f5f\",\"arrowhead\":0,\"arrowwidth\":1},\"geo\":{\"bgcolor\":\"white\",\"landcolor\":\"#E5ECF6\",\"subunitcolor\":\"white\",\"showland\":true,\"showlakes\":true,\"lakecolor\":\"white\"},\"title\":{\"x\":0.05},\"mapbox\":{\"style\":\"light\"}}},\"xaxis\":{\"anchor\":\"y\",\"domain\":[0.0,1.0],\"title\":{\"text\":\"Temperatura (\\u00b0C)\"}},\"yaxis\":{\"anchor\":\"x\",\"domain\":[0.0,1.0],\"title\":{\"text\":\"Umidade (%)\"},\"range\":[0,100]},\"legend\":{\"title\":{\"text\":\"city\"},\"tracegroupgap\":0},\"title\":{\"text\":\"Temperatura (\\u00b0C) \\u00d7 Umidade (%) \\u2014 Capitais BR\"},\"shapes\":[{\"fillcolor\":\"LightGreen\",\"line\":{\"width\":0},\"opacity\":0.2,\"type\":\"rect\",\"x0\":0,\"x1\":1,\"xref\":\"x domain\",\"y0\":30,\"y1\":60,\"yref\":\"y\"}],\"annotations\":[{\"showarrow\":false,\"text\":\"Faixa de conforto (30\\u201360%)\",\"x\":0,\"xanchor\":\"left\",\"xref\":\"x domain\",\"y\":60,\"yanchor\":\"top\",\"yref\":\"y\"}]},                        {\"responsive\": true}                    )                };                            </script>        </div>\n",
       "</body>\n",
       "</html>"
      ]
     },
     "metadata": {},
     "output_type": "display_data"
    },
    {
     "data": {
      "text/html": [
       "<html>\n",
       "<head><meta charset=\"utf-8\" /></head>\n",
       "<body>\n",
       "    <div>            <script src=\"https://cdnjs.cloudflare.com/ajax/libs/mathjax/2.7.5/MathJax.js?config=TeX-AMS-MML_SVG\"></script><script type=\"text/javascript\">if (window.MathJax && window.MathJax.Hub && window.MathJax.Hub.Config) {window.MathJax.Hub.Config({SVG: {font: \"STIX-Web\"}});}</script>                <script type=\"text/javascript\">window.PlotlyConfig = {MathJaxConfig: 'local'};</script>\n",
       "        <script charset=\"utf-8\" src=\"https://cdn.plot.ly/plotly-2.32.0.min.js\"></script>                <div id=\"1184d1b5-806d-497f-9bff-c322169db5b3\" class=\"plotly-graph-div\" style=\"height:100%; width:100%;\"></div>            <script type=\"text/javascript\">                                    window.PLOTLYENV=window.PLOTLYENV || {};                                    if (document.getElementById(\"1184d1b5-806d-497f-9bff-c322169db5b3\")) {                    Plotly.newPlot(                        \"1184d1b5-806d-497f-9bff-c322169db5b3\",                        [{\"alignmentgroup\":\"True\",\"hovertemplate\":\"city=%{x}\\u003cbr\\u003etemperature_c=%{marker.color}\\u003cextra\\u003e\\u003c\\u002fextra\\u003e\",\"legendgroup\":\"\",\"marker\":{\"color\":[33.84000000000003,29.03000000000003,28.930000000000007,27.99000000000001,27.27000000000004,27.110000000000014,27.07000000000005,26.83000000000004,26.02000000000004,25.99000000000001,25.970000000000027,25.689999999999998,25.120000000000005,24.340000000000032,24.129999999999995,23.870000000000005,22.980000000000018,22.960000000000036,22.920000000000016,22.510000000000048,22.210000000000036,21.439999999999998,18.75,15.010000000000048,13.310000000000002,13.060000000000002,11.129999999999995],\"coloraxis\":\"coloraxis\",\"pattern\":{\"shape\":\"\"}},\"name\":\"\",\"offsetgroup\":\"\",\"orientation\":\"v\",\"showlegend\":false,\"text\":[33.84000000000003,29.03000000000003,28.930000000000007,27.99000000000001,27.27000000000004,27.110000000000014,27.07000000000005,26.83000000000004,26.02000000000004,25.99000000000001,25.970000000000027,25.689999999999998,25.120000000000005,24.340000000000032,24.129999999999995,23.870000000000005,22.980000000000018,22.960000000000036,22.920000000000016,22.510000000000048,22.210000000000036,21.439999999999998,18.75,15.010000000000048,13.310000000000002,13.060000000000002,11.129999999999995],\"textposition\":\"outside\",\"x\":[\"Teresina\",\"Porto Velho\",\"Palmas\",\"Macap\\u00e1\",\"Manaus\",\"S\\u00e3o Lu\\u00eds\",\"Fortaleza\",\"Goi\\u00e2nia\",\"Recife\",\"Boa Vista\",\"Aracaju\",\"Macei\\u00f3\",\"Natal\",\"Rio Branco\",\"Jo\\u00e3o Pessoa\",\"Bel\\u00e9m\",\"Salvador\",\"Cuiab\\u00e1\",\"Vit\\u00f3ria\",\"Bras\\u00edlia\",\"Rio de Janeiro\",\"Belo Horizonte\",\"Campo Grande\",\"S\\u00e3o Paulo\",\"Florian\\u00f3polis\",\"Curitiba\",\"Porto Alegre\"],\"xaxis\":\"x\",\"y\":[33.84000000000003,29.03000000000003,28.930000000000007,27.99000000000001,27.27000000000004,27.110000000000014,27.07000000000005,26.83000000000004,26.02000000000004,25.99000000000001,25.970000000000027,25.689999999999998,25.120000000000005,24.340000000000032,24.129999999999995,23.870000000000005,22.980000000000018,22.960000000000036,22.920000000000016,22.510000000000048,22.210000000000036,21.439999999999998,18.75,15.010000000000048,13.310000000000002,13.060000000000002,11.129999999999995],\"yaxis\":\"y\",\"type\":\"bar\",\"texttemplate\":\"%{text:.1f}\\u00b0C\"}],                        {\"template\":{\"data\":{\"histogram2dcontour\":[{\"type\":\"histogram2dcontour\",\"colorbar\":{\"outlinewidth\":0,\"ticks\":\"\"},\"colorscale\":[[0.0,\"#0d0887\"],[0.1111111111111111,\"#46039f\"],[0.2222222222222222,\"#7201a8\"],[0.3333333333333333,\"#9c179e\"],[0.4444444444444444,\"#bd3786\"],[0.5555555555555556,\"#d8576b\"],[0.6666666666666666,\"#ed7953\"],[0.7777777777777778,\"#fb9f3a\"],[0.8888888888888888,\"#fdca26\"],[1.0,\"#f0f921\"]]}],\"choropleth\":[{\"type\":\"choropleth\",\"colorbar\":{\"outlinewidth\":0,\"ticks\":\"\"}}],\"histogram2d\":[{\"type\":\"histogram2d\",\"colorbar\":{\"outlinewidth\":0,\"ticks\":\"\"},\"colorscale\":[[0.0,\"#0d0887\"],[0.1111111111111111,\"#46039f\"],[0.2222222222222222,\"#7201a8\"],[0.3333333333333333,\"#9c179e\"],[0.4444444444444444,\"#bd3786\"],[0.5555555555555556,\"#d8576b\"],[0.6666666666666666,\"#ed7953\"],[0.7777777777777778,\"#fb9f3a\"],[0.8888888888888888,\"#fdca26\"],[1.0,\"#f0f921\"]]}],\"heatmap\":[{\"type\":\"heatmap\",\"colorbar\":{\"outlinewidth\":0,\"ticks\":\"\"},\"colorscale\":[[0.0,\"#0d0887\"],[0.1111111111111111,\"#46039f\"],[0.2222222222222222,\"#7201a8\"],[0.3333333333333333,\"#9c179e\"],[0.4444444444444444,\"#bd3786\"],[0.5555555555555556,\"#d8576b\"],[0.6666666666666666,\"#ed7953\"],[0.7777777777777778,\"#fb9f3a\"],[0.8888888888888888,\"#fdca26\"],[1.0,\"#f0f921\"]]}],\"heatmapgl\":[{\"type\":\"heatmapgl\",\"colorbar\":{\"outlinewidth\":0,\"ticks\":\"\"},\"colorscale\":[[0.0,\"#0d0887\"],[0.1111111111111111,\"#46039f\"],[0.2222222222222222,\"#7201a8\"],[0.3333333333333333,\"#9c179e\"],[0.4444444444444444,\"#bd3786\"],[0.5555555555555556,\"#d8576b\"],[0.6666666666666666,\"#ed7953\"],[0.7777777777777778,\"#fb9f3a\"],[0.8888888888888888,\"#fdca26\"],[1.0,\"#f0f921\"]]}],\"contourcarpet\":[{\"type\":\"contourcarpet\",\"colorbar\":{\"outlinewidth\":0,\"ticks\":\"\"}}],\"contour\":[{\"type\":\"contour\",\"colorbar\":{\"outlinewidth\":0,\"ticks\":\"\"},\"colorscale\":[[0.0,\"#0d0887\"],[0.1111111111111111,\"#46039f\"],[0.2222222222222222,\"#7201a8\"],[0.3333333333333333,\"#9c179e\"],[0.4444444444444444,\"#bd3786\"],[0.5555555555555556,\"#d8576b\"],[0.6666666666666666,\"#ed7953\"],[0.7777777777777778,\"#fb9f3a\"],[0.8888888888888888,\"#fdca26\"],[1.0,\"#f0f921\"]]}],\"surface\":[{\"type\":\"surface\",\"colorbar\":{\"outlinewidth\":0,\"ticks\":\"\"},\"colorscale\":[[0.0,\"#0d0887\"],[0.1111111111111111,\"#46039f\"],[0.2222222222222222,\"#7201a8\"],[0.3333333333333333,\"#9c179e\"],[0.4444444444444444,\"#bd3786\"],[0.5555555555555556,\"#d8576b\"],[0.6666666666666666,\"#ed7953\"],[0.7777777777777778,\"#fb9f3a\"],[0.8888888888888888,\"#fdca26\"],[1.0,\"#f0f921\"]]}],\"mesh3d\":[{\"type\":\"mesh3d\",\"colorbar\":{\"outlinewidth\":0,\"ticks\":\"\"}}],\"scatter\":[{\"fillpattern\":{\"fillmode\":\"overlay\",\"size\":10,\"solidity\":0.2},\"type\":\"scatter\"}],\"parcoords\":[{\"type\":\"parcoords\",\"line\":{\"colorbar\":{\"outlinewidth\":0,\"ticks\":\"\"}}}],\"scatterpolargl\":[{\"type\":\"scatterpolargl\",\"marker\":{\"colorbar\":{\"outlinewidth\":0,\"ticks\":\"\"}}}],\"bar\":[{\"error_x\":{\"color\":\"#2a3f5f\"},\"error_y\":{\"color\":\"#2a3f5f\"},\"marker\":{\"line\":{\"color\":\"#E5ECF6\",\"width\":0.5},\"pattern\":{\"fillmode\":\"overlay\",\"size\":10,\"solidity\":0.2}},\"type\":\"bar\"}],\"scattergeo\":[{\"type\":\"scattergeo\",\"marker\":{\"colorbar\":{\"outlinewidth\":0,\"ticks\":\"\"}}}],\"scatterpolar\":[{\"type\":\"scatterpolar\",\"marker\":{\"colorbar\":{\"outlinewidth\":0,\"ticks\":\"\"}}}],\"histogram\":[{\"marker\":{\"pattern\":{\"fillmode\":\"overlay\",\"size\":10,\"solidity\":0.2}},\"type\":\"histogram\"}],\"scattergl\":[{\"type\":\"scattergl\",\"marker\":{\"colorbar\":{\"outlinewidth\":0,\"ticks\":\"\"}}}],\"scatter3d\":[{\"type\":\"scatter3d\",\"line\":{\"colorbar\":{\"outlinewidth\":0,\"ticks\":\"\"}},\"marker\":{\"colorbar\":{\"outlinewidth\":0,\"ticks\":\"\"}}}],\"scattermapbox\":[{\"type\":\"scattermapbox\",\"marker\":{\"colorbar\":{\"outlinewidth\":0,\"ticks\":\"\"}}}],\"scatterternary\":[{\"type\":\"scatterternary\",\"marker\":{\"colorbar\":{\"outlinewidth\":0,\"ticks\":\"\"}}}],\"scattercarpet\":[{\"type\":\"scattercarpet\",\"marker\":{\"colorbar\":{\"outlinewidth\":0,\"ticks\":\"\"}}}],\"carpet\":[{\"aaxis\":{\"endlinecolor\":\"#2a3f5f\",\"gridcolor\":\"white\",\"linecolor\":\"white\",\"minorgridcolor\":\"white\",\"startlinecolor\":\"#2a3f5f\"},\"baxis\":{\"endlinecolor\":\"#2a3f5f\",\"gridcolor\":\"white\",\"linecolor\":\"white\",\"minorgridcolor\":\"white\",\"startlinecolor\":\"#2a3f5f\"},\"type\":\"carpet\"}],\"table\":[{\"cells\":{\"fill\":{\"color\":\"#EBF0F8\"},\"line\":{\"color\":\"white\"}},\"header\":{\"fill\":{\"color\":\"#C8D4E3\"},\"line\":{\"color\":\"white\"}},\"type\":\"table\"}],\"barpolar\":[{\"marker\":{\"line\":{\"color\":\"#E5ECF6\",\"width\":0.5},\"pattern\":{\"fillmode\":\"overlay\",\"size\":10,\"solidity\":0.2}},\"type\":\"barpolar\"}],\"pie\":[{\"automargin\":true,\"type\":\"pie\"}]},\"layout\":{\"autotypenumbers\":\"strict\",\"colorway\":[\"#636efa\",\"#EF553B\",\"#00cc96\",\"#ab63fa\",\"#FFA15A\",\"#19d3f3\",\"#FF6692\",\"#B6E880\",\"#FF97FF\",\"#FECB52\"],\"font\":{\"color\":\"#2a3f5f\"},\"hovermode\":\"closest\",\"hoverlabel\":{\"align\":\"left\"},\"paper_bgcolor\":\"white\",\"plot_bgcolor\":\"#E5ECF6\",\"polar\":{\"bgcolor\":\"#E5ECF6\",\"angularaxis\":{\"gridcolor\":\"white\",\"linecolor\":\"white\",\"ticks\":\"\"},\"radialaxis\":{\"gridcolor\":\"white\",\"linecolor\":\"white\",\"ticks\":\"\"}},\"ternary\":{\"bgcolor\":\"#E5ECF6\",\"aaxis\":{\"gridcolor\":\"white\",\"linecolor\":\"white\",\"ticks\":\"\"},\"baxis\":{\"gridcolor\":\"white\",\"linecolor\":\"white\",\"ticks\":\"\"},\"caxis\":{\"gridcolor\":\"white\",\"linecolor\":\"white\",\"ticks\":\"\"}},\"coloraxis\":{\"colorbar\":{\"outlinewidth\":0,\"ticks\":\"\"}},\"colorscale\":{\"sequential\":[[0.0,\"#0d0887\"],[0.1111111111111111,\"#46039f\"],[0.2222222222222222,\"#7201a8\"],[0.3333333333333333,\"#9c179e\"],[0.4444444444444444,\"#bd3786\"],[0.5555555555555556,\"#d8576b\"],[0.6666666666666666,\"#ed7953\"],[0.7777777777777778,\"#fb9f3a\"],[0.8888888888888888,\"#fdca26\"],[1.0,\"#f0f921\"]],\"sequentialminus\":[[0.0,\"#0d0887\"],[0.1111111111111111,\"#46039f\"],[0.2222222222222222,\"#7201a8\"],[0.3333333333333333,\"#9c179e\"],[0.4444444444444444,\"#bd3786\"],[0.5555555555555556,\"#d8576b\"],[0.6666666666666666,\"#ed7953\"],[0.7777777777777778,\"#fb9f3a\"],[0.8888888888888888,\"#fdca26\"],[1.0,\"#f0f921\"]],\"diverging\":[[0,\"#8e0152\"],[0.1,\"#c51b7d\"],[0.2,\"#de77ae\"],[0.3,\"#f1b6da\"],[0.4,\"#fde0ef\"],[0.5,\"#f7f7f7\"],[0.6,\"#e6f5d0\"],[0.7,\"#b8e186\"],[0.8,\"#7fbc41\"],[0.9,\"#4d9221\"],[1,\"#276419\"]]},\"xaxis\":{\"gridcolor\":\"white\",\"linecolor\":\"white\",\"ticks\":\"\",\"title\":{\"standoff\":15},\"zerolinecolor\":\"white\",\"automargin\":true,\"zerolinewidth\":2},\"yaxis\":{\"gridcolor\":\"white\",\"linecolor\":\"white\",\"ticks\":\"\",\"title\":{\"standoff\":15},\"zerolinecolor\":\"white\",\"automargin\":true,\"zerolinewidth\":2},\"scene\":{\"xaxis\":{\"backgroundcolor\":\"#E5ECF6\",\"gridcolor\":\"white\",\"linecolor\":\"white\",\"showbackground\":true,\"ticks\":\"\",\"zerolinecolor\":\"white\",\"gridwidth\":2},\"yaxis\":{\"backgroundcolor\":\"#E5ECF6\",\"gridcolor\":\"white\",\"linecolor\":\"white\",\"showbackground\":true,\"ticks\":\"\",\"zerolinecolor\":\"white\",\"gridwidth\":2},\"zaxis\":{\"backgroundcolor\":\"#E5ECF6\",\"gridcolor\":\"white\",\"linecolor\":\"white\",\"showbackground\":true,\"ticks\":\"\",\"zerolinecolor\":\"white\",\"gridwidth\":2}},\"shapedefaults\":{\"line\":{\"color\":\"#2a3f5f\"}},\"annotationdefaults\":{\"arrowcolor\":\"#2a3f5f\",\"arrowhead\":0,\"arrowwidth\":1},\"geo\":{\"bgcolor\":\"white\",\"landcolor\":\"#E5ECF6\",\"subunitcolor\":\"white\",\"showland\":true,\"showlakes\":true,\"lakecolor\":\"white\"},\"title\":{\"x\":0.05},\"mapbox\":{\"style\":\"light\"}}},\"xaxis\":{\"anchor\":\"y\",\"domain\":[0.0,1.0],\"title\":{\"text\":\"city\"},\"tickangle\":-45},\"yaxis\":{\"anchor\":\"x\",\"domain\":[0.0,1.0],\"title\":{\"text\":\"temperature_c\"}},\"coloraxis\":{\"colorbar\":{\"title\":{\"text\":\"Temperatura (\\u00b0C)\"}},\"colorscale\":[[0.0,\"rgb(165,0,38)\"],[0.1,\"rgb(215,48,39)\"],[0.2,\"rgb(244,109,67)\"],[0.3,\"rgb(253,174,97)\"],[0.4,\"rgb(254,224,144)\"],[0.5,\"rgb(255,255,191)\"],[0.6,\"rgb(224,243,248)\"],[0.7,\"rgb(171,217,233)\"],[0.8,\"rgb(116,173,209)\"],[0.9,\"rgb(69,117,180)\"],[1.0,\"rgb(49,54,149)\"]]},\"legend\":{\"tracegroupgap\":0},\"title\":{\"text\":\"Temperatura atual por capital (com valores)\"},\"barmode\":\"relative\"},                        {\"responsive\": true}                    )                };                            </script>        </div>\n",
       "</body>\n",
       "</html>"
      ]
     },
     "metadata": {},
     "output_type": "display_data"
    },
    {
     "name": "stdout",
     "output_type": "stream",
     "text": [
      "Gráficos salvos em: /tmp/pipeline_api/data/reports\n"
     ]
    }
   ],
   "source": [
    "# === Passo 8 — Visualizações ===\n",
    "import os\n",
    "import pyarrow.dataset as ds\n",
    "import pandas as pd\n",
    "import plotly.express as px\n",
    "\n",
    "# garante o caminho do parquet final\n",
    "try:\n",
    "    OUT_FINAL\n",
    "except NameError:\n",
    "    OUT_FINAL = os.path.join(PROC_DIR, \"weather_countries.parquet\")\n",
    "\n",
    "# carrega o dataset final\n",
    "dataset_final = ds.dataset(OUT_FINAL, format=\"parquet\")\n",
    "viz_df = dataset_final.to_table().to_pandas()\n",
    "\n",
    "# (opcional) remove linhas 100% duplicadas, caso reexecute o join\n",
    "viz_df = viz_df.drop_duplicates()\n",
    "\n",
    "# --- Gráfico 1 (novo): Temperatura × Umidade (colorindo por região) ---\n",
    "# --- Gráfico 1 (ajustado com rótulo da cidade) ---\n",
    "fig1 = px.scatter(\n",
    "    viz_df,\n",
    "    x=\"temperature_c\",\n",
    "    y=\"humidity\",\n",
    "    color=\"city\",                \n",
    "    hover_name=\"city\",\n",
    "    hover_data=[\"temperature_c\",\"humidity\",\"humidity_category\",\"timestamp\"],\n",
    "    text=\"city\",  # <<< adiciona rótulo no ponto\n",
    "    title=\"Temperatura (°C) × Umidade (%) — Capitais BR\"\n",
    ")\n",
    "fig1.update_traces(textposition=\"top center\")  # posição do texto em relação ao ponto\n",
    "fig1.update_xaxes(title=\"Temperatura (°C)\")\n",
    "fig1.update_yaxes(title=\"Umidade (%)\", range=[0, 100])\n",
    "\n",
    "# faixa de conforto 30–60%\n",
    "fig1.add_hrect(\n",
    "    y0=30, y1=60,\n",
    "    line_width=0, fillcolor=\"LightGreen\", opacity=0.2,\n",
    "    annotation_text=\"Faixa de conforto (30–60%)\", annotation_position=\"top left\"\n",
    ")\n",
    "\n",
    "fig1.show()\n",
    "\n",
    "\n",
    "# --- Gráfico 2: Barras - Temperatura atual por capital (com escala de cores) ---\n",
    "fig2 = px.bar(\n",
    "    viz_df.sort_values(\"temperature_c\", ascending=False),\n",
    "    x=\"city\",\n",
    "    y=\"temperature_c\",\n",
    "    color=\"temperature_c\",\n",
    "    color_continuous_scale=\"RdYlBu\",   # azul = frio | vermelho = quente\n",
    "    text=\"temperature_c\",\n",
    "    title=\"Temperatura atual por capital (com valores)\"\n",
    ")\n",
    "fig2.update_traces(texttemplate=\"%{text:.1f}°C\", textposition=\"outside\")\n",
    "fig2.update_layout(xaxis_tickangle=-45, coloraxis_colorbar=dict(title=\"Temperatura (°C)\"))\n",
    "fig2.show()\n",
    "\n",
    "# salvar em HTML\n",
    "os.makedirs(REP_DIR, exist_ok=True)\n",
    "fig1.write_html(os.path.join(REP_DIR, \"scatter_temp_humidity.html\"))\n",
    "fig2.write_html(os.path.join(REP_DIR, \"bar_temperature_by_city.html\"))\n",
    "print(\"Gráficos salvos em:\", REP_DIR)"
   ]
  },
  {
   "cell_type": "markdown",
   "metadata": {
    "application/vnd.databricks.v1+cell": {
     "cellMetadata": {},
     "inputWidgets": {},
     "nuid": "9be977a2-3295-41d6-a5bd-a31bbef78694",
     "showTitle": false,
     "tableResultSettingsMap": {},
     "title": ""
    }
   },
   "source": [
    "## 9- 📂 Estrutura Final — **Raw / Processed / Reports**\n"
   ]
  },
  {
   "cell_type": "code",
   "execution_count": 0,
   "metadata": {
    "application/vnd.databricks.v1+cell": {
     "cellMetadata": {
      "byteLimit": 2048000,
      "rowLimit": 10000
     },
     "inputWidgets": {},
     "nuid": "751ec4a9-62fc-456f-a985-ed5482a66428",
     "showTitle": false,
     "tableResultSettingsMap": {},
     "title": ""
    }
   },
   "outputs": [
    {
     "name": "stdout",
     "output_type": "stream",
     "text": [
      "pipeline_api/\n",
      "  data/\n",
      "    raw/\n",
      "      weather_Macapa_20250825_234525.json\n",
      "      weather_Cuiaba_20250825_234525.json\n",
      "      weather_Curitiba_20250825_234525.json\n",
      "      weather_Belem_20250825_234525.json\n",
      "      weather_Teresina_20250825_234525.json\n",
      "      weather_Vitoria_20250825_234525.json\n",
      "      weather_RioBranco_20250825_234525.json\n",
      "      weather_BoaVista_20250825_234525.json\n",
      "      weather_Salvador_20250825_234525.json\n",
      "      weather_Brasilia_20250825_234525.json\n",
      "      weather_CampoGrande_20250825_234525.json\n",
      "      weather_Goiania_20250825_234525.json\n",
      "      weather_PortoAlegre_20250825_234525.json\n",
      "      weather_SaoPaulo_20250825_234525.json\n",
      "      weather_JoaoPessoa_20250825_234525.json\n",
      "      weather_Fortaleza_20250825_234525.json\n",
      "      weather_PortoVelho_20250825_234525.json\n",
      "      weather_Manaus_20250825_234525.json\n",
      "      weather_Florianopolis_20250825_234525.json\n",
      "      weather_RiodeJaneiro_20250825_234525.json\n",
      "      weather_Palmas_20250825_234525.json\n",
      "      weather_Maceio_20250825_234525.json\n",
      "      weather_Natal_20250825_234525.json\n",
      "      weather_Recife_20250825_234525.json\n",
      "      weather_Aracaju_20250825_234525.json\n",
      "      weather_SaoLuis_20250825_234525.json\n",
      "      weather_BeloHorizonte_20250825_234525.json\n",
      "    processed/\n",
      "      weather_only.parquet/\n",
      "        2025/\n",
      "          8/\n",
      "            part-0.parquet\n",
      "      weather_countries.parquet/\n",
      "        2025/\n",
      "          8/\n",
      "            part-0.parquet\n",
      "    reports/\n",
      "      quality_weather_countries_20250825_234525.json\n",
      "      bar_temperature_by_city.html\n",
      "      quality_weather_20250825_234525.json\n",
      "      scatter_temp_humidity.html\n"
     ]
    }
   ],
   "source": [
    "# === Passo 9 — Estrutura Final ===\n",
    "for root, dirs, files in os.walk(BASE_DIR):\n",
    "    level = root.replace(BASE_DIR, \"\").count(os.sep)\n",
    "    indent = \" \" * (2 * level)\n",
    "    print(f\"{indent}{os.path.basename(root)}/\")\n",
    "    subindent = \" \" * (2 * (level + 1))\n",
    "    for f in files:\n",
    "        print(f\"{subindent}{f}\")"
   ]
  },
  {
   "cell_type": "markdown",
   "metadata": {
    "application/vnd.databricks.v1+cell": {
     "cellMetadata": {},
     "inputWidgets": {},
     "nuid": "9f2aa35a-2e94-4db2-b7a4-b427b5d1c3fd",
     "showTitle": false,
     "tableResultSettingsMap": {},
     "title": ""
    }
   },
   "source": [
    "## 10- 📦 Empacotamento Final — **ZIP do Projeto**"
   ]
  },
  {
   "cell_type": "code",
   "execution_count": 0,
   "metadata": {
    "application/vnd.databricks.v1+cell": {
     "cellMetadata": {
      "byteLimit": 2048000,
      "rowLimit": 10000
     },
     "inputWidgets": {},
     "nuid": "4b0fdf8e-c14c-460b-b89d-ec2040a20f13",
     "showTitle": false,
     "tableResultSettingsMap": {},
     "title": ""
    }
   },
   "outputs": [
    {
     "name": "stdout",
     "output_type": "stream",
     "text": [
      "ZIP gerado em: /tmp/pipeline_output.zip\n"
     ]
    }
   ],
   "source": [
    "import shutil, os\n",
    "ZIP_TARGET = \"/tmp/pipeline_output\"\n",
    "BASE_DIR = \"/tmp/pipeline_api\"  # raiz onde está data/raw, processed, reports\n",
    "shutil.make_archive(ZIP_TARGET, \"zip\", BASE_DIR)\n",
    "print(\"ZIP gerado em:\", ZIP_TARGET + \".zip\")"
   ]
  }
 ],
 "metadata": {
  "application/vnd.databricks.v1+notebook": {
   "computePreferences": null,
   "dashboards": [],
   "environmentMetadata": {
    "base_environment": "",
    "environment_version": "3"
   },
   "inputWidgetPreferences": null,
   "language": "python",
   "notebookMetadata": {
    "pythonIndentUnit": 4
   },
   "notebookName": "Projeto Prático — Pipeline de Dados em Python",
   "widgets": {}
  },
  "language_info": {
   "name": "python"
  }
 },
 "nbformat": 4,
 "nbformat_minor": 0
}
